{
  "nbformat": 4,
  "nbformat_minor": 0,
  "metadata": {
    "kernelspec": {
      "name": "python3",
      "display_name": "Python 3"
    },
    "colab": {
      "name": "CatalanULMFit.ipynb",
      "provenance": [],
      "collapsed_sections": []
    },
    "accelerator": "GPU"
  },
  "cells": [
    {
      "cell_type": "markdown",
      "metadata": {
        "id": "nWfh0QSIA24V",
        "colab_type": "text"
      },
      "source": [
        "## Instal·lant dependències"
      ]
    },
    {
      "cell_type": "code",
      "metadata": {
        "scrolled": true,
        "id": "rGBxlxrGA24V",
        "colab_type": "code",
        "colab": {}
      },
      "source": [
        "import os\n",
        "from fastai import *\n",
        "from fastai.text import *\n",
        "from gensim.corpora import WikiCorpus\n",
        "\n",
        "import numpy as np\n",
        "import pandas as pd\n",
        "\n",
        "from pathlib import Path\n",
        "from functools import partial"
      ],
      "execution_count": null,
      "outputs": []
    },
    {
      "cell_type": "code",
      "metadata": {
        "id": "7nv_BhdZxivY",
        "colab_type": "code",
        "colab": {
          "base_uri": "https://localhost:8080/",
          "height": 283
        },
        "outputId": "7b18abba-8e4a-4229-e6ef-eca7ad9231b6"
      },
      "source": [
        "!pip install sacremoses"
      ],
      "execution_count": null,
      "outputs": [
        {
          "output_type": "stream",
          "text": [
            "Collecting sacremoses\n",
            "\u001b[?25l  Downloading https://files.pythonhosted.org/packages/7d/34/09d19aff26edcc8eb2a01bed8e98f13a1537005d31e95233fd48216eed10/sacremoses-0.0.43.tar.gz (883kB)\n",
            "\u001b[K     |████████████████████████████████| 890kB 6.6MB/s \n",
            "\u001b[?25hRequirement already satisfied: regex in /usr/local/lib/python3.6/dist-packages (from sacremoses) (2019.12.20)\n",
            "Requirement already satisfied: six in /usr/local/lib/python3.6/dist-packages (from sacremoses) (1.15.0)\n",
            "Requirement already satisfied: click in /usr/local/lib/python3.6/dist-packages (from sacremoses) (7.1.2)\n",
            "Requirement already satisfied: joblib in /usr/local/lib/python3.6/dist-packages (from sacremoses) (0.16.0)\n",
            "Requirement already satisfied: tqdm in /usr/local/lib/python3.6/dist-packages (from sacremoses) (4.41.1)\n",
            "Building wheels for collected packages: sacremoses\n",
            "  Building wheel for sacremoses (setup.py) ... \u001b[?25l\u001b[?25hdone\n",
            "  Created wheel for sacremoses: filename=sacremoses-0.0.43-cp36-none-any.whl size=893260 sha256=8d2f01e67e811af88ac648be384913e7ed04d25a9f8240769115f64da5ffc6f3\n",
            "  Stored in directory: /root/.cache/pip/wheels/29/3c/fd/7ce5c3f0666dab31a50123635e6fb5e19ceb42ce38d4e58f45\n",
            "Successfully built sacremoses\n",
            "Installing collected packages: sacremoses\n",
            "Successfully installed sacremoses-0.0.43\n"
          ],
          "name": "stdout"
        }
      ]
    },
    {
      "cell_type": "code",
      "metadata": {
        "id": "-1IshZaaA24X",
        "colab_type": "code",
        "colab": {
          "base_uri": "https://localhost:8080/",
          "height": 372
        },
        "outputId": "f6a7d0bc-5674-444b-c1cf-9aa936ca3fa5"
      },
      "source": [
        "!nvidia-smi"
      ],
      "execution_count": null,
      "outputs": [
        {
          "output_type": "stream",
          "text": [
            "Fri Aug 21 11:44:41 2020       \n",
            "+-----------------------------------------------------------------------------+\n",
            "| NVIDIA-SMI 450.57       Driver Version: 418.67       CUDA Version: 10.1     |\n",
            "|-------------------------------+----------------------+----------------------+\n",
            "| GPU  Name        Persistence-M| Bus-Id        Disp.A | Volatile Uncorr. ECC |\n",
            "| Fan  Temp  Perf  Pwr:Usage/Cap|         Memory-Usage | GPU-Util  Compute M. |\n",
            "|                               |                      |               MIG M. |\n",
            "|===============================+======================+======================|\n",
            "|   0  Tesla K80           Off  | 00000000:00:04.0 Off |                    0 |\n",
            "| N/A   72C    P8    35W / 149W |     11MiB / 11441MiB |      0%      Default |\n",
            "|                               |                      |                 ERR! |\n",
            "+-------------------------------+----------------------+----------------------+\n",
            "                                                                               \n",
            "+-----------------------------------------------------------------------------+\n",
            "| Processes:                                                                  |\n",
            "|  GPU   GI   CI        PID   Type   Process name                  GPU Memory |\n",
            "|        ID   ID                                                   Usage      |\n",
            "|=============================================================================|\n",
            "|  No running processes found                                                 |\n",
            "+-----------------------------------------------------------------------------+\n"
          ],
          "name": "stdout"
        }
      ]
    },
    {
      "cell_type": "markdown",
      "metadata": {
        "id": "NP84DdEwd39J",
        "colab_type": "text"
      },
      "source": [
        "## Descarreguem el Wikipedia dump en català"
      ]
    },
    {
      "cell_type": "code",
      "metadata": {
        "id": "l3Ryq09yyB9X",
        "colab_type": "code",
        "colab": {}
      },
      "source": [
        "!rm -rf data/wiki_extr\n",
        "!rm -rf wikiextractor/ WikiExtractor.py"
      ],
      "execution_count": null,
      "outputs": []
    },
    {
      "cell_type": "code",
      "metadata": {
        "id": "UEMQy-CdNq5L",
        "colab_type": "code",
        "colab": {
          "base_uri": "https://localhost:8080/",
          "height": 994
        },
        "outputId": "b172b012-8bab-48bc-cfec-bf3482f9b0e5"
      },
      "source": [
        "!sh get_wikimedia.sh"
      ],
      "execution_count": null,
      "outputs": [
        {
          "output_type": "stream",
          "text": [
            "Saving data in data\n",
            "Chosen language: ca\n",
            "Starting download...\n",
            "--2020-08-21 11:45:17--  https://dumps.wikimedia.org/cawiki/latest/cawiki-latest-pages-articles.xml.bz2\n",
            "Resolving dumps.wikimedia.org (dumps.wikimedia.org)... 208.80.154.7, 2620:0:861:1:208:80:154:7\n",
            "Connecting to dumps.wikimedia.org (dumps.wikimedia.org)|208.80.154.7|:443... connected.\n",
            "HTTP request sent, awaiting response... 200 OK\n",
            "Length: 899327837 (858M) [application/octet-stream]\n",
            "Saving to: 'data/wiki_dumps/cawiki-latest-pages-articles.xml.bz2'\n",
            "\n",
            "cawiki-latest-pages 100%[===================>] 857.67M  4.86MB/s    in 2m 57s  \n",
            "\n",
            "2020-08-21 11:48:14 (4.86 MB/s) - 'data/wiki_dumps/cawiki-latest-pages-articles.xml.bz2' saved [899327837/899327837]\n",
            "\n",
            "Cloning into 'wikiextractor'...\n",
            "remote: Enumerating objects: 4, done.\u001b[K\n",
            "remote: Counting objects: 100% (4/4), done.\u001b[K\n",
            "remote: Compressing objects: 100% (4/4), done.\u001b[K\n",
            "remote: Total 661 (delta 0), reused 0 (delta 0), pack-reused 657\u001b[K\n",
            "Receiving objects: 100% (661/661), 1.27 MiB | 2.92 MiB/s, done.\n",
            "Resolving deltas: 100% (374/374), done.\n",
            "Note: checking out '9cf2a2a883fc8e2146ff8df234d036e695df1be4'.\n",
            "\n",
            "You are in 'detached HEAD' state. You can look around, make experimental\n",
            "changes and commit them, and you can discard any commits you make in this\n",
            "state without impacting any branches by performing another checkout.\n",
            "\n",
            "If you want to create a new branch to retain commits you create, you may\n",
            "do so (now or later) by using -b with the checkout command again. Example:\n",
            "\n",
            "  git checkout -b <new-branch-name>\n",
            "\n",
            "HEAD is now at 9cf2a2a add feature filtering by category of wiki\n",
            "Extracting data/wiki_dumps/cawiki-latest-pages-articles.xml.bz2 to data/wiki_extr/ca...\n",
            "WARNING: Template errors in article 'P (complexitat)' (124631): title(2) recursion(0, 0, 0)\n",
            "WARNING: Template errors in article 'Joaquim Manuel de Moner i de Siscar' (653508): title(1) recursion(0, 0, 0)\n",
            "WARNING: Template errors in article 'Varegs' (669888): title(1) recursion(0, 0, 0)\n",
            "WARNING: Template errors in article 'Senyal horari' (670666): title(6) recursion(0, 0, 0)\n",
            "WARNING: Template errors in article 'Sensor CCD' (720483): title(1) recursion(0, 0, 0)\n",
            "WARNING: Template errors in article 'Far (automoci\\xf3)' (753943): title(1) recursion(0, 0, 0)\n",
            "WARNING: Template errors in article 'Norbert Schemansky' (803899): title(1) recursion(0, 0, 0)\n",
            "WARNING: Template errors in article 'Tortuga de Horsfield' (807705): title(3) recursion(0, 0, 0)\n",
            "WARNING: Template errors in article 'Prov\\xedncia d'\\xd6v\\xf6rkhangai' (829778): title(5) recursion(0, 0, 0)\n",
            "WARNING: Template errors in article 'R\\xe8tol de ne\\xf3' (966345): title(2) recursion(0, 0, 0)\n",
            "WARNING: Template errors in article 'Once Upon a Time' (968977): title(1) recursion(0, 0, 0)\n",
            "WARNING: Template errors in article 'B\\xe0squet als Jocs Ol\\xedmpics d'estiu de 2012' (1004177): title(115) recursion(0, 0, 0)\n",
            "WARNING: Template errors in article 'Albert Girard' (1161376): title(1) recursion(0, 0, 0)\n",
            "WARNING: Template errors in article 'Escacat (&quot;Taquejat jaqu\\xe8s&quot;)' (1283589): title(1) recursion(0, 0, 0)\n",
            "WARNING: Template errors in article 'Segellat de temps' (1298846): title(1) recursion(0, 0, 0)\n",
            "WARNING: Template errors in article 'LSE (llenguatge)' (1358601): title(3) recursion(0, 0, 0)\n",
            "WARNING: Template errors in article 'F\\xf3rmula de Stirling' (1438250): title(1) recursion(0, 0, 0)\n",
            "WARNING: Template errors in article 'AngularJS' (1500632): title(1) recursion(0, 0, 0)\n",
            "WARNING: Template errors in article 'BQP (complexitat)' (1630407): title(2) recursion(0, 0, 0)\n",
            "WARNING: Template errors in article 'Llei sobre la Bandera i l'Himne Nacional (Jap\\xf3)' (1678260): title(1) recursion(0, 0, 0)\n",
            "WARNING: Template errors in article 'Festival de la Can\\xe7\\xf3 d'Eurovisi\\xf3 2020' (1692867): title(1) recursion(0, 0, 0)\n"
          ],
          "name": "stdout"
        }
      ]
    },
    {
      "cell_type": "code",
      "metadata": {
        "id": "JPQn4ydbQZJl",
        "colab_type": "code",
        "colab": {}
      },
      "source": [
        "name = 'CatalanULMFit'\n",
        "model_dir = 'models'\n",
        "model_dir = Path(model_dir)\n",
        "model_dir.mkdir(exist_ok=True)"
      ],
      "execution_count": null,
      "outputs": []
    },
    {
      "cell_type": "markdown",
      "metadata": {
        "id": "zIUK4zt2eLCR",
        "colab_type": "text"
      },
      "source": [
        "Creem el corpus"
      ]
    },
    {
      "cell_type": "code",
      "metadata": {
        "id": "ooYbrQWaoePg",
        "colab_type": "code",
        "colab": {
          "base_uri": "https://localhost:8080/",
          "height": 34
        },
        "outputId": "c9e2c908-a655-4183-aa0f-238e28c4940e"
      },
      "source": [
        "!ls data/wiki_extr/ca"
      ],
      "execution_count": null,
      "outputs": [
        {
          "output_type": "stream",
          "text": [
            "AA  AB\tAC  AD\tAE  AF\tAG  AH\tAI  AJ\tAK  AL\tAM\n"
          ],
          "name": "stdout"
        }
      ]
    },
    {
      "cell_type": "code",
      "metadata": {
        "id": "i4knTPiEpiCU",
        "colab_type": "code",
        "colab": {
          "base_uri": "https://localhost:8080/",
          "height": 550
        },
        "outputId": "d65043dd-0d4f-43ad-9400-52692037a0ed"
      },
      "source": [
        "!python create_wikiText.py -i data/wiki_extr/ca -o data/wiki -l ca"
      ],
      "execution_count": null,
      "outputs": [
        {
          "output_type": "stream",
          "text": [
            "Writing to data/wiki/ca-2/ca.wiki.train.tokens...\n",
            "data/wiki/ca-2/ca.wiki.train.tokens. # documents: 6,499. # tokens: 2,000,114.\n",
            "Copying data/wiki/ca-2/ca.wiki.train.tokens to data/wiki/ca-100/ca.wiki.train.tokens.\n",
            "Writing to data/wiki/ca-2/ca.wiki.valid.tokens...\n",
            "data/wiki/ca-2/ca.wiki.valid.tokens. # documents: 788. # tokens: 200,027.\n",
            "Copying data/wiki/ca-2/ca.wiki.valid.tokens to data/wiki/ca-100/ca.wiki.valid.tokens.\n",
            "Writing to data/wiki/ca-2/ca.wiki.test.tokens...\n",
            "data/wiki/ca-2/ca.wiki.test.tokens. # documents: 640. # tokens: 200,178.\n",
            "Copying data/wiki/ca-2/ca.wiki.test.tokens to data/wiki/ca-100/ca.wiki.test.tokens.\n",
            "Writing to data/wiki/ca-100/ca.wiki.train.tokens...\n",
            "Processed 10,000 documents. Total # tokens: 3,198,401.\n",
            "Processed 30,000 documents. Total # tokens: 9,673,988.\n",
            "Processed 40,000 documents. Total # tokens: 13,008,520.\n",
            "Processed 50,000 documents. Total # tokens: 16,326,644.\n",
            "Processed 60,000 documents. Total # tokens: 19,503,057.\n",
            "Processed 90,000 documents. Total # tokens: 28,315,001.\n",
            "Processed 100,000 documents. Total # tokens: 31,066,394.\n",
            "Processed 120,000 documents. Total # tokens: 37,067,559.\n",
            "Processed 130,000 documents. Total # tokens: 41,744,310.\n",
            "Processed 140,000 documents. Total # tokens: 46,043,140.\n",
            "Processed 150,000 documents. Total # tokens: 50,467,852.\n",
            "Processed 160,000 documents. Total # tokens: 55,042,194.\n",
            "Processed 170,000 documents. Total # tokens: 59,093,965.\n",
            "Processed 180,000 documents. Total # tokens: 63,094,839.\n",
            "Processed 200,000 documents. Total # tokens: 70,725,290.\n",
            "Processed 210,000 documents. Total # tokens: 74,439,177.\n",
            "Processed 220,000 documents. Total # tokens: 79,584,731.\n",
            "Processed 230,000 documents. Total # tokens: 85,836,158.\n",
            "Processed 250,000 documents. Total # tokens: 97,355,077.\n",
            "data/wiki/ca-100/ca.wiki.train.tokens. # documents: 252,016. # tokens: 98,000,238.\n"
          ],
          "name": "stdout"
        }
      ]
    },
    {
      "cell_type": "code",
      "metadata": {
        "id": "5SBXoriPxLlL",
        "colab_type": "code",
        "colab": {
          "base_uri": "https://localhost:8080/",
          "height": 407
        },
        "outputId": "f60b523e-be16-4240-b1fb-42a834f0d193"
      },
      "source": [
        " !python postprocess_wikiText.py -i data/wiki -l ca"
      ],
      "execution_count": null,
      "outputs": [
        {
          "output_type": "stream",
          "text": [
            "Replacing numbers in data/wiki/ca-2/ca.wiki.train.tokens. Writing to data/wiki/ca-2/ca.wiki.train.tokens.unk.\n",
            "Replacing numbers in data/wiki/ca-2/ca.wiki.valid.tokens. Writing to data/wiki/ca-2/ca.wiki.valid.tokens.unk.\n",
            "Replacing numbers in data/wiki/ca-2/ca.wiki.test.tokens. Writing to data/wiki/ca-2/ca.wiki.test.tokens.unk.\n",
            "Replacing numbers in data/wiki/ca-100/ca.wiki.train.tokens. Writing to data/wiki/ca-100/ca.wiki.train.tokens.unk.\n",
            "Replacing numbers in data/wiki/ca-100/ca.wiki.valid.tokens. Writing to data/wiki/ca-100/ca.wiki.valid.tokens.unk.\n",
            "Replacing numbers in data/wiki/ca-100/ca.wiki.test.tokens. Writing to data/wiki/ca-100/ca.wiki.test.tokens.unk.\n",
            "OOV ratio: 0.0376.\n",
            "ca-2 vocab size: 32420\n",
            "OOV ratio: 0.0086.\n",
            "ca-100 vocab size: 400161\n",
            "Limiting vocab in data/wiki/ca-2/ca.wiki.train.tokens.unk. Writing to data/wiki/ca-2/ca.wiki.train.tokens.unk.\n",
            "ca.wiki.train.tokens.unk. # of tokens: 2054248\n",
            "Limiting vocab in data/wiki/ca-2/ca.wiki.valid.tokens.unk. Writing to data/wiki/ca-2/ca.wiki.valid.tokens.unk.\n",
            "ca.wiki.valid.tokens.unk. # of tokens: 207431\n",
            "Limiting vocab in data/wiki/ca-2/ca.wiki.test.tokens.unk. Writing to data/wiki/ca-2/ca.wiki.test.tokens.unk.\n",
            "ca.wiki.test.tokens.unk. # of tokens: 225004\n",
            "Limiting vocab in data/wiki/ca-100/ca.wiki.train.tokens.unk. Writing to data/wiki/ca-100/ca.wiki.train.tokens.unk.\n",
            "ca.wiki.train.tokens.unk. # of tokens: 101145977\n",
            "Limiting vocab in data/wiki/ca-100/ca.wiki.valid.tokens.unk. Writing to data/wiki/ca-100/ca.wiki.valid.tokens.unk.\n",
            "ca.wiki.valid.tokens.unk. # of tokens: 207431\n",
            "Limiting vocab in data/wiki/ca-100/ca.wiki.test.tokens.unk. Writing to data/wiki/ca-100/ca.wiki.test.tokens.unk.\n",
            "ca.wiki.test.tokens.unk. # of tokens: 225004\n"
          ],
          "name": "stdout"
        }
      ]
    },
    {
      "cell_type": "code",
      "metadata": {
        "id": "U_GLMGTOfKgO",
        "colab_type": "code",
        "colab": {}
      },
      "source": [
        "trn_path = Path('data/wiki/ca-2/ca.wiki.train.tokens')\n",
        "val_path = Path('data/wiki/ca-2/ca.wiki.valid.tokens')\n",
        "\n",
        "with open(trn_path, encoding='utf8') as f:\n",
        "  train = f.readlines()\n",
        "\n",
        "df_train = pd.DataFrame(\n",
        "  {'content': train},\n",
        "  columns=['content'])\n",
        "\n",
        "df_train['is_valid'] = 0\n",
        "\n",
        "with open(val_path, encoding='utf8') as f:\n",
        "      val = f.readlines()\n",
        "\n",
        "df_valid = pd.DataFrame(\n",
        "  {'content': val},\n",
        "  columns=['content'])\n",
        "\n",
        "df_valid['is_valid'] = 1\n",
        "\n",
        "\n",
        "df_regroup = pd.concat([df_train, df_valid])"
      ],
      "execution_count": null,
      "outputs": []
    },
    {
      "cell_type": "code",
      "metadata": {
        "id": "dJ8Qm1fjZu_N",
        "colab_type": "code",
        "colab": {
          "base_uri": "https://localhost:8080/",
          "height": 197
        },
        "outputId": "d79334c0-d778-482e-fbc6-770c7d43dc43"
      },
      "source": [
        "df_regroup.head()"
      ],
      "execution_count": null,
      "outputs": [
        {
          "output_type": "execute_result",
          "data": {
            "text/html": [
              "<div>\n",
              "<style scoped>\n",
              "    .dataframe tbody tr th:only-of-type {\n",
              "        vertical-align: middle;\n",
              "    }\n",
              "\n",
              "    .dataframe tbody tr th {\n",
              "        vertical-align: top;\n",
              "    }\n",
              "\n",
              "    .dataframe thead th {\n",
              "        text-align: right;\n",
              "    }\n",
              "</style>\n",
              "<table border=\"1\" class=\"dataframe\">\n",
              "  <thead>\n",
              "    <tr style=\"text-align: right;\">\n",
              "      <th></th>\n",
              "      <th>content</th>\n",
              "      <th>is_valid</th>\n",
              "    </tr>\n",
              "  </thead>\n",
              "  <tbody>\n",
              "    <tr>\n",
              "      <th>0</th>\n",
              "      <td>Milledgeville ( Illinois )\\n</td>\n",
              "      <td>0</td>\n",
              "    </tr>\n",
              "    <tr>\n",
              "      <th>1</th>\n",
              "      <td>\\n</td>\n",
              "      <td>0</td>\n",
              "    </tr>\n",
              "    <tr>\n",
              "      <th>2</th>\n",
              "      <td>Milledgeville és una població dels Estats Unit...</td>\n",
              "      <td>0</td>\n",
              "    </tr>\n",
              "    <tr>\n",
              "      <th>3</th>\n",
              "      <td>\\n</td>\n",
              "      <td>0</td>\n",
              "    </tr>\n",
              "    <tr>\n",
              "      <th>4</th>\n",
              "      <td>Demografia .\\n</td>\n",
              "      <td>0</td>\n",
              "    </tr>\n",
              "  </tbody>\n",
              "</table>\n",
              "</div>"
            ],
            "text/plain": [
              "                                             content  is_valid\n",
              "0                       Milledgeville ( Illinois )\\n         0\n",
              "1                                                 \\n         0\n",
              "2  Milledgeville és una població dels Estats Unit...         0\n",
              "3                                                 \\n         0\n",
              "4                                     Demografia .\\n         0"
            ]
          },
          "metadata": {
            "tags": []
          },
          "execution_count": 22
        }
      ]
    },
    {
      "cell_type": "code",
      "metadata": {
        "id": "dI1boonXZxTR",
        "colab_type": "code",
        "colab": {
          "base_uri": "https://localhost:8080/",
          "height": 197
        },
        "outputId": "8d090447-0235-4e6c-c171-23c72531815f"
      },
      "source": [
        "df_regroup = df_regroup[df_regroup.content != '\\n']\n",
        "df_regroup.head()"
      ],
      "execution_count": null,
      "outputs": [
        {
          "output_type": "execute_result",
          "data": {
            "text/html": [
              "<div>\n",
              "<style scoped>\n",
              "    .dataframe tbody tr th:only-of-type {\n",
              "        vertical-align: middle;\n",
              "    }\n",
              "\n",
              "    .dataframe tbody tr th {\n",
              "        vertical-align: top;\n",
              "    }\n",
              "\n",
              "    .dataframe thead th {\n",
              "        text-align: right;\n",
              "    }\n",
              "</style>\n",
              "<table border=\"1\" class=\"dataframe\">\n",
              "  <thead>\n",
              "    <tr style=\"text-align: right;\">\n",
              "      <th></th>\n",
              "      <th>content</th>\n",
              "      <th>is_valid</th>\n",
              "    </tr>\n",
              "  </thead>\n",
              "  <tbody>\n",
              "    <tr>\n",
              "      <th>0</th>\n",
              "      <td>Milledgeville ( Illinois )\\n</td>\n",
              "      <td>0</td>\n",
              "    </tr>\n",
              "    <tr>\n",
              "      <th>2</th>\n",
              "      <td>Milledgeville és una població dels Estats Unit...</td>\n",
              "      <td>0</td>\n",
              "    </tr>\n",
              "    <tr>\n",
              "      <th>4</th>\n",
              "      <td>Demografia .\\n</td>\n",
              "      <td>0</td>\n",
              "    </tr>\n",
              "    <tr>\n",
              "      <th>5</th>\n",
              "      <td>Segons el cens del 2000 , Milledgeville tenia ...</td>\n",
              "      <td>0</td>\n",
              "    </tr>\n",
              "    <tr>\n",
              "      <th>7</th>\n",
              "      <td>Dels 448 habitatges en un 27,5 % hi vivien nen...</td>\n",
              "      <td>0</td>\n",
              "    </tr>\n",
              "  </tbody>\n",
              "</table>\n",
              "</div>"
            ],
            "text/plain": [
              "                                             content  is_valid\n",
              "0                       Milledgeville ( Illinois )\\n         0\n",
              "2  Milledgeville és una població dels Estats Unit...         0\n",
              "4                                     Demografia .\\n         0\n",
              "5  Segons el cens del 2000 , Milledgeville tenia ...         0\n",
              "7  Dels 448 habitatges en un 27,5 % hi vivien nen...         0"
            ]
          },
          "metadata": {
            "tags": []
          },
          "execution_count": 23
        }
      ]
    },
    {
      "cell_type": "code",
      "metadata": {
        "id": "bbiV2q_cZtmS",
        "colab_type": "code",
        "colab": {}
      },
      "source": [
        "df_regroup.to_csv('data/wiki/full_train.csv', header=None, index=None)"
      ],
      "execution_count": null,
      "outputs": []
    },
    {
      "cell_type": "code",
      "metadata": {
        "id": "OJUo_MUY6au6",
        "colab_type": "code",
        "colab": {
          "base_uri": "https://localhost:8080/",
          "height": 16
        },
        "outputId": "a3bcbc25-5e22-4a13-a6d5-161616a22802"
      },
      "source": [
        "tokenizer = Tokenizer(lang='ca', n_cpus=6)\n",
        "data_lm_full = (TextList.from_csv('data/wiki', csv_name='full_train.csv', cols=0, processor=[TokenizeProcessor(tokenizer=tokenizer), NumericalizeProcessor(max_vocab=60000)])\n",
        "           #Inputs: all the text files in path\n",
        "            .split_from_df(col=1)\n",
        "           #We may have other temp folders that contain text files so we only keep what's in train and test\n",
        "            .label_for_lm()           \n",
        "           #We want to do a language model so we label accordingly\n",
        "            .databunch(bs=32))\n"
      ],
      "execution_count": null,
      "outputs": [
        {
          "output_type": "display_data",
          "data": {
            "text/html": [
              ""
            ],
            "text/plain": [
              "<IPython.core.display.HTML object>"
            ]
          },
          "metadata": {
            "tags": []
          }
        },
        {
          "output_type": "display_data",
          "data": {
            "text/html": [
              ""
            ],
            "text/plain": [
              "<IPython.core.display.HTML object>"
            ]
          },
          "metadata": {
            "tags": []
          }
        }
      ]
    },
    {
      "cell_type": "code",
      "metadata": {
        "id": "A3iAkSbc6b5f",
        "colab_type": "code",
        "colab": {
          "base_uri": "https://localhost:8080/",
          "height": 52
        },
        "outputId": "f934f1b3-605c-45a1-9c14-9a59d60a09ed"
      },
      "source": [
        "itos = data_lm_full.train_ds.vocab.itos\n",
        "print('Size of vocabulary:', len(itos))\n",
        "print('First 10 words in vocab:', ', '.join([itos[i] for i in range(10)]))"
      ],
      "execution_count": null,
      "outputs": [
        {
          "output_type": "stream",
          "text": [
            "Size of vocabulary: 30656\n",
            "First 10 words in vocab: xxunk, xxpad, xxbos, xxeos, xxfld, xxmaj, xxup, xxrep, xxwrep, de\n"
          ],
          "name": "stdout"
        }
      ]
    },
    {
      "cell_type": "code",
      "metadata": {
        "id": "8BOsNVQ1j87N",
        "colab_type": "code",
        "colab": {}
      },
      "source": [
        "data_lm_full.save('full_lm_30k')"
      ],
      "execution_count": null,
      "outputs": []
    },
    {
      "cell_type": "code",
      "metadata": {
        "id": "lninUmS0A24a",
        "colab_type": "code",
        "colab": {
          "base_uri": "https://localhost:8080/",
          "height": 34
        },
        "outputId": "d4f4d278-4e55-4e45-862a-7a1e830007a1"
      },
      "source": [
        "torch.cuda.is_available()"
      ],
      "execution_count": null,
      "outputs": [
        {
          "output_type": "execute_result",
          "data": {
            "text/plain": [
              "True"
            ]
          },
          "metadata": {
            "tags": []
          },
          "execution_count": 27
        }
      ]
    },
    {
      "cell_type": "markdown",
      "metadata": {
        "id": "i6MYpkF9A24d",
        "colab_type": "text"
      },
      "source": [
        "# Entrenar el Language Model"
      ]
    },
    {
      "cell_type": "markdown",
      "metadata": {
        "id": "WtXtjb_kA24d",
        "colab_type": "text"
      },
      "source": [
        "Hem usat com a dataset tot el text que s'ha trobat en el repositori https://github.com/Softcatala/ca-text-corpus. També hem provat d'entrenar amb un dataset creat a partir del script **./get_wikimedia.sh** però ens tornava un dataset massa brut. "
      ]
    },
    {
      "cell_type": "code",
      "metadata": {
        "id": "5RScd6CFA241",
        "colab_type": "code",
        "colab": {}
      },
      "source": [
        "learn = language_model_learner(data_lm_full,  arch=AWD_LSTM, drop_mult=0, callback_fns=ShowGraph)"
      ],
      "execution_count": null,
      "outputs": []
    },
    {
      "cell_type": "code",
      "metadata": {
        "id": "_l-U9Aq9A243",
        "colab_type": "code",
        "colab": {
          "base_uri": "https://localhost:8080/",
          "height": 34
        },
        "outputId": "83fb9f24-a329-40e2-ea1c-005a4a45cb65"
      },
      "source": [
        "# save vocabulary\n",
        "print('Saving vocabulary...')\n",
        "with open(os.path.join('data', 'itos.pkl'), 'wb') as f:\n",
        "    pickle.dump(itos, f)"
      ],
      "execution_count": null,
      "outputs": [
        {
          "output_type": "stream",
          "text": [
            "Saving vocabulary...\n"
          ],
          "name": "stdout"
        }
      ]
    },
    {
      "cell_type": "code",
      "metadata": {
        "id": "V8f1QFA-A249",
        "colab_type": "code",
        "colab": {
          "base_uri": "https://localhost:8080/",
          "height": 370
        },
        "outputId": "66b36bef-345e-48b6-b83e-6014fcb6fba2"
      },
      "source": [
        "data_lm_full.show_batch()"
      ],
      "execution_count": null,
      "outputs": [
        {
          "output_type": "stream",
          "text": [
            "/usr/local/lib/python3.6/dist-packages/fastai/text/data.py:339: UserWarning: This overload of nonzero is deprecated:\n",
            "\tnonzero()\n",
            "Consider using one of the following signatures instead:\n",
            "\tnonzero(*, bool as_tuple) (Triggered internally at  /pytorch/torch/csrc/utils/python_arg_parser.cpp:766.)\n",
            "  idx_min = (t != self.pad_idx).nonzero().min()\n"
          ],
          "name": "stderr"
        },
        {
          "output_type": "display_data",
          "data": {
            "text/html": [
              "<table border=\"1\" class=\"dataframe\">\n",
              "  <thead>\n",
              "    <tr style=\"text-align: right;\">\n",
              "      <th>idx</th>\n",
              "      <th>text</th>\n",
              "    </tr>\n",
              "  </thead>\n",
              "  <tbody>\n",
              "    <tr>\n",
              "      <td>0</td>\n",
              "      <td>km ² . \\n  xxbos xxmaj dels 448 habitatges en un 27,5 % hi vivien nens de menys de 18 anys , en un 55,6 % hi vivien parelles casades , en un 7,4 % dones solteres , i en un 34,6 % no eren unitats familiars . xxmaj en el 31,9 % dels habitatges hi vivien persones soles el 18,1 % de les quals corresponia a persones de</td>\n",
              "    </tr>\n",
              "    <tr>\n",
              "      <td>1</td>\n",
              "      <td>la seva xxmaj conferència , amb 106 punts . xxmaj després de guanyar en la fase final als xxmaj new xxmaj york xxmaj xxunk , els xxmaj montreal xxmaj canadiens i els xxmaj philadelphia xxmaj xxunk , els xxmaj tampa xxmaj bay xxmaj lightning es van proclamar campions de la xxmaj conferència xxmaj est i va aconseguir arribar per primera vegada en la seva història a la final de la</td>\n",
              "    </tr>\n",
              "    <tr>\n",
              "      <td>2</td>\n",
              "      <td>de les famílies i el 9,5 % de la població estaven per davall del llindar de pobresa . \\n  xxbos xxmaj poblacions properes . \\n  xxbos xxmaj el següent diagrama mostra les poblacions més properes . \\n  xxbos xxmaj simpson ( xxmaj illinois ) \\n  xxbos xxmaj simpson és una població dels xxmaj estats xxmaj units a l ' estat d ' xxmaj illinois . xxmaj</td>\n",
              "    </tr>\n",
              "    <tr>\n",
              "      <td>3</td>\n",
              "      <td>% entre 25 i 44 , un 18,9 % de 45 a 60 i un 9,8 % 65 anys o més . \\n  xxbos l ' edat mediana era de 32 anys . xxmaj per cada 100 dones de 18 o més anys hi havia 98,5 homes . \\n  xxbos xxmaj la renda mediana per habitatge era de xxunk $ i la renda mediana per família de xxunk</td>\n",
              "    </tr>\n",
              "    <tr>\n",
              "      <td>4</td>\n",
              "      <td>i el 12,3 % de la població estaven per davall del llindar de pobresa . \\n  xxbos xxmaj poblacions més properes . \\n  xxbos xxmaj el següent diagrama mostra les poblacions més properes . \\n  xxbos xxmaj crooksville \\n  xxbos xxmaj crooksville és una població dels xxmaj estats xxmaj units a l ' estat d ' xxmaj ohio . xxmaj segons el cens del 2000 tenia</td>\n",
              "    </tr>\n",
              "  </tbody>\n",
              "</table>"
            ],
            "text/plain": [
              "<IPython.core.display.HTML object>"
            ]
          },
          "metadata": {
            "tags": []
          }
        }
      ]
    },
    {
      "cell_type": "code",
      "metadata": {
        "scrolled": true,
        "id": "Vh0ppCLoA25B",
        "colab_type": "code",
        "colab": {
          "base_uri": "https://localhost:8080/",
          "height": 112
        },
        "outputId": "28ed01e1-5186-4997-8622-4c3001398ef8"
      },
      "source": [
        "learn.lr_find()"
      ],
      "execution_count": null,
      "outputs": [
        {
          "output_type": "display_data",
          "data": {
            "text/html": [
              "\n",
              "    <div>\n",
              "        <style>\n",
              "            /* Turns off some styling */\n",
              "            progress {\n",
              "                /* gets rid of default border in Firefox and Opera. */\n",
              "                border: none;\n",
              "                /* Needs to be in here for Safari polyfill so background images work as expected. */\n",
              "                background-size: auto;\n",
              "            }\n",
              "            .progress-bar-interrupted, .progress-bar-interrupted::-webkit-progress-bar {\n",
              "                background: #F44336;\n",
              "            }\n",
              "        </style>\n",
              "      <progress value='0' class='' max='1' style='width:300px; height:20px; vertical-align: middle;'></progress>\n",
              "      0.00% [0/1 00:00<00:00]\n",
              "    </div>\n",
              "    \n",
              "<table border=\"1\" class=\"dataframe\">\n",
              "  <thead>\n",
              "    <tr style=\"text-align: left;\">\n",
              "      <th>epoch</th>\n",
              "      <th>train_loss</th>\n",
              "      <th>valid_loss</th>\n",
              "      <th>accuracy</th>\n",
              "      <th>time</th>\n",
              "    </tr>\n",
              "  </thead>\n",
              "  <tbody>\n",
              "  </tbody>\n",
              "</table><p>\n",
              "\n",
              "    <div>\n",
              "        <style>\n",
              "            /* Turns off some styling */\n",
              "            progress {\n",
              "                /* gets rid of default border in Firefox and Opera. */\n",
              "                border: none;\n",
              "                /* Needs to be in here for Safari polyfill so background images work as expected. */\n",
              "                background-size: auto;\n",
              "            }\n",
              "            .progress-bar-interrupted, .progress-bar-interrupted::-webkit-progress-bar {\n",
              "                background: #F44336;\n",
              "            }\n",
              "        </style>\n",
              "      <progress value='99' class='' max='1012' style='width:300px; height:20px; vertical-align: middle;'></progress>\n",
              "      9.78% [99/1012 00:35<05:24 9.8540]\n",
              "    </div>\n",
              "    "
            ],
            "text/plain": [
              "<IPython.core.display.HTML object>"
            ]
          },
          "metadata": {
            "tags": []
          }
        },
        {
          "output_type": "stream",
          "text": [
            "LR Finder is complete, type {learner_name}.recorder.plot() to see the graph.\n"
          ],
          "name": "stdout"
        }
      ]
    },
    {
      "cell_type": "code",
      "metadata": {
        "id": "Rj8hap8HA25F",
        "colab_type": "code",
        "colab": {
          "base_uri": "https://localhost:8080/",
          "height": 278
        },
        "outputId": "893cfbb7-c706-439c-80fc-39b3e52ab15d"
      },
      "source": [
        "learn.recorder.plot(skip_start=0)"
      ],
      "execution_count": null,
      "outputs": [
        {
          "output_type": "display_data",
          "data": {
            "image/png": "[encoded data removed]",
            "text/plain": [
              "<Figure size 432x288 with 1 Axes>"
            ]
          },
          "metadata": {
            "tags": [],
            "needs_background": "light"
          }
        }
      ]
    },
    {
      "cell_type": "code",
      "metadata": {
        "id": "IQfRakLqA25H",
        "colab_type": "code",
        "colab": {
          "base_uri": "https://localhost:8080/",
          "height": 505
        },
        "outputId": "7822d796-f754-4856-8fbe-4fe67004baaf"
      },
      "source": [
        "learn.fit_one_cycle(7, 3e-2, moms=(0.8, 0.7))"
      ],
      "execution_count": null,
      "outputs": [
        {
          "output_type": "display_data",
          "data": {
            "text/html": [
              "<table border=\"1\" class=\"dataframe\">\n",
              "  <thead>\n",
              "    <tr style=\"text-align: left;\">\n",
              "      <th>epoch</th>\n",
              "      <th>train_loss</th>\n",
              "      <th>valid_loss</th>\n",
              "      <th>accuracy</th>\n",
              "      <th>time</th>\n",
              "    </tr>\n",
              "  </thead>\n",
              "  <tbody>\n",
              "    <tr>\n",
              "      <td>0</td>\n",
              "      <td>3.251645</td>\n",
              "      <td>3.121398</td>\n",
              "      <td>0.464436</td>\n",
              "      <td>06:11</td>\n",
              "    </tr>\n",
              "    <tr>\n",
              "      <td>1</td>\n",
              "      <td>3.198326</td>\n",
              "      <td>3.160502</td>\n",
              "      <td>0.464463</td>\n",
              "      <td>06:12</td>\n",
              "    </tr>\n",
              "    <tr>\n",
              "      <td>2</td>\n",
              "      <td>3.011875</td>\n",
              "      <td>3.129758</td>\n",
              "      <td>0.465249</td>\n",
              "      <td>06:11</td>\n",
              "    </tr>\n",
              "    <tr>\n",
              "      <td>3</td>\n",
              "      <td>2.760864</td>\n",
              "      <td>3.074570</td>\n",
              "      <td>0.470408</td>\n",
              "      <td>06:11</td>\n",
              "    </tr>\n",
              "    <tr>\n",
              "      <td>4</td>\n",
              "      <td>2.441473</td>\n",
              "      <td>3.031145</td>\n",
              "      <td>0.472679</td>\n",
              "      <td>06:12</td>\n",
              "    </tr>\n",
              "    <tr>\n",
              "      <td>5</td>\n",
              "      <td>2.088003</td>\n",
              "      <td>3.039873</td>\n",
              "      <td>0.474470</td>\n",
              "      <td>06:12</td>\n",
              "    </tr>\n",
              "    <tr>\n",
              "      <td>6</td>\n",
              "      <td>1.830366</td>\n",
              "      <td>3.079516</td>\n",
              "      <td>0.471844</td>\n",
              "      <td>06:12</td>\n",
              "    </tr>\n",
              "  </tbody>\n",
              "</table>"
            ],
            "text/plain": [
              "<IPython.core.display.HTML object>"
            ]
          },
          "metadata": {
            "tags": []
          }
        },
        {
          "output_type": "display_data",
          "data": {
            "image/png": "[encoded data removed]",
            "text/plain": [
              "<Figure size 432x288 with 1 Axes>"
            ]
          },
          "metadata": {
            "tags": []
          }
        }
      ]
    },
    {
      "cell_type": "code",
      "metadata": {
        "id": "F6zngdsXRPTE",
        "colab_type": "code",
        "colab": {}
      },
      "source": [
        "learn.save('model_60k-vocab-2')"
      ],
      "execution_count": null,
      "outputs": []
    },
    {
      "cell_type": "code",
      "metadata": {
        "id": "xZXLZcSSA25J",
        "colab_type": "code",
        "colab": {
          "base_uri": "https://localhost:8080/",
          "height": 34
        },
        "outputId": "21745bed-5138-4a0e-e7a5-46e7482787ad"
      },
      "source": [
        "np.exp(3.07)"
      ],
      "execution_count": null,
      "outputs": [
        {
          "output_type": "execute_result",
          "data": {
            "text/plain": [
              "21.54190267500241"
            ]
          },
          "metadata": {
            "tags": []
          },
          "execution_count": 43
        }
      ]
    }
  ]
}