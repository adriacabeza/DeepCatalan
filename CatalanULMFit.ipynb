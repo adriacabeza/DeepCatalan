{
 "cells": [
  {
   "cell_type": "markdown",
   "metadata": {
    "colab_type": "text",
    "id": "nWfh0QSIA24V"
   },
   "source": [
    "## Instal·lant dependències"
   ]
  },
  {
   "cell_type": "code",
   "execution_count": 3,
   "metadata": {
    "colab": {},
    "colab_type": "code",
    "id": "rGBxlxrGA24V",
    "scrolled": true
   },
   "outputs": [],
   "source": [
    "import os\n",
    "from fastai import *\n",
    "from fastai.text import *\n",
    "from gensim.corpora import WikiCorpus\n",
    "\n",
    "import numpy as np\n",
    "import pandas as pd\n",
    "\n",
    "from tqdm import tqdm\n",
    "from pathlib import Path\n",
    "from functools import partial"
   ]
  },
  {
   "cell_type": "code",
   "execution_count": null,
   "metadata": {
    "colab": {},
    "colab_type": "code",
    "id": "7nv_BhdZxivY"
   },
   "outputs": [],
   "source": [
    "!pip install sacremoses"
   ]
  },
  {
   "cell_type": "code",
   "execution_count": null,
   "metadata": {
    "colab": {
     "base_uri": "https://localhost:8080/",
     "height": 397
    },
    "colab_type": "code",
    "id": "-1IshZaaA24X",
    "outputId": "541ffef4-a8d9-49db-f1f7-c3c6521e4c56"
   },
   "outputs": [],
   "source": [
    "!nvidia-smi"
   ]
  },
  {
   "cell_type": "markdown",
   "metadata": {
    "colab_type": "text",
    "id": "NP84DdEwd39J"
   },
   "source": [
    "## Descarreguem el Wikipedia dump en català"
   ]
  },
  {
   "cell_type": "code",
   "execution_count": null,
   "metadata": {
    "colab": {},
    "colab_type": "code",
    "id": "l3Ryq09yyB9X"
   },
   "outputs": [],
   "source": [
    "!rm -rf data/wiki_extr\n",
    "!rm -rf wikiextractor/ WikiExtractor.py"
   ]
  },
  {
   "cell_type": "code",
   "execution_count": null,
   "metadata": {
    "colab": {
     "base_uri": "https://localhost:8080/",
     "height": 1000
    },
    "colab_type": "code",
    "id": "UEMQy-CdNq5L",
    "outputId": "93c92053-3cf3-414f-fd6f-cf50df544d36"
   },
   "outputs": [],
   "source": [
    "!sh get_wikimedia.sh"
   ]
  },
  {
   "cell_type": "code",
   "execution_count": null,
   "metadata": {
    "colab": {},
    "colab_type": "code",
    "id": "JPQn4ydbQZJl"
   },
   "outputs": [],
   "source": [
    "name = 'CatalanULMFit'\n",
    "model_dir = 'models'\n",
    "model_dir = Path(model_dir)\n",
    "model_dir.mkdir(exist_ok=True)"
   ]
  },
  {
   "cell_type": "markdown",
   "metadata": {
    "colab_type": "text",
    "id": "zIUK4zt2eLCR"
   },
   "source": [
    "Creem el corpus"
   ]
  },
  {
   "cell_type": "code",
   "execution_count": null,
   "metadata": {
    "colab": {
     "base_uri": "https://localhost:8080/",
     "height": 34
    },
    "colab_type": "code",
    "id": "ooYbrQWaoePg",
    "outputId": "bdfc8c15-1ab5-4153-fa9e-7f2de1a1de4f"
   },
   "outputs": [],
   "source": [
    "!ls data/wiki_extr/ca"
   ]
  },
  {
   "cell_type": "code",
   "execution_count": null,
   "metadata": {
    "colab": {
     "base_uri": "https://localhost:8080/",
     "height": 230
    },
    "colab_type": "code",
    "id": "i4knTPiEpiCU",
    "outputId": "9645ef28-6d34-443e-ad3e-9850543671be"
   },
   "outputs": [],
   "source": [
    "!python create_wikiText.py -i data/wiki_extr/ca -o data/wiki -l ca"
   ]
  },
  {
   "cell_type": "code",
   "execution_count": 4,
   "metadata": {},
   "outputs": [],
   "source": [
    "trn_path = Path('data/wiki/ca-100/ca.wiki.train.tokens')\n",
    "val_path = Path('data/wiki/ca-100/ca.wiki.valid.tokens')"
   ]
  },
  {
   "cell_type": "code",
   "execution_count": 5,
   "metadata": {},
   "outputs": [],
   "source": [
    "with open(trn_path, encoding='utf8') as f:\n",
    "     train = f.readlines()"
   ]
  },
  {
   "cell_type": "code",
   "execution_count": null,
   "metadata": {},
   "outputs": [
    {
     "name": "stderr",
     "output_type": "stream",
     "text": [
      "  9%|▉         | 301743/3382970 [1:09:25<19:40:54, 43.49it/s]"
     ]
    }
   ],
   "source": [
    "df_train = pd.DataFrame(columns=['content', 'is_valid'])\n",
    "for line in tqdm(train):\n",
    "    df_train = df_train.append({'content':line, 'is_valid': 0},ignore_index=True)\n",
    "print('df_train done')"
   ]
  },
  {
   "cell_type": "code",
   "execution_count": null,
   "metadata": {},
   "outputs": [],
   "source": [
    "del(train)"
   ]
  },
  {
   "cell_type": "code",
   "execution_count": null,
   "metadata": {},
   "outputs": [],
   "source": [
    "with open(val_path, encoding='utf8') as f:\n",
    "      val = f.readlines()"
   ]
  },
  {
   "cell_type": "code",
   "execution_count": null,
   "metadata": {},
   "outputs": [],
   "source": [
    "df_valid = pd.DataFrame(columns=['content', 'is_valid'])\n",
    "for line in tqdm(val):\n",
    "    df_valid = df_valid.append({'content':line, 'is_valid': 0},ignore_index=True)\n",
    "print('df_valid done')"
   ]
  },
  {
   "cell_type": "code",
   "execution_count": null,
   "metadata": {},
   "outputs": [],
   "source": [
    "del(val)"
   ]
  },
  {
   "cell_type": "code",
   "execution_count": null,
   "metadata": {},
   "outputs": [],
   "source": [
    "df_regroup = pd.concat([df_train, df_valid])\n",
    "df_regroup.to_csv('data/wiki/full_train.csv', header=None, index=None)"
   ]
  },
  {
   "cell_type": "code",
   "execution_count": null,
   "metadata": {
    "colab": {
     "base_uri": "https://localhost:8080/",
     "height": 407
    },
    "colab_type": "code",
    "id": "5SBXoriPxLlL",
    "outputId": "9407ec77-ffad-4add-81ea-5349ea081335"
   },
   "outputs": [],
   "source": [
    " !python postprocess_wikiText.py -i data/wiki -l ca"
   ]
  },
  {
   "cell_type": "code",
   "execution_count": null,
   "metadata": {},
   "outputs": [],
   "source": [
    "from tqdm import tqdm"
   ]
  },
  {
   "cell_type": "code",
   "execution_count": null,
   "metadata": {
    "colab": {
     "base_uri": "https://localhost:8080/",
     "height": 16
    },
    "colab_type": "code",
    "id": "OJUo_MUY6au6",
    "outputId": "702eb14f-1106-402a-f77a-ba25faa7ad18"
   },
   "outputs": [],
   "source": [
    "tokenizer = Tokenizer(lang='ca', n_cpus=6)\n",
    "data_lm_full = (TextList.from_csv('data/wiki', csv_name='full_train.csv', cols=0, processor=[TokenizeProcessor(tokenizer=tokenizer), NumericalizeProcessor(max_vocab=60000)])\n",
    "           #Inputs: all the text files in path\n",
    "            .split_from_df(col=1)\n",
    "           #We may have other temp folders that contain text files so we only keep what's in train and test\n",
    "            .label_for_lm()           \n",
    "           #We want to do a language model so we label accordingly\n",
    "            .databunch(bs=32))\n"
   ]
  },
  {
   "cell_type": "code",
   "execution_count": null,
   "metadata": {
    "colab": {
     "base_uri": "https://localhost:8080/",
     "height": 34
    },
    "colab_type": "code",
    "id": "U6TWN-y-6-I9",
    "outputId": "899ebeb8-884d-4e0a-fe44-180d97d62791"
   },
   "outputs": [],
   "source": [
    "!du -H data/wiki/full_train.csv"
   ]
  },
  {
   "cell_type": "code",
   "execution_count": null,
   "metadata": {
    "colab": {
     "base_uri": "https://localhost:8080/",
     "height": 52
    },
    "colab_type": "code",
    "id": "A3iAkSbc6b5f",
    "outputId": "81969b42-9fa7-4546-840b-a810d0b190e4"
   },
   "outputs": [],
   "source": [
    "itos = data_lm_full.train_ds.vocab.itos\n",
    "print('Size of vocabulary:', len(itos))\n",
    "print('First 10 words in vocab:', ', '.join([itos[i] for i in range(10)]))"
   ]
  },
  {
   "cell_type": "code",
   "execution_count": null,
   "metadata": {
    "colab": {
     "base_uri": "https://localhost:8080/",
     "height": 34
    },
    "colab_type": "code",
    "id": "lninUmS0A24a",
    "outputId": "bce20a7f-8347-4ff2-9abf-8306c71c40bd"
   },
   "outputs": [],
   "source": [
    "torch.cuda.is_available()"
   ]
  },
  {
   "cell_type": "markdown",
   "metadata": {
    "colab_type": "text",
    "id": "i6MYpkF9A24d"
   },
   "source": [
    "# Entrenar el Language Model"
   ]
  },
  {
   "cell_type": "markdown",
   "metadata": {
    "colab_type": "text",
    "id": "WtXtjb_kA24d"
   },
   "source": [
    "Hem usat com a dataset tot el text que s'ha trobat en el repositori https://github.com/Softcatala/ca-text-corpus. També hem provat d'entrenar amb un dataset creat a partir del script **./get_wikimedia.sh** però ens tornava un dataset massa brut. "
   ]
  },
  {
   "cell_type": "code",
   "execution_count": null,
   "metadata": {
    "colab": {
     "base_uri": "https://localhost:8080/",
     "height": 34
    },
    "colab_type": "code",
    "id": "5RScd6CFA241",
    "outputId": "343bae08-92c3-4862-ade5-23ab235ec2ed"
   },
   "outputs": [],
   "source": [
    "learn = language_model_learner(data_lm_full,  arch=AWD_LSTM, drop_mult=0, callback_fns=ShowGraph)"
   ]
  },
  {
   "cell_type": "code",
   "execution_count": null,
   "metadata": {
    "colab": {
     "base_uri": "https://localhost:8080/",
     "height": 34
    },
    "colab_type": "code",
    "id": "_l-U9Aq9A243",
    "outputId": "537eb251-cc62-4549-c1d6-510c1f82ce84"
   },
   "outputs": [],
   "source": [
    "# save vocabulary\n",
    "print('Saving vocabulary...')\n",
    "with open(os.path.join('data', 'itos.pkl'), 'wb') as f:\n",
    "    pickle.dump(itos, f)"
   ]
  },
  {
   "cell_type": "code",
   "execution_count": null,
   "metadata": {
    "colab": {
     "base_uri": "https://localhost:8080/",
     "height": 370
    },
    "colab_type": "code",
    "id": "V8f1QFA-A249",
    "outputId": "30cf0949-eab7-4bd2-e1e4-f3fd67f99666"
   },
   "outputs": [],
   "source": [
    "data_lm_full.show_batch()"
   ]
  },
  {
   "cell_type": "code",
   "execution_count": null,
   "metadata": {
    "colab": {
     "base_uri": "https://localhost:8080/",
     "height": 112
    },
    "colab_type": "code",
    "id": "Vh0ppCLoA25B",
    "outputId": "ae01ccb4-1cec-4c20-e96d-6fbafcb34acd",
    "scrolled": true
   },
   "outputs": [],
   "source": [
    "learn.lr_find()"
   ]
  },
  {
   "cell_type": "code",
   "execution_count": null,
   "metadata": {
    "colab": {
     "base_uri": "https://localhost:8080/",
     "height": 278
    },
    "colab_type": "code",
    "id": "Rj8hap8HA25F",
    "outputId": "a92cce43-2f39-46be-e86b-a656e1117928"
   },
   "outputs": [],
   "source": [
    "learn.recorder.plot(skip_start=0)"
   ]
  },
  {
   "cell_type": "code",
   "execution_count": null,
   "metadata": {
    "colab": {
     "base_uri": "https://localhost:8080/",
     "height": 412
    },
    "colab_type": "code",
    "id": "IQfRakLqA25H",
    "outputId": "84da3f84-523c-40b9-998d-fd23f50959fe"
   },
   "outputs": [],
   "source": [
    "learn.fit_one_cycle(10, 1e-2, moms=(0.8, 0.7))"
   ]
  },
  {
   "cell_type": "code",
   "execution_count": null,
   "metadata": {
    "colab": {},
    "colab_type": "code",
    "id": "hD5N8d9NgwwI"
   },
   "outputs": [],
   "source": [
    " learn.fit_one_cycle(5, 5e-3, moms=(0.8, 0.7))"
   ]
  },
  {
   "cell_type": "code",
   "execution_count": null,
   "metadata": {
    "colab": {},
    "colab_type": "code",
    "id": "fvnhRplx8PCH"
   },
   "outputs": [],
   "source": [
    " learn.fit_one_cycle(1, 5e-3, moms=(0.8, 0.7))"
   ]
  },
  {
   "cell_type": "code",
   "execution_count": null,
   "metadata": {
    "colab": {},
    "colab_type": "code",
    "id": "F6zngdsXRPTE"
   },
   "outputs": [],
   "source": [
    "learn.save('model_60k-vocab')"
   ]
  },
  {
   "cell_type": "code",
   "execution_count": null,
   "metadata": {
    "colab": {
     "base_uri": "https://localhost:8080/",
     "height": 34
    },
    "colab_type": "code",
    "id": "xZXLZcSSA25J",
    "outputId": "17e82d29-d1dc-46ce-bb68-194c1bfeb2a9"
   },
   "outputs": [],
   "source": [
    "np.exp(3.25)"
   ]
  }
 ],
 "metadata": {
  "accelerator": "GPU",
  "colab": {
   "collapsed_sections": [],
   "name": "CatalanULMFit.ipynb",
   "provenance": []
  },
  "kernelspec": {
   "display_name": "catalanULMFit",
   "language": "python",
   "name": "catalanulmfit"
  },
  "language_info": {
   "codemirror_mode": {
    "name": "ipython",
    "version": 3
   },
   "file_extension": ".py",
   "mimetype": "text/x-python",
   "name": "python",
   "nbconvert_exporter": "python",
   "pygments_lexer": "ipython3",
   "version": "3.8.3"
  }
 },
 "nbformat": 4,
 "nbformat_minor": 1
}
