{
  "nbformat": 4,
  "nbformat_minor": 0,
  "metadata": {
    "kernelspec": {
      "display_name": "Python 3",
      "language": "python",
      "name": "python3"
    },
    "language_info": {
      "codemirror_mode": {
        "name": "ipython",
        "version": 3
      },
      "file_extension": ".py",
      "mimetype": "text/x-python",
      "name": "python",
      "nbconvert_exporter": "python",
      "pygments_lexer": "ipython3",
      "version": "3.8.3"
    },
    "colab": {
      "name": "ClassificadorNoticies.ipynb",
      "provenance": [],
      "collapsed_sections": []
    }
  },
  "cells": [
    {
      "cell_type": "markdown",
      "metadata": {
        "id": "9YdsWpyLJx4R"
      },
      "source": [
        "# Classificador de notícies\n",
        "\n",
        "Aquest notebook conté el procés de fer fine-tuning de CatalanULMFit entrenat amb el dump de Wikipedia.\n",
        "- Primer entrenarem tot el LM amb la nostra data\n",
        "- Després agafarem només l'encoder i crearem un objecte classifier on top per a realitzar la tasca desitjada."
      ]
    },
    {
      "cell_type": "markdown",
      "metadata": {
        "id": "dIj0jxXtJhZd"
      },
      "source": [
        "## Instal·lant dependències"
      ]
    },
    {
      "cell_type": "code",
      "metadata": {
        "scrolled": true,
        "id": "woH_-UFqJhZf"
      },
      "source": [
        "import os\n",
        "import seaborn as sns\n",
        "from fastai import *\n",
        "from fastai.text import *\n",
        "\n",
        "import numpy as np\n",
        "import pandas as pd\n",
        "\n",
        "from pathlib import Path\n",
        "from functools import partial"
      ],
      "execution_count": 2,
      "outputs": []
    },
    {
      "cell_type": "markdown",
      "metadata": {
        "id": "WVaFkh23Jq0Q"
      },
      "source": [
        "## Fine-tuning per al classificador"
      ]
    },
    {
      "cell_type": "markdown",
      "metadata": {
        "id": "2yhTNxFfJhZn"
      },
      "source": [
        "### Load dataset"
      ]
    },
    {
      "cell_type": "code",
      "metadata": {
        "id": "mEfiI2ukJhZq",
        "outputId": "56f52c5a-39ee-4d5c-cb6c-e0e3425ee52c",
        "colab": {
          "base_uri": "https://localhost:8080/",
          "height": 407
        }
      },
      "source": [
        "data = pd.read_csv('data.csv', delimiter='|', error_bad_lines=False)\n",
        "data.drop_duplicates()\n",
        "data['Article'] = data['Article'].str.replace(\"[^a-zA-Z]\", \" \")\n",
        "data = data.dropna()\n",
        "data\n"
      ],
      "execution_count": 3,
      "outputs": [
        {
          "output_type": "execute_result",
          "data": {
            "text/html": [
              "<div>\n",
              "<style scoped>\n",
              "    .dataframe tbody tr th:only-of-type {\n",
              "        vertical-align: middle;\n",
              "    }\n",
              "\n",
              "    .dataframe tbody tr th {\n",
              "        vertical-align: top;\n",
              "    }\n",
              "\n",
              "    .dataframe thead th {\n",
              "        text-align: right;\n",
              "    }\n",
              "</style>\n",
              "<table border=\"1\" class=\"dataframe\">\n",
              "  <thead>\n",
              "    <tr style=\"text-align: right;\">\n",
              "      <th></th>\n",
              "      <th>Type</th>\n",
              "      <th>Article</th>\n",
              "    </tr>\n",
              "  </thead>\n",
              "  <tbody>\n",
              "    <tr>\n",
              "      <th>0</th>\n",
              "      <td>SPORTS</td>\n",
              "      <td>L Olot         es va posar en marxa ahir amb u...</td>\n",
              "    </tr>\n",
              "    <tr>\n",
              "      <th>1</th>\n",
              "      <td>SPORTS</td>\n",
              "      <td>El treball en equip fa que els somnis es comp...</td>\n",
              "    </tr>\n",
              "    <tr>\n",
              "      <th>2</th>\n",
              "      <td>SPORTS</td>\n",
              "      <td>El migcampista saltenc Dani Toribio  que tenia...</td>\n",
              "    </tr>\n",
              "    <tr>\n",
              "      <th>3</th>\n",
              "      <td>SPORTS</td>\n",
              "      <td>El Figueres de Javi Salamero va iniciar ahir a...</td>\n",
              "    </tr>\n",
              "    <tr>\n",
              "      <th>4</th>\n",
              "      <td>SPORTS</td>\n",
              "      <td>Un solitari gol de Kingsley Mengin en la segon...</td>\n",
              "    </tr>\n",
              "    <tr>\n",
              "      <th>...</th>\n",
              "      <td>...</td>\n",
              "      <td>...</td>\n",
              "    </tr>\n",
              "    <tr>\n",
              "      <th>891</th>\n",
              "      <td>SALUT</td>\n",
              "      <td>Segurament posar nos a les mans d un fisiotera...</td>\n",
              "    </tr>\n",
              "    <tr>\n",
              "      <th>892</th>\n",
              "      <td>SALUT</td>\n",
              "      <td>L aplicaci  de rastreig de contagis promoguda ...</td>\n",
              "    </tr>\n",
              "    <tr>\n",
              "      <th>893</th>\n",
              "      <td>SALUT</td>\n",
              "      <td>Dermavision Solutions  una empresa de Roses  h...</td>\n",
              "    </tr>\n",
              "    <tr>\n",
              "      <th>894</th>\n",
              "      <td>SALUT</td>\n",
              "      <td>Les persones amb obesitat que s aprimen  no a ...</td>\n",
              "    </tr>\n",
              "    <tr>\n",
              "      <th>895</th>\n",
              "      <td>SALUT</td>\n",
              "      <td>Encara no est  clar quan ni com arribar  la fu...</td>\n",
              "    </tr>\n",
              "  </tbody>\n",
              "</table>\n",
              "<p>889 rows × 2 columns</p>\n",
              "</div>"
            ],
            "text/plain": [
              "       Type                                            Article\n",
              "0    SPORTS  L Olot         es va posar en marxa ahir amb u...\n",
              "1    SPORTS   El treball en equip fa que els somnis es comp...\n",
              "2    SPORTS  El migcampista saltenc Dani Toribio  que tenia...\n",
              "3    SPORTS  El Figueres de Javi Salamero va iniciar ahir a...\n",
              "4    SPORTS  Un solitari gol de Kingsley Mengin en la segon...\n",
              "..      ...                                                ...\n",
              "891   SALUT  Segurament posar nos a les mans d un fisiotera...\n",
              "892   SALUT  L aplicaci  de rastreig de contagis promoguda ...\n",
              "893   SALUT  Dermavision Solutions  una empresa de Roses  h...\n",
              "894   SALUT  Les persones amb obesitat que s aprimen  no a ...\n",
              "895   SALUT  Encara no est  clar quan ni com arribar  la fu...\n",
              "\n",
              "[889 rows x 2 columns]"
            ]
          },
          "metadata": {
            "tags": []
          },
          "execution_count": 3
        }
      ]
    },
    {
      "cell_type": "code",
      "metadata": {
        "id": "TRaT5j4Z_XDk",
        "outputId": "f37c5ae4-7f4c-486e-92b6-9906f78d63b0",
        "colab": {
          "base_uri": "https://localhost:8080/",
          "height": 295
        }
      },
      "source": [
        "sns.countplot(x=data[\"Type\"])\n",
        "plt.title(\"Tipus de notícia\")\n",
        "plt.show()"
      ],
      "execution_count": 4,
      "outputs": [
        {
          "output_type": "display_data",
          "data": {
            "image/png": "[encoded data removed]",
            "text/plain": [
              "<Figure size 432x288 with 1 Axes>"
            ]
          },
          "metadata": {
            "tags": [],
            "needs_background": "light"
          }
        }
      ]
    },
    {
      "cell_type": "code",
      "metadata": {
        "id": "D8Vdi31IJhZu",
        "outputId": "f24f3365-e078-4082-9ace-dbe23ed683c8",
        "colab": {
          "base_uri": "https://localhost:8080/",
          "height": 124
        }
      },
      "source": [
        "data.shape\n",
        "data['valid']=0\n",
        "data['valid'][:int(data.shape[0]*0.15)]=1\n",
        "data= data[['Article','Type', 'valid']]\n",
        "data.to_csv(os.path.join('.', 'train_classifier.csv'))"
      ],
      "execution_count": 5,
      "outputs": [
        {
          "output_type": "stream",
          "text": [
            "/usr/local/lib/python3.6/dist-packages/ipykernel_launcher.py:3: SettingWithCopyWarning: \n",
            "A value is trying to be set on a copy of a slice from a DataFrame\n",
            "\n",
            "See the caveats in the documentation: https://pandas.pydata.org/pandas-docs/stable/user_guide/indexing.html#returning-a-view-versus-a-copy\n",
            "  This is separate from the ipykernel package so we can avoid doing imports until\n"
          ],
          "name": "stderr"
        }
      ]
    },
    {
      "cell_type": "code",
      "metadata": {
        "id": "TKrmZY7iJhZy",
        "outputId": "b8c29915-a2cc-4e90-846a-ba6bcf0908bc",
        "colab": {
          "base_uri": "https://localhost:8080/",
          "height": 1000
        }
      },
      "source": [
        "tokenizer = Tokenizer(lang='ca', n_cpus=5)\n",
        "data_lm = TextLMDataBunch.from_csv('.', tokenizer=tokenizer, bs=16, valid_pct=0.1, csv_name='train_classifier.csv')\n",
        "data_lm.save('data_lm_finetuning')\n",
        "data_lm.train_ds.vocab.itos[:]"
      ],
      "execution_count": 6,
      "outputs": [
        {
          "output_type": "display_data",
          "data": {
            "text/html": [
              ""
            ],
            "text/plain": [
              "<IPython.core.display.HTML object>"
            ]
          },
          "metadata": {
            "tags": []
          }
        },
        {
          "output_type": "display_data",
          "data": {
            "text/html": [
              ""
            ],
            "text/plain": [
              "<IPython.core.display.HTML object>"
            ]
          },
          "metadata": {
            "tags": []
          }
        },
        {
          "output_type": "execute_result",
          "data": {
            "text/plain": [
              "['xxunk',\n",
              " 'xxpad',\n",
              " 'xxbos',\n",
              " 'xxeos',\n",
              " 'xxfld',\n",
              " 'xxmaj',\n",
              " 'xxup',\n",
              " 'xxrep',\n",
              " 'xxwrep',\n",
              " 'de',\n",
              " 'la',\n",
              " 'a',\n",
              " 'que',\n",
              " 's',\n",
              " 'i',\n",
              " 'el',\n",
              " 'l',\n",
              " 'en',\n",
              " 'per',\n",
              " 'd',\n",
              " 'les',\n",
              " 'un',\n",
              " 'els',\n",
              " 'm',\n",
              " 'amb',\n",
              " 'del',\n",
              " 'una',\n",
              " 'ha',\n",
              " 'es',\n",
              " 'al',\n",
              " 'va',\n",
              " 'no',\n",
              " 'com',\n",
              " 'dels',\n",
              " 'o',\n",
              " 'n',\n",
              " 'aquest',\n",
              " 'hi',\n",
              " 'ncia',\n",
              " 'ser',\n",
              " 'aix',\n",
              " 'tamb',\n",
              " 'han',\n",
              " 'seva',\n",
              " 'entre',\n",
              " 'tot',\n",
              " 'molt',\n",
              " 'seu',\n",
              " 'ja',\n",
              " 'als',\n",
              " 'se',\n",
              " 't',\n",
              " 'si',\n",
              " 'van',\n",
              " 'girona',\n",
              " 'anys',\n",
              " 'aquesta',\n",
              " 'fer',\n",
              " 'b',\n",
              " 'ria',\n",
              " 'est',\n",
              " 'fins',\n",
              " 'des',\n",
              " 'seus',\n",
              " 'perqu',\n",
              " 'despr',\n",
              " 'pel',\n",
              " 'segons',\n",
              " 'ho',\n",
              " 'any',\n",
              " 'durant',\n",
              " 'sobre',\n",
              " 'p',\n",
              " 'on',\n",
              " 'fa',\n",
              " 'pot',\n",
              " 'fet',\n",
              " 'nom',\n",
              " 'altres',\n",
              " 'cap',\n",
              " 'quan',\n",
              " 'estat',\n",
              " 'tots',\n",
              " 'persones',\n",
              " 'c',\n",
              " 'encara',\n",
              " 'part',\n",
              " 'ara',\n",
              " 'covid',\n",
              " 'ens',\n",
              " 'pr',\n",
              " 'dues',\n",
              " 'mateix',\n",
              " 'dos',\n",
              " 'tenir',\n",
              " 'gran',\n",
              " 'aquests',\n",
              " 'tiktok',\n",
              " 'primera',\n",
              " 'poden',\n",
              " 'qu',\n",
              " 'mia',\n",
              " 'li',\n",
              " 'col',\n",
              " 'tres',\n",
              " 'ncies',\n",
              " 'tant',\n",
              " 'temps',\n",
              " 'em',\n",
              " 'pa',\n",
              " 'qual',\n",
              " 'sense',\n",
              " 'abans',\n",
              " 'dia',\n",
              " 'hem',\n",
              " 'primer',\n",
              " 'f',\n",
              " 'nou',\n",
              " 'milions',\n",
              " 'poder',\n",
              " 'dies',\n",
              " 'totes',\n",
              " 'dades',\n",
              " 'seves',\n",
              " 'stic',\n",
              " 'molts',\n",
              " 'euros',\n",
              " 'havia',\n",
              " 'estan',\n",
              " 'passat',\n",
              " 'pand',\n",
              " 'moment',\n",
              " 'grup',\n",
              " 'catalunya',\n",
              " 'ar',\n",
              " 'manera',\n",
              " 'club',\n",
              " 'treball',\n",
              " 'seguretat',\n",
              " 'tal',\n",
              " 'usuaris',\n",
              " 'cosa',\n",
              " 'econ',\n",
              " 'barcelona',\n",
              " 'comen',\n",
              " 'festival',\n",
              " 'cada',\n",
              " 'veure',\n",
              " 'millor',\n",
              " 'mentre',\n",
              " 'aigua',\n",
              " 'diferents',\n",
              " 'ahir',\n",
              " 'mica',\n",
              " 'grans',\n",
              " 'empresa',\n",
              " 'final',\n",
              " 'equip',\n",
              " 'r',\n",
              " 'casos',\n",
              " 'ries',\n",
              " 'altra',\n",
              " 'aquestes',\n",
              " 'mercat',\n",
              " 'mesos',\n",
              " 'setembre',\n",
              " 'situaci',\n",
              " 'cil',\n",
              " 'arribar',\n",
              " 'iphone',\n",
              " 'sector',\n",
              " 'cas',\n",
              " 'blic',\n",
              " 'menys',\n",
              " 'estiu',\n",
              " 'qui',\n",
              " 'espanya',\n",
              " 'era',\n",
              " 'cal',\n",
              " 'haver',\n",
              " 'segona',\n",
              " 'temporada',\n",
              " 'donar',\n",
              " 'nia',\n",
              " 'aqu',\n",
              " 'estar',\n",
              " 'uns',\n",
              " 'banda',\n",
              " 'sigui',\n",
              " 'estats',\n",
              " 'mar',\n",
              " 'companyia',\n",
              " 'tic',\n",
              " 'contra',\n",
              " 'sempre',\n",
              " 'dir',\n",
              " 'compte',\n",
              " 'mesures',\n",
              " 'estudi',\n",
              " 'tenen',\n",
              " 'forma',\n",
              " 'canvi',\n",
              " 'socials',\n",
              " 'tel',\n",
              " 'lloc',\n",
              " 'coronavirus',\n",
              " 'metres',\n",
              " 'empreses',\n",
              " 'hagi',\n",
              " 'edici',\n",
              " 'ixer',\n",
              " 'nova',\n",
              " 'exemple',\n",
              " 'quatre',\n",
              " 'mes',\n",
              " 'trav',\n",
              " 'casa',\n",
              " 'setmana',\n",
              " 'units',\n",
              " 'octubre',\n",
              " 'tipus',\n",
              " 'cl',\n",
              " 'sol',\n",
              " 'acabar',\n",
              " 'president',\n",
              " 'explica',\n",
              " 'pl',\n",
              " 'xarxes',\n",
              " 'alguns',\n",
              " 'preu',\n",
              " 'gent',\n",
              " 'evitar',\n",
              " 'risc',\n",
              " 'lliga',\n",
              " 'serveis',\n",
              " 'aconseguir',\n",
              " 'davant',\n",
              " 'possible',\n",
              " 'crisi',\n",
              " 'squet',\n",
              " 'clar',\n",
              " 'virus',\n",
              " 'entitat',\n",
              " 'punt',\n",
              " 'tica',\n",
              " 'major',\n",
              " 'podria',\n",
              " 'da',\n",
              " 'sentit',\n",
              " 'objectiu',\n",
              " 'banc',\n",
              " 'sant',\n",
              " 'annersite',\n",
              " 'director',\n",
              " 'web',\n",
              " 'v',\n",
              " 'pla',\n",
              " 'dem',\n",
              " 'moltes',\n",
              " 'govern',\n",
              " 'vida',\n",
              " 'dif',\n",
              " 'respecte',\n",
              " 'quals',\n",
              " 'jornada',\n",
              " 'sanit',\n",
              " 'activitat',\n",
              " 'by',\n",
              " 'informaci',\n",
              " 'posar',\n",
              " 'pels',\n",
              " 'he',\n",
              " 'alguna',\n",
              " 'lo',\n",
              " 'g',\n",
              " 'actualment',\n",
              " 'social',\n",
              " 'cinc',\n",
              " 'hist',\n",
              " 'ni',\n",
              " 'haur',\n",
              " 'aut',\n",
              " 'figueres',\n",
              " 'esfor',\n",
              " 'catal',\n",
              " 'fent',\n",
              " 'passar',\n",
              " 'messi',\n",
              " 'anar',\n",
              " 'hores',\n",
              " 'altre',\n",
              " 'alcohol',\n",
              " 'pes',\n",
              " 'nous',\n",
              " 'persona',\n",
              " 'seguir',\n",
              " 'jugar',\n",
              " 'nivell',\n",
              " 'clients',\n",
              " 'important',\n",
              " 'km',\n",
              " 'nica',\n",
              " 'resta',\n",
              " 'madrid',\n",
              " 'sin',\n",
              " 'preus',\n",
              " 'punts',\n",
              " 'dins',\n",
              " 'problemes',\n",
              " 'cia',\n",
              " 'causa',\n",
              " 'obstant',\n",
              " 'reduir',\n",
              " 'pantalla',\n",
              " 'hauria',\n",
              " 'fons',\n",
              " 'bils',\n",
              " 'actual',\n",
              " 'sistema',\n",
              " 'projecte',\n",
              " 'agost',\n",
              " 'partir',\n",
              " 'pares',\n",
              " 'sica',\n",
              " 'general',\n",
              " 'coses',\n",
              " 'nombre',\n",
              " 'vam',\n",
              " 'nic',\n",
              " 'cies',\n",
              " 'majoria',\n",
              " 'partit',\n",
              " 'desenvolupament',\n",
              " 'destaca',\n",
              " 'diari',\n",
              " 'total',\n",
              " 'segon',\n",
              " 'avan',\n",
              " 'mic',\n",
              " 'treballar',\n",
              " 'reducci',\n",
              " 'deixar',\n",
              " 'fusi',\n",
              " 'bankia',\n",
              " 'catalana',\n",
              " 'os',\n",
              " 'ciutat',\n",
              " 'tindr',\n",
              " 'treballadors',\n",
              " 'ana',\n",
              " 'ascens',\n",
              " 'minuts',\n",
              " 'me',\n",
              " 'sis',\n",
              " 'ant',\n",
              " 'sostenible',\n",
              " 'avui',\n",
              " 'mai',\n",
              " 'los',\n",
              " 'prop',\n",
              " 'sos',\n",
              " 'vegades',\n",
              " 'tan',\n",
              " 'cop',\n",
              " 'confinament',\n",
              " 'powered',\n",
              " 'wikiloc',\n",
              " 'experi',\n",
              " 'caixabank',\n",
              " 'positiu',\n",
              " 'gb',\n",
              " 'vacuna',\n",
              " 'gaireb',\n",
              " 'xim',\n",
              " 'aplicaci',\n",
              " 'nostre',\n",
              " 'vegada',\n",
              " 'costa',\n",
              " 'guanyar',\n",
              " 'xarxa',\n",
              " 'leb',\n",
              " 'altitud',\n",
              " 'santander',\n",
              " 'grups',\n",
              " 'vaig',\n",
              " 'pro',\n",
              " 'feina',\n",
              " 'the',\n",
              " 'ltim',\n",
              " 'bar',\n",
              " 'futbol',\n",
              " 'ltims',\n",
              " 'dispositius',\n",
              " 'model',\n",
              " 'nostra',\n",
              " 'cos',\n",
              " 'or',\n",
              " 'alta',\n",
              " 'stica',\n",
              " 'diagn',\n",
              " 'entitats',\n",
              " 'comprom',\n",
              " 'marxa',\n",
              " 'permet',\n",
              " 'productes',\n",
              " 'vol',\n",
              " 'futur',\n",
              " 'tota',\n",
              " 'malaltia',\n",
              " 'fam',\n",
              " 'recorregut',\n",
              " 'estava',\n",
              " 'tingut',\n",
              " 'realitzar',\n",
              " 'nens',\n",
              " 'h',\n",
              " 'format',\n",
              " 'funci',\n",
              " 'fase',\n",
              " 'acc',\n",
              " 'terme',\n",
              " 'garmin',\n",
              " 'calor',\n",
              " 'fon',\n",
              " 'microsoft',\n",
              " 'nord',\n",
              " 'comarques',\n",
              " 'jo',\n",
              " 'ocupaci',\n",
              " 'seguidors',\n",
              " 'can',\n",
              " 'tornar',\n",
              " 'tenia',\n",
              " 'fora',\n",
              " 'organitzaci',\n",
              " 'hora',\n",
              " 'fan',\n",
              " 'competici',\n",
              " 'estic',\n",
              " 'pacients',\n",
              " 'menors',\n",
              " 'puguin',\n",
              " 'trobar',\n",
              " 'tenim',\n",
              " 'plataforma',\n",
              " 'termini',\n",
              " 'habitatge',\n",
              " 'nos',\n",
              " 'utilitzar',\n",
              " 'proc',\n",
              " 'nostres',\n",
              " 'tracta',\n",
              " 'ells',\n",
              " 'vacunes',\n",
              " 'exposici',\n",
              " 'hagut',\n",
              " 'finals',\n",
              " 'salut',\n",
              " 'salari',\n",
              " 'dissabte',\n",
              " 'res',\n",
              " 'compra',\n",
              " 'poblaci',\n",
              " 'espai',\n",
              " 'espectacle',\n",
              " 'poc',\n",
              " 'espanyol',\n",
              " 'trump',\n",
              " 'mitjan',\n",
              " 'concerts',\n",
              " 'centre',\n",
              " 'diu',\n",
              " 'condicions',\n",
              " 'porta',\n",
              " 'podr',\n",
              " 'efecte',\n",
              " 'continuar',\n",
              " 'mat',\n",
              " 'ell',\n",
              " 'mitj',\n",
              " 'descens',\n",
              " 'igual',\n",
              " 'nics',\n",
              " 'platja',\n",
              " 'fundaci',\n",
              " 'acci',\n",
              " 'ament',\n",
              " 'apunta',\n",
              " 'molta',\n",
              " 'atenci',\n",
              " 'cent',\n",
              " 'bbva',\n",
              " 'diumenge',\n",
              " 'unes',\n",
              " 'teatre',\n",
              " 'juliol',\n",
              " 'dist',\n",
              " 'mitjans',\n",
              " 'sota',\n",
              " 'mateixa',\n",
              " 'veu',\n",
              " 'pol',\n",
              " 'deu',\n",
              " 'categoria',\n",
              " 'bon',\n",
              " 'tractament',\n",
              " 'finan',\n",
              " 'empord',\n",
              " 'fills',\n",
              " 'cultura',\n",
              " 'llibre',\n",
              " 'dispositiu',\n",
              " 'pia',\n",
              " 'intenci',\n",
              " 'ambient',\n",
              " 'oficines',\n",
              " 'te',\n",
              " 'professional',\n",
              " 'malgrat',\n",
              " 'contingut',\n",
              " 'edat',\n",
              " 'na',\n",
              " 'impacte',\n",
              " 'art',\n",
              " 'seran',\n",
              " 'xit',\n",
              " 'premi',\n",
              " 'assegurat',\n",
              " 'afegit',\n",
              " 'europa',\n",
              " 'sobretot',\n",
              " 'ajudar',\n",
              " 'gironines',\n",
              " 'tercera',\n",
              " 'hagin',\n",
              " 'original',\n",
              " 'pugui',\n",
              " 'alt',\n",
              " 'instal',\n",
              " 'baixa',\n",
              " 'noves',\n",
              " 'deos',\n",
              " 'joan',\n",
              " 'caiguda',\n",
              " 'pres',\n",
              " 'assegura',\n",
              " 'josep',\n",
              " 'conjunt',\n",
              " 'petits',\n",
              " 'estem',\n",
              " 'inici',\n",
              " 'imatge',\n",
              " 'espais',\n",
              " 'economia',\n",
              " 'llocs',\n",
              " 'mundial',\n",
              " 'setmanes',\n",
              " 'personal',\n",
              " 'conseq',\n",
              " 'professionals',\n",
              " 'oferta',\n",
              " 'negoci',\n",
              " 'propostes',\n",
              " 'taxa',\n",
              " 'mitjana',\n",
              " 'gironina',\n",
              " 'intel',\n",
              " 'mantenir',\n",
              " 'lia',\n",
              " 'tecnologia',\n",
              " 'viure',\n",
              " 'suport',\n",
              " 'sent',\n",
              " 'venda',\n",
              " 'musical',\n",
              " 'marca',\n",
              " 'desnivell',\n",
              " 'mercadona',\n",
              " 'y',\n",
              " 'explicar',\n",
              " 'endavant',\n",
              " 'ode',\n",
              " 'custey',\n",
              " 'tinc',\n",
              " 'llengua',\n",
              " 'xima',\n",
              " 'seria',\n",
              " 'algunes',\n",
              " 'comunicat',\n",
              " 'at',\n",
              " 'contracte',\n",
              " 'contacte',\n",
              " 'equips',\n",
              " 'jugadors',\n",
              " 'posat',\n",
              " 'tics',\n",
              " 'responsable',\n",
              " 'for',\n",
              " 'artista',\n",
              " 'servir',\n",
              " 'ltima',\n",
              " 'finalment',\n",
              " 'passa',\n",
              " 'ella',\n",
              " 'vuit',\n",
              " 'mal',\n",
              " 'rdua',\n",
              " 'plantilla',\n",
              " 'pocs',\n",
              " 'perm',\n",
              " 'stics',\n",
              " 'salt',\n",
              " 'partits',\n",
              " 'bankinter',\n",
              " 'crear',\n",
              " 'capacitat',\n",
              " 'mig',\n",
              " 'nolan',\n",
              " 'lloguer',\n",
              " 'pic',\n",
              " 'data',\n",
              " 'decidir',\n",
              " 'primers',\n",
              " 'doble',\n",
              " 'habitual',\n",
              " 'tol',\n",
              " 'just',\n",
              " 'lules',\n",
              " 'societat',\n",
              " 'compromisos',\n",
              " 'proves',\n",
              " 'metre',\n",
              " 'espectacles',\n",
              " 'menor',\n",
              " 'primeres',\n",
              " 'max',\n",
              " 'efectes',\n",
              " 'instagram',\n",
              " 'detectar',\n",
              " 'pagament',\n",
              " 'realitat',\n",
              " 'espanyola',\n",
              " 'assegurar',\n",
              " 'gr',\n",
              " 'an',\n",
              " 'provocar',\n",
              " 'desenvolupar',\n",
              " 'e',\n",
              " 'podrien',\n",
              " 'anacustey',\n",
              " 'ben',\n",
              " 'models',\n",
              " 'moments',\n",
              " 'llarg',\n",
              " 'sembla',\n",
              " 'obrir',\n",
              " 'sortida',\n",
              " 'publicat',\n",
              " 'pell',\n",
              " 'podem',\n",
              " 'brut',\n",
              " 'seguit',\n",
              " 'directora',\n",
              " 'val',\n",
              " 'canal',\n",
              " 'ingressos',\n",
              " 'acumulat',\n",
              " 'vacances',\n",
              " 'continua',\n",
              " 'perdre',\n",
              " 'mics',\n",
              " 'ctica',\n",
              " 'dona',\n",
              " 'eliminar',\n",
              " 'refer',\n",
              " 'joves',\n",
              " 'tend',\n",
              " 'anterior',\n",
              " 'novembre',\n",
              " 'qualsevol',\n",
              " 'participants',\n",
              " 'pagar',\n",
              " 'cim',\n",
              " 'internacional',\n",
              " 'bossa',\n",
              " 'set',\n",
              " 'di',\n",
              " 'iniciatives',\n",
              " 'creixement',\n",
              " 'investigadors',\n",
              " 'principalment',\n",
              " 'mi',\n",
              " 'agrada',\n",
              " 'rregues',\n",
              " 'escala',\n",
              " 'arriba',\n",
              " 'fontajau',\n",
              " 'polzades',\n",
              " 'territori',\n",
              " 'compartir',\n",
              " 'catalans',\n",
              " 'quil',\n",
              " 'aforament',\n",
              " 'accions',\n",
              " 'entrar',\n",
              " 'ric',\n",
              " 'xinesa',\n",
              " 'ferran',\n",
              " 'esport',\n",
              " 'lars',\n",
              " 'enguany',\n",
              " 'prov',\n",
              " 'has',\n",
              " 'portar',\n",
              " 'possibilitat',\n",
              " 'empleats',\n",
              " 'semestre',\n",
              " 'evoluci',\n",
              " 'recerca',\n",
              " 'recull',\n",
              " 'immobiliari',\n",
              " 'gica',\n",
              " 'blaugrana',\n",
              " 'atac',\n",
              " 'olot',\n",
              " 'feia',\n",
              " 'marc',\n",
              " 'uni',\n",
              " 'havien',\n",
              " 'podia',\n",
              " 'q',\n",
              " 'capa',\n",
              " 'origen',\n",
              " 've',\n",
              " 'puc',\n",
              " 'siguin',\n",
              " 'aliment',\n",
              " 'hipoteca',\n",
              " 'bil',\n",
              " 'leg',\n",
              " 'estrat',\n",
              " 'quedar',\n",
              " 'rrec',\n",
              " 'estil',\n",
              " 'far',\n",
              " 'presentar',\n",
              " 'giron',\n",
              " 'proposta',\n",
              " 'professor',\n",
              " 'nima',\n",
              " 'dit',\n",
              " 'con',\n",
              " 'espera',\n",
              " 'formaci',\n",
              " 'dijous',\n",
              " 'entrades',\n",
              " 'qualitat',\n",
              " 'brava',\n",
              " 'zona',\n",
              " 'ram',\n",
              " 'volem',\n",
              " 'soluci',\n",
              " 'comprar',\n",
              " 'revista',\n",
              " 'pcr',\n",
              " 'ganes',\n",
              " 'considera',\n",
              " 'estatal',\n",
              " 'apple',\n",
              " 'processador',\n",
              " 'conduir',\n",
              " 'niques',\n",
              " 'acollir',\n",
              " 'jugador',\n",
              " 'anunciar',\n",
              " 'fonts',\n",
              " 'afegeix',\n",
              " 'troba',\n",
              " 'et',\n",
              " 'santa',\n",
              " 'diferent',\n",
              " 'dones',\n",
              " 'distribuci',\n",
              " 'superior',\n",
              " 'pas',\n",
              " 'universitat',\n",
              " 'suposa',\n",
              " 'contagis',\n",
              " 'vall',\n",
              " 'previst',\n",
              " 'divisi',\n",
              " 'novel',\n",
              " 'dilluns',\n",
              " 'temperatura',\n",
              " 'sorra',\n",
              " 'carles',\n",
              " 'redu',\n",
              " 'pogut',\n",
              " 'nacional',\n",
              " 'programaci',\n",
              " 'global',\n",
              " 'mptomes',\n",
              " 'saber',\n",
              " 'curs',\n",
              " 'tancament',\n",
              " 'marques',\n",
              " 'resultats',\n",
              " 'passada',\n",
              " 'passos',\n",
              " 'lies',\n",
              " 'ngels',\n",
              " 'all',\n",
              " 'gaudir',\n",
              " 'sistemes',\n",
              " 'entorn',\n",
              " 'capital',\n",
              " 'nosaltres',\n",
              " 'associaci',\n",
              " 'ac',\n",
              " 'poca',\n",
              " 'concentraci',\n",
              " 'cam',\n",
              " 'tiques',\n",
              " 'superat',\n",
              " 'actuals',\n",
              " 'artistes',\n",
              " 'imatges',\n",
              " 'pez',\n",
              " 'base',\n",
              " 'spar',\n",
              " 'acaba',\n",
              " 'bateria',\n",
              " 'celebrar',\n",
              " 'discussions',\n",
              " 'tancar',\n",
              " 'algun',\n",
              " 'present',\n",
              " 'residus',\n",
              " 'concert',\n",
              " 'particulars',\n",
              " 'stiques',\n",
              " 'sortir',\n",
              " 'gironins',\n",
              " 'desc',\n",
              " 'aposta',\n",
              " 'pujat',\n",
              " 'comunitats',\n",
              " 'recomana',\n",
              " 'rez',\n",
              " 'bona',\n",
              " 'segueix',\n",
              " 'sang',\n",
              " 'passant',\n",
              " 'ajuda',\n",
              " 'bacteris',\n",
              " 'maria',\n",
              " 'as',\n",
              " 'seg',\n",
              " 'consum',\n",
              " 'tu',\n",
              " 'gesti',\n",
              " 'federaci',\n",
              " 'tecnol',\n",
              " 'cr',\n",
              " 'menjar',\n",
              " 'desembre',\n",
              " 'moderat',\n",
              " 'massa',\n",
              " 'ind',\n",
              " 'opci',\n",
              " 'vist',\n",
              " 'alzheimer',\n",
              " 'operaci',\n",
              " 'popular',\n",
              " 'explicat',\n",
              " 'establiments',\n",
              " 'posa',\n",
              " 'oficial',\n",
              " 'lig',\n",
              " 'artificial',\n",
              " 'resultat',\n",
              " 'carrera',\n",
              " 'confirmat',\n",
              " 'americ',\n",
              " 'recursos',\n",
              " 'stria',\n",
              " 'projectes',\n",
              " 'divendres',\n",
              " 'domicili',\n",
              " 'influencer',\n",
              " 'rrer',\n",
              " 'arribat',\n",
              " 'difer',\n",
              " 'banyoles',\n",
              " 'coll',\n",
              " 'relaci',\n",
              " 'comunicaci',\n",
              " 'andrea',\n",
              " 'completa',\n",
              " 'paper',\n",
              " 'posteriorment',\n",
              " 'inversi',\n",
              " 'vivenda',\n",
              " 'fallades',\n",
              " 'botiga',\n",
              " 'infecci',\n",
              " 'prendre',\n",
              " 'lvaro',\n",
              " 'ferranxidk',\n",
              " 'potser',\n",
              " 'fruita',\n",
              " 'quantitat',\n",
              " 'acceler',\n",
              " 'comunitat',\n",
              " 'increment',\n",
              " 'decisi',\n",
              " 'palau',\n",
              " 'femenina',\n",
              " 'millors',\n",
              " 'anat',\n",
              " 'medi',\n",
              " 'rica',\n",
              " 'planeta',\n",
              " 'problema',\n",
              " 'llei',\n",
              " 'jordi',\n",
              " 'jove',\n",
              " 'il',\n",
              " 'fi',\n",
              " 'producte',\n",
              " 'emmagatzematge',\n",
              " 'control',\n",
              " 'rrega',\n",
              " 'cursa',\n",
              " 'prova',\n",
              " 'regi',\n",
              " 'naturals',\n",
              " 'publicar',\n",
              " 'cura',\n",
              " 'alg',\n",
              " 'falta',\n",
              " 'tractar',\n",
              " 'junta',\n",
              " 'vista',\n",
              " 'meva',\n",
              " 'x',\n",
              " 'quina',\n",
              " 'xims',\n",
              " 'quines',\n",
              " 'muntanya',\n",
              " 'electr',\n",
              " 'programa',\n",
              " 'via',\n",
              " 'material',\n",
              " 'botigues',\n",
              " 'direcci',\n",
              " 'surt',\n",
              " 'mostrar',\n",
              " 'generalitat',\n",
              " 'not',\n",
              " 'produ',\n",
              " 'deixa',\n",
              " 'pensar',\n",
              " 'vehicles',\n",
              " 'comptar',\n",
              " 'central',\n",
              " 'xifra',\n",
              " 'cara',\n",
              " 'aliments',\n",
              " 'salaris',\n",
              " 'quin',\n",
              " 'clubs',\n",
              " 'reciclar',\n",
              " 'envasos',\n",
              " 'sabem',\n",
              " 'destacar',\n",
              " 'digital',\n",
              " 'garantir',\n",
              " 'proporcionar',\n",
              " 'aquell',\n",
              " 'laboral',\n",
              " 'restriccions',\n",
              " 'similar',\n",
              " 'provocat',\n",
              " 'costat',\n",
              " 'demanar',\n",
              " 'mart',\n",
              " 'camp',\n",
              " 'expert',\n",
              " 'dificultats',\n",
              " 'blica',\n",
              " 'assajos',\n",
              " 'parc',\n",
              " 'fran',\n",
              " 'jugadora',\n",
              " 'presentaci',\n",
              " 'temperatures',\n",
              " 'producci',\n",
              " 'destinar',\n",
              " 'utilitza',\n",
              " ...]"
            ]
          },
          "metadata": {
            "tags": []
          },
          "execution_count": 6
        }
      ]
    },
    {
      "cell_type": "code",
      "metadata": {
        "id": "LMyV9GXDXxVS",
        "outputId": "002659b7-46dd-446c-ff26-0310df22a153",
        "colab": {
          "base_uri": "https://localhost:8080/",
          "height": 17
        }
      },
      "source": [
        "tokenizer = Tokenizer(lang='ca', n_cpus=5)\n",
        "data_lm = TextLMDataBunch.from_csv('.', tokenizer=tokenizer, bs=16, valid_pct=0.1, csv_name='train_classifier.csv')"
      ],
      "execution_count": 7,
      "outputs": [
        {
          "output_type": "display_data",
          "data": {
            "text/html": [
              ""
            ],
            "text/plain": [
              "<IPython.core.display.HTML object>"
            ]
          },
          "metadata": {
            "tags": []
          }
        },
        {
          "output_type": "display_data",
          "data": {
            "text/html": [
              ""
            ],
            "text/plain": [
              "<IPython.core.display.HTML object>"
            ]
          },
          "metadata": {
            "tags": []
          }
        }
      ]
    },
    {
      "cell_type": "code",
      "metadata": {
        "id": "EzqB1N6c3cBQ",
        "outputId": "6c0611e6-2b1e-4a85-b692-b664b17c3198",
        "colab": {
          "base_uri": "https://localhost:8080/",
          "height": 35
        }
      },
      "source": [
        "len(data_lm.train_ds.vocab.itos[:])"
      ],
      "execution_count": 8,
      "outputs": [
        {
          "output_type": "execute_result",
          "data": {
            "text/plain": [
              "11200"
            ]
          },
          "metadata": {
            "tags": []
          },
          "execution_count": 8
        }
      ]
    },
    {
      "cell_type": "markdown",
      "metadata": {
        "id": "8M9mGqByJhaB"
      },
      "source": [
        "### Fine-tuning del Language Model amb la nostra data"
      ]
    },
    {
      "cell_type": "markdown",
      "metadata": {
        "id": "n-UipOTLJhaC"
      },
      "source": [
        "Primer, abans d'entrenar el classificador (només fent servir l'encoder) fem *fine-tuning* amb la nostra data. Tot i que el model ha estat entrenat amb un dataset de domini-general molt divers, probablement la nostra data té una distribució diferent.\n",
        "\n",
        "(recorda pujar al Colab els weights i els itos)"
      ]
    },
    {
      "cell_type": "code",
      "metadata": {
        "id": "vWATLNqkaCyb"
      },
      "source": [
        "weights_pretrained='model_60k-vocab-2'\n",
        "itos_pretrained='itos'\n",
        "pretrained_data=(weights_pretrained, itos_pretrained)"
      ],
      "execution_count": 9,
      "outputs": []
    },
    {
      "cell_type": "code",
      "metadata": {
        "id": "Uw1fZokOhCWF"
      },
      "source": [
        "!mkdir models\n",
        "!cp model_60k-vocab-2.pth models/\n",
        "!cp itos.pkl models/"
      ],
      "execution_count": 10,
      "outputs": []
    },
    {
      "cell_type": "code",
      "metadata": {
        "id": "HskNMLyoZ_AE"
      },
      "source": [
        "learn = language_model_learner(data_lm, AWD_LSTM, pretrained_fnames=pretrained_data, drop_mult=0)\n",
        "learn.freeze()"
      ],
      "execution_count": 11,
      "outputs": []
    },
    {
      "cell_type": "code",
      "metadata": {
        "id": "tUEm1H7tZ-cO"
      },
      "source": [
        "learn.lr_find()\n",
        "learn.recorder.plot(show_grid=True, suggestion=True)"
      ],
      "execution_count": null,
      "outputs": []
    },
    {
      "cell_type": "code",
      "metadata": {
        "id": "6EUEmTjbJhaD",
        "outputId": "b4a5cb31-b429-446f-9856-55887179a910",
        "colab": {
          "base_uri": "https://localhost:8080/",
          "height": 78
        }
      },
      "source": [
        "# entrenem el learner un epoch\n",
        "learn.fit_one_cycle(1, 3e-02, moms=(0.8,0.7))"
      ],
      "execution_count": 12,
      "outputs": [
        {
          "output_type": "display_data",
          "data": {
            "text/html": [
              "<table border=\"1\" class=\"dataframe\">\n",
              "  <thead>\n",
              "    <tr style=\"text-align: left;\">\n",
              "      <th>epoch</th>\n",
              "      <th>train_loss</th>\n",
              "      <th>valid_loss</th>\n",
              "      <th>accuracy</th>\n",
              "      <th>time</th>\n",
              "    </tr>\n",
              "  </thead>\n",
              "  <tbody>\n",
              "    <tr>\n",
              "      <td>0</td>\n",
              "      <td>3.013836</td>\n",
              "      <td>2.821997</td>\n",
              "      <td>0.509986</td>\n",
              "      <td>18:57</td>\n",
              "    </tr>\n",
              "  </tbody>\n",
              "</table>"
            ],
            "text/plain": [
              "<IPython.core.display.HTML object>"
            ]
          },
          "metadata": {
            "tags": []
          }
        }
      ]
    },
    {
      "cell_type": "code",
      "metadata": {
        "id": "-bWLWVa2agdr",
        "outputId": "13a031b2-6b56-4a3a-952e-18f297da74dd",
        "colab": {
          "base_uri": "https://localhost:8080/",
          "height": 228
        }
      },
      "source": [
        "learn.unfreeze()\n",
        "learn.fit_one_cycle(6,1e-02, moms=(0.8, 0.7))"
      ],
      "execution_count": 13,
      "outputs": [
        {
          "output_type": "display_data",
          "data": {
            "text/html": [
              "<table border=\"1\" class=\"dataframe\">\n",
              "  <thead>\n",
              "    <tr style=\"text-align: left;\">\n",
              "      <th>epoch</th>\n",
              "      <th>train_loss</th>\n",
              "      <th>valid_loss</th>\n",
              "      <th>accuracy</th>\n",
              "      <th>time</th>\n",
              "    </tr>\n",
              "  </thead>\n",
              "  <tbody>\n",
              "    <tr>\n",
              "      <td>0</td>\n",
              "      <td>2.214303</td>\n",
              "      <td>2.792412</td>\n",
              "      <td>0.481320</td>\n",
              "      <td>34:26</td>\n",
              "    </tr>\n",
              "    <tr>\n",
              "      <td>1</td>\n",
              "      <td>2.617223</td>\n",
              "      <td>2.828088</td>\n",
              "      <td>0.473191</td>\n",
              "      <td>35:19</td>\n",
              "    </tr>\n",
              "    <tr>\n",
              "      <td>2</td>\n",
              "      <td>1.918978</td>\n",
              "      <td>2.194183</td>\n",
              "      <td>0.573097</td>\n",
              "      <td>35:51</td>\n",
              "    </tr>\n",
              "    <tr>\n",
              "      <td>3</td>\n",
              "      <td>0.821320</td>\n",
              "      <td>1.400396</td>\n",
              "      <td>0.740343</td>\n",
              "      <td>34:57</td>\n",
              "    </tr>\n",
              "    <tr>\n",
              "      <td>4</td>\n",
              "      <td>0.542360</td>\n",
              "      <td>1.040318</td>\n",
              "      <td>0.823990</td>\n",
              "      <td>34:41</td>\n",
              "    </tr>\n",
              "    <tr>\n",
              "      <td>5</td>\n",
              "      <td>0.236891</td>\n",
              "      <td>1.026646</td>\n",
              "      <td>0.835385</td>\n",
              "      <td>34:59</td>\n",
              "    </tr>\n",
              "  </tbody>\n",
              "</table>"
            ],
            "text/plain": [
              "<IPython.core.display.HTML object>"
            ]
          },
          "metadata": {
            "tags": []
          }
        }
      ]
    },
    {
      "cell_type": "code",
      "metadata": {
        "id": "T6UAroEYJhaG"
      },
      "source": [
        "learn.save_encoder('ft_enc')"
      ],
      "execution_count": 14,
      "outputs": []
    },
    {
      "cell_type": "markdown",
      "metadata": {
        "id": "NI4UCTsrJhaO"
      },
      "source": [
        "### Fine-tuning de l'encoder"
      ]
    },
    {
      "cell_type": "markdown",
      "metadata": {
        "id": "SD8RB63nJhaO"
      },
      "source": [
        "Ara toca entrenar el classificador utilitzant només l'encoder. "
      ]
    },
    {
      "cell_type": "code",
      "metadata": {
        "id": "pVuMka7D_pFl"
      },
      "source": [
        "from sklearn.model_selection import train_test_split\n",
        "df_train, df_test = train_test_split(data,test_size=0.2)\n",
        "\n",
        "df_train.to_csv('news_train.csv')\n",
        "df_test.to_csv('news_test.csv')"
      ],
      "execution_count": 15,
      "outputs": []
    },
    {
      "cell_type": "code",
      "metadata": {
        "id": "5cZWK_4i1Fk3"
      },
      "source": [
        "df_train"
      ],
      "execution_count": null,
      "outputs": []
    },
    {
      "cell_type": "code",
      "metadata": {
        "id": "9eqwwJhL1Go1"
      },
      "source": [
        "df_test"
      ],
      "execution_count": null,
      "outputs": []
    },
    {
      "cell_type": "code",
      "metadata": {
        "id": "loK3Kmz1MTLL",
        "outputId": "2c95bedb-cec1-4f70-c0a2-b7c67a1d658b",
        "colab": {
          "base_uri": "https://localhost:8080/",
          "height": 17
        }
      },
      "source": [
        "data_lm = TextClasDataBunch.from_csv(path='.',csv_name='news_train.csv',\n",
        "                              vocab=data_lm.train_ds.vocab,bs=64, text_cols='Article',label_cols='Type', tokenizer=tokenizer)\n",
        "data_lm.save('data_lm_classifier')\n"
      ],
      "execution_count": 16,
      "outputs": [
        {
          "output_type": "display_data",
          "data": {
            "text/html": [
              ""
            ],
            "text/plain": [
              "<IPython.core.display.HTML object>"
            ]
          },
          "metadata": {
            "tags": []
          }
        },
        {
          "output_type": "display_data",
          "data": {
            "text/html": [
              ""
            ],
            "text/plain": [
              "<IPython.core.display.HTML object>"
            ]
          },
          "metadata": {
            "tags": []
          }
        }
      ]
    },
    {
      "cell_type": "code",
      "metadata": {
        "id": "bu4r-1pp8Es6",
        "outputId": "b2ddcda6-50df-4f2b-8752-75e7daf7eb02",
        "colab": {
          "base_uri": "https://localhost:8080/",
          "height": 529
        }
      },
      "source": [
        "data_lm.show_batch()"
      ],
      "execution_count": 17,
      "outputs": [
        {
          "output_type": "stream",
          "text": [
            "/usr/local/lib/python3.6/dist-packages/fastai/text/data.py:339: UserWarning: This overload of nonzero is deprecated:\n",
            "\tnonzero()\n",
            "Consider using one of the following signatures instead:\n",
            "\tnonzero(*, bool as_tuple) (Triggered internally at  /pytorch/torch/csrc/utils/python_arg_parser.cpp:766.)\n",
            "  idx_min = (t != self.pad_idx).nonzero().min()\n"
          ],
          "name": "stderr"
        },
        {
          "output_type": "display_data",
          "data": {
            "text/html": [
              "<table border=\"1\" class=\"dataframe\">\n",
              "  <thead>\n",
              "    <tr style=\"text-align: right;\">\n",
              "      <th>text</th>\n",
              "      <th>target</th>\n",
              "    </tr>\n",
              "  </thead>\n",
              "  <tbody>\n",
              "    <tr>\n",
              "      <td>xxbos xxmaj la not cia del comprom s per a una fusi entre caixabank i xxmaj bankia va arribar de forma atropellada a la mitjanit de dijous i divendres va despertar les borses amb un sonor aplaudiment a l operaci financera que si prospera donar a llum aviat la primera entitat espanyola per volum d actius de cr dits de dip sits d oficines i empleats a xxmaj espanya xxmaj</td>\n",
              "      <td>ECONOMIA</td>\n",
              "    </tr>\n",
              "    <tr>\n",
              "      <td>xxbos xxmaj la not cia del comprom s per a una fusi entre caixabank i xxmaj bankia va arribar de forma atropellada a la mitjanit de dijous i divendres va despertar les borses amb un sonor aplaudiment a l operaci financera que si prospera donar a llum aviat la primera entitat espanyola per volum d actius de cr dits de dip sits d oficines i empleats a xxmaj espanya xxmaj</td>\n",
              "      <td>ECONOMIA</td>\n",
              "    </tr>\n",
              "    <tr>\n",
              "      <td>xxbos xxmaj allunyat des de feia un parell d anys del m n de l esport despr s d una llarga etapa com a periodista especialitzat en b squet el giron xxmaj jordi xxmaj pl estava treballant com a mediador a c ritas quan va rebre una inesperada trucada de xxmaj marc xxmaj gasol xxmaj el pivot dels xxmaj raptors el volia com a director esportiu del b squet xxmaj</td>\n",
              "      <td>SPORTS</td>\n",
              "    </tr>\n",
              "    <tr>\n",
              "      <td>xxbos xxmaj les presentacions d xxmaj apple queden gravades en la mem ria xxmaj sobretot en un temps en el qual els assistents esperaven el gest i les paraules m giques de xxmaj steve xxmaj jobs quan gaireb al final de l esdeveniment i ficant la m en la seva butxaca deia hi ha una cosa m s i tots sense excepci sabien que una cosa gran estava a punt</td>\n",
              "      <td>TECNOLOGIA</td>\n",
              "    </tr>\n",
              "    <tr>\n",
              "      <td>xxbos xxmaj les presentacions d xxmaj apple queden gravades en la mem ria xxmaj sobretot en un temps en el qual els assistents esperaven el gest i les paraules m giques de xxmaj steve xxmaj jobs quan gaireb al final de l esdeveniment i ficant la m en la seva butxaca deia hi ha una cosa m s i tots sense excepci sabien que una cosa gran estava a punt</td>\n",
              "      <td>TECNOLOGIA</td>\n",
              "    </tr>\n",
              "  </tbody>\n",
              "</table>"
            ],
            "text/plain": [
              "<IPython.core.display.HTML object>"
            ]
          },
          "metadata": {
            "tags": []
          }
        }
      ]
    },
    {
      "cell_type": "code",
      "metadata": {
        "id": "4Ut5B20v3K1C",
        "outputId": "7b605682-d52a-4a81-d237-0e560699b4e5",
        "colab": {
          "base_uri": "https://localhost:8080/",
          "height": 1000
        }
      },
      "source": [
        "data_lm.vocab.itos[:100]"
      ],
      "execution_count": 18,
      "outputs": [
        {
          "output_type": "execute_result",
          "data": {
            "text/plain": [
              "['xxunk',\n",
              " 'xxpad',\n",
              " 'xxbos',\n",
              " 'xxeos',\n",
              " 'xxfld',\n",
              " 'xxmaj',\n",
              " 'xxup',\n",
              " 'xxrep',\n",
              " 'xxwrep',\n",
              " 'de',\n",
              " 'la',\n",
              " 'a',\n",
              " 'que',\n",
              " 's',\n",
              " 'i',\n",
              " 'el',\n",
              " 'l',\n",
              " 'en',\n",
              " 'per',\n",
              " 'd',\n",
              " 'les',\n",
              " 'un',\n",
              " 'els',\n",
              " 'm',\n",
              " 'amb',\n",
              " 'del',\n",
              " 'una',\n",
              " 'ha',\n",
              " 'es',\n",
              " 'al',\n",
              " 'va',\n",
              " 'no',\n",
              " 'com',\n",
              " 'dels',\n",
              " 'o',\n",
              " 'n',\n",
              " 'aquest',\n",
              " 'ncia',\n",
              " 'hi',\n",
              " 'ser',\n",
              " 'aix',\n",
              " 'tamb',\n",
              " 'han',\n",
              " 'seva',\n",
              " 'tot',\n",
              " 'molt',\n",
              " 'seu',\n",
              " 'entre',\n",
              " 'se',\n",
              " 'als',\n",
              " 'ja',\n",
              " 'si',\n",
              " 't',\n",
              " 'girona',\n",
              " 'anys',\n",
              " 'van',\n",
              " 'aquesta',\n",
              " 'fer',\n",
              " 'b',\n",
              " 'ria',\n",
              " 'est',\n",
              " 'seus',\n",
              " 'des',\n",
              " 'segons',\n",
              " 'fins',\n",
              " 'pel',\n",
              " 'despr',\n",
              " 'perqu',\n",
              " 'ho',\n",
              " 'any',\n",
              " 'durant',\n",
              " 'sobre',\n",
              " 'pot',\n",
              " 'fa',\n",
              " 'p',\n",
              " 'on',\n",
              " 'fet',\n",
              " 'altres',\n",
              " 'quan',\n",
              " 'nom',\n",
              " 'cap',\n",
              " 'estat',\n",
              " 'c',\n",
              " 'tots',\n",
              " 'persones',\n",
              " 'encara',\n",
              " 'ara',\n",
              " 'ens',\n",
              " 'covid',\n",
              " 'part',\n",
              " 'mateix',\n",
              " 'tenir',\n",
              " 'dues',\n",
              " 'pr',\n",
              " 'aquests',\n",
              " 'dos',\n",
              " 'gran',\n",
              " 'poden',\n",
              " 'sense',\n",
              " 'tiktok']"
            ]
          },
          "metadata": {
            "tags": []
          },
          "execution_count": 18
        }
      ]
    },
    {
      "cell_type": "code",
      "metadata": {
        "id": "XUDjzsmTMWMN",
        "outputId": "be958e35-2257-4163-c705-15055326b136",
        "colab": {
          "base_uri": "https://localhost:8080/",
          "height": 35
        }
      },
      "source": [
        "learn = text_classifier_learner(data_lm, AWD_LSTM, drop_mult=0.5)"
      ],
      "execution_count": 19,
      "outputs": [
        {
          "output_type": "stream",
          "text": [
            "Downloading https://s3.amazonaws.com/fast-ai-modelzoo/wt103-fwd.tgz\n"
          ],
          "name": "stdout"
        },
        {
          "output_type": "display_data",
          "data": {
            "text/html": [
              ""
            ],
            "text/plain": [
              "<IPython.core.display.HTML object>"
            ]
          },
          "metadata": {
            "tags": []
          }
        }
      ]
    },
    {
      "cell_type": "code",
      "metadata": {
        "id": "NT_5aIudJhaP",
        "outputId": "904f2886-d2f1-488c-fd4e-0f3759f3e44c",
        "colab": {
          "base_uri": "https://localhost:8080/",
          "height": 1000
        }
      },
      "source": [
        "learn.load_encoder('ft_enc')\n",
        "learn.freeze"
      ],
      "execution_count": 20,
      "outputs": [
        {
          "output_type": "execute_result",
          "data": {
            "text/plain": [
              "<bound method Learner.freeze of RNNLearner(data=TextClasDataBunch;\n",
              "\n",
              "Train: LabelList (568 items)\n",
              "x: TextList\n",
              "xxbos xxmaj el nou conseller d xxmaj empresa de la xxmaj generalitat xxmaj ramon xxmaj tremosa va assegurar ahir que li agradaria que caixabank retorn s a xxmaj barcelona la seva seu social i fiscal que des d octubre de s a xxmaj val ncia i ha anunciat que treballar perqu aix sigui xxmaj aix mateix es va mostrar preocupat pel fet que una fusi reduiria encara m s el nombre d entitats que operen en el sistema financer espanyol donant lloc a una situaci d oligopoli i que aix podria anar en detriment de la compet ncia i per tant dels usuaris xxmaj en la mateixa l nia xxmaj podem va advertir que el moviment que permetria crear el major grup bancari d xxmaj espanya suposar un aprofundiment en la concentraci del sector bancari i tindr un impacte negatiu en l ocupaci xxmaj el secretari d xxmaj economia de xxmaj podem xxmaj nacho lvarez considera que l xxmaj estat no ha d abandonar la seva participaci en el capital reprivatitzant l entitat en refer ncia a xxmaj bankia que segons va recordar va ser sanejada gr cies a milions d euros p blics xxmaj per aix va apuntar que l xxmaj estat ha de protegir els contribuents que amb els seus impostos van rescatar l entitat i va advertir que la fusi aprofundir l oligopoli en el sector financer i suposar una mala not cia per a la compet ncia de mercat xxmaj des d un altre punt de vista el xxup pp considera que si l operaci tira endavant seria una not cia positiva per a l economia en paraules de la vicesecret ria de xxmaj sectorial d aquest partit xxmaj elvira xxmaj rodr guez que va demanar que tot es faci amb transpar ncia a m s va reclamar protecci per als clients i treballadors de les dues entitats i va demanar al xxmaj govern que doni explicacions al xxmaj congr s,xxbos xxmaj un dels molts efectes que la crisi del xxmaj covid ha tingut sobre el mercat immobiliari s que l inversor financer s ha absentat de les operacions de compravenda de vivenda residencial durant el per ode que dura la pand mia xxmaj durant el primer semestre les transaccions realitzades per aquest tipus de comprador han descendit fins al des d un proporci molt m s gran en anys anteriors xxmaj el percentatge m xim d inversors es va assolir el amb gaireb el de les compravendes realitzades segons posa de manifest un estudi sobre el mercat immobiliari en el primer semestre de l any realitzat per xxmaj tecnocasa i la xxmaj universitat xxmaj pompeu xxmaj fabra xxup upf l inversor comen a a desapar ixer del mercat residencial ha comentat xxmaj jos xxmaj garc a xxmaj montalvo professor de la xxup upf que col labora en l estudi de la immobili ria xxmaj al mar els inversors surten de la borsa davant les males expectatives del mercat per encara es mantenen en el mercat immobiliari xxmaj despr s la incertesa tamb plana sobre l activitat residencial paren tamb la inversi ha comentat xxmaj montalvo xxmaj la retirada dels inversors financers del mercat immobiliari previsiblement tindr un efecte en el nombre de transaccions per al conjunt de l any tot i que segons els responsables de l informe pot veure s compensada pel canvi d s d una altra part de l oferta principalment dels apartaments tur stics que en una proporci significativa s estan transformant de lloguer de temporada o resid ncia simplement de lloguer destaquen xxmaj amb ells en part fora del mercat per tamb les fam lies que han preferit estalviar que entrar en la despesa de b ns de consum duradors com la vivenda el cert s que el nombre de transaccions s ha redu t i tamb els preus xxmaj el preu de la vivenda utilitzada a xxmaj espanya va descendir en el primer semestre del un cosa que situa el metre quadrat en euros xxmaj es tracta del segon semestre consecutiu en qu el preu de la vivenda descendeix ja que en el segon semestre del i en taxa interanual la vivenda va baixar un xxmaj les ciutats de xxmaj madrid i xxmaj barcelona presenten dos dels descensos m s importants xxmaj les dues capitals ja van ser les primeres a iniciar la baixada de preus fa sis mesos i s n tamb les poblacions que marquen el cam i el que despr s succeir a la resta de poblacions del pa s xxmaj el mercat reflecteix la tend ncia de contenci de preus que ja s havia posat de manifest a finals del ha explicat xxmaj garc a xxmaj montalvo xxmaj mercat del lloguer xxmaj tamb el mercat de lloguer es mou cap a la contenci dels preus particularment al mercat de xxmaj barcelona on la franja de rendes d entre i euros ha passat del al en aquest primer semestre xxmaj aix indica clarament que els preus s estan movent a la baixa ha explicat l zaro xxmaj cubero responsable del departament d an lisi de xxmaj fotocasa xxmaj destaca la immobili ria que va mantenir la seva activitat durant els mesos de l estat d alarma en la mesura possible que s ha produ t un acostament dels venedors a la realitat del mercat xxmaj almenys a xxmaj barcelona on ha fet vendes hipoteques i lloguers xxmaj la difer ncia entre el preu de sortida de les vivendes a la venda i el de compra final ha registrat una variaci nom s del xxmaj els nostres preus sol ajustar se bastant al valor de mercat i evitem difer ncies del com passa amb altres portals immobiliaris tot i aix hi ha hagut una certa correcci respecte a la pretensi dels venedors ha comentat xxmaj vittorio xxmaj rossi president de xxmaj tecnocasa,xxbos xxmaj els catalans han de destinar ntegrament el sou brut de vuit anys per pagar la hipoteca d un habitatge comprat el segons l estudi xxmaj relaci de salaris i la compra d habitatge en elaborat per xxmaj fotocasa i xxmaj infojobs xxmaj en els ltims cinc anys l esfor destinat a pagar la hipoteca ha pujat punts xxmaj el els catalans havien de dedicar anys de la n mina bruta mensual per pagar una hipoteca d un pis de metres quadrats anys el anys el anys el i anys el xxmaj catalunya s la quarta comunitat on es destinen m s recursos a pagar la hipoteca per darrere del xxmaj pa s xxmaj basc amb anys i xxmaj madrid i les xxmaj illes xxmaj balears ambdues amb anys de mitjana xxmaj en el tancament de es va detectar la primera caiguda del preu de l habitatge de segona m a escala estatal xxmaj en concret el preu va caure un i va trencar aix la cadena de mesos consecutius de pujades interanuals del preu de l habitatge ha assegurat la directora de xxmaj comunicaci de xxmaj fotocasa xxmaj ana s l pez xxmaj la caiguda en el preu explica tamb el descens de l esfor econ mic dels espanyols en comparaci amb el l actual tend ncia a la moderaci dels preus de compra a xxmaj espanya ens indica que potser aquest esfor econ mic encara pugui baixar en els pr xims anys si els salaris es mantenen m s o menys estables ha afegit xxmaj la directora de comunicaci d xxmaj infojobs m nica p rez ha reconegut que actualment s dif cil preveure com evolucionaran els salaris xxmaj tot i aix ha assegurat que les empreses estan optant per la congelaci salarial la revisi de les pol tiques de compensaci o fins i tot els ajustos retributius davant la gravetat de la situaci econ mica xxmaj en refer ncia al menor esfor econ mic de les fam lies per comprar un immoble el p rez s ha referit a l increment del salari mitj en un xxmaj tot i aix s ha de tenir en compte que el creixement m s gran correspon a la pujada del salari m nim interprofessional un m s ha afirmat xxmaj en el per ode acumulat entre i els salaris mitjans han pujat un i s han situat en euros a l any xxmaj el preu de l habitatge en canvi ha augmentat un fins als euros per metre quadrat,xxbos xxmaj els tres bancs privats m s grans del xxmaj brasil xxmaj santander xxmaj bradesco xxmaj ita xxmaj unibanco treballaran conjuntament per promoure el desenvolupament sostenible de l xxmaj amazones xxmaj la crisi del coronavirus ens ha demostrat que un m n m s sostenible s possible xxmaj amb l aturada de l activitat econ mica i el confinament dels ciutadans per contenir el virus el medi ambient disfrutava d un par ntesi disminu a la contaminaci a les ciutats es registrava una clara baixada en el nivell d emissions de gasos contaminants la vegetaci i la fauna recolonitzaven i recuperaven espais perduts xxmaj no obstant ara que el nostre model econ mic s ha repr s i tot va tornant a la normalitat qu passar produiran les mesures de reactivaci i sortida de la crisi un efecte rebot que minvi m s els nostres recursos naturals o serem capa os de promoure iniciatives d est mul verd alineades amb els objectius clim tics xxmaj per transitar aquesta segona via de recuperaci i aconseguir un equilibri entre la nostra forma de viure i el respecte per l entorn la col laboraci entre tots incloses les grans empreses es converteix en capital xxmaj un clar exemple s el xxmaj pla conjunt per promoure el desenvolupament sostenible del xxmaj amazones posat en marxa pels tres bancs privats m s grans del xxmaj brasil xxmaj santander xxmaj bradesco i xxmaj ita xxmaj unibanco xxmaj fruit d aquesta hist rica alian a es treballar en tres fronts prioritaris la conservaci del medi ambient i el desenvolupament de la bioeconomia la inversi en infraestructura sostenible i la garantia dels drets b sics de la poblaci de la regi amaz nica xxmaj la magnitud del desafiament exigeix una acci ferma i r pida per part de tots els actors que puguin participar en la construcci d un model de desenvolupament sostenible per a l xxmaj amaz nia que inclogui les necessitats de la poblaci i la preservaci dels nostres recursos naturals xxmaj amb els esfor os combinats de la nostra ind stria podrem fer encara m s per aquesta regi que t un valor inestimable no nom s per al pa s sin per a tot el planeta explica al respecte s rgio xxmaj rial president de xxmaj santander xxmaj brasil xxmaj entre les accions que formen part d aquest plai que es comen aran a aplicara quest any hi figuren l estimulaci de les cadenes sostenibles per exemple el cacau l aca i les nous a la regi mitjan ant l nies de finan amento instruments no financers la inversi en infraestructura b sica per al desenvolupament social energia internet vivenda sanejament etc i ambiental per exemple transport d aigua l atracci d inversions i promoci d associacions per al desenvolupament de tecnologies que impulsin la bioeconomia o el suport als agents i dirigents locals que treballen en projectes de desenvolupament socioecon mic a la regi xxmaj un exemple concret d aquestes mesures s el projecte mitjan ant el qual xxmaj santander xxmaj brasil destinar prop d bili d euros al finan ament de projectes de serveis b sics com el prove ment d aigua xxmaj comprom s amb la sostenibilitat xxmaj aquesta alian a s enquadra en l estrat gia de creixement sostenible de xxmaj banco xxmaj santander considerat el banc m s sostenible del m n segons el xxmaj dow xxmaj jones xxmaj sustainability xxmaj index i refor a el seu comprom s amb la transici tant pr pia com dels seus clients i la societat en general cap a una economia baixa en carboni xxmaj amb aquest objectiu a l horitz xxmaj banco xxmaj santander facilitar la mobilitzaci de milions d euros entre i i milions d euros entre i per combatre el canvi clim tic xxmaj am s s un dels firmants del xxmaj comprom s xxmaj col lectiu d xxmaj acci pel xxmaj clima i est present en la figura de la seva presidenta a l xxmaj alian a pera la xxmaj recuperaci xxmaj verda xxmaj green xxmaj recovery xxmaj alliance promoguda per recolzar i impulsar la mobilitzaci de paquets d inversi verds que actu n com a acceleradors d una transici cap a una neutralitat clim tica i ecosistemes saludables xxmaj els compromisos de banca responsable adquirits per xxmaj banco xxmaj santander inclouen tamb la protecci del medi ambient a trav s de la reducci de la seva pr pia empremta ambiental sadir est centrata reduir les emissions de xxup co sent m s eficients utilitzant m s energies renovables compensant la resta de les seves emissions i reduint i gestionant de forma responsable els seus residus l objectiu principal s que el el de l electricitat que utilitza l entitat provingui de fonts renovables i que per al s hagi eliminat l s de pl stic innecessari d un sol s en totes les oficines i edificis a m s a la xxmaj confer ncia de les xxmaj nacions xxmaj unides sobre el xxmaj canvi xxmaj clim tic xxup cop celebrada a xxmaj madrid xxmaj santander va llan ar el seu comprom s de ser per primera vegada neutral en carboni el compensant totes les emissions generades per les seves pr pies operacions,xxbos xxmaj el xxmaj consell xxmaj superior d xxmaj esports xxup csd va xxunk ahir el conflicte que es vivia al futbol espanyol per a la present temporada en decidir que per a la propera temporada hi haur un campionat de xxmaj segona amb equips com xxunk xxmaj la xxmaj lliga en comptes dels que xxunk la xxmaj reial xxmaj federaci xxmaj espanyola de xxmaj futbol xxmaj el xxup xxunk ja havia donat la ra dimecres a la patronal descartant el descens dels madrilenys i xxunk los com a equip de plata l objectiu de la convocat ria era arribar a un acord sobre el calendari de la propera temporada i la seva data per al sorteig que en principi ser el dilluns d agost xxmaj la xxmaj lliga de xxmaj primera i xxmaj segona est previst que comenci els dies i de setembre xxmaj el xxmaj girona veur xxunk les dues primeres jornades tenint en compte que va jugar la final del play off\n",
              "y: CategoryList\n",
              "ECONOMIA,ECONOMIA,ECONOMIA,ECONOMIA,SPORTS\n",
              "Path: .;\n",
              "\n",
              "Valid: LabelList (143 items)\n",
              "x: TextList\n",
              "xxbos xxmaj la moci de censura formada per tres precandidats a les eleccions i vuit grups d opini de l entorn blaugrana va arrencar xxunk ahir amb el lliurament de les xxunk als impulsors que van presentar una sol xxunk per ampliar del al de setembre el termini de recollida de signatures en considerar que els dissabtes no compten com a dies h bils s xxunk en la sent ncia del que va donar la ra a xxmaj agust xxmaj xxunk i va considerar els dissabtes com a dies no h bils en la moci de censura duta a terme el xxmaj per for ar el vot de censura els xxunk firmes de socis xxunk lo,xxbos xxmaj renovar se o morir xxmaj just aix han pensat conjuntament tant l xxmaj associaci xxmaj esportiva xxmaj esports xxmaj parra com l xxmaj ajuntament de xxmaj girona presentant un format innovador per a la setena edici de la xxmaj cursa de la xxmaj dona de la capital gironina xxmaj poder reunir en un mateix acte les persones de l ltim any s impossible tenint en compte el context actual i per tant s ha apostat per variar la f rmula xxmaj aquesta vegada la competici ser virtual i les participants disposaran de quinze dies entre el de setembre i l d octubre per completar els quil metres de rigor xxmaj el recorregut estar marcat amb punts quilom trics i tamb hi haur la possibilitat de compartir ho a trav s de les xarxes socials xxmaj amb el format de l edici d aquest any l objectiu principal s mantenir l esperit de la cursa xxmaj tot i la situaci actual s ha de seguir promocionant els h bits saludables la promoci de la pr ctica de l activitat esportiva i tamb sobretot l esport entre les dones explicava ahir dam xxmaj bertran el regidor d xxmaj esports del consistori giron xxmaj per a aquesta edici s ha canviat el recorregut habitual allunyant lo del centre urb xxmaj se sortir del pavell de xxmaj fontajau es realitzar una volta al parc de la xxmaj devesa abans de creuar per sota el pont de l avinguda xxmaj josep xxmaj tarradelles i xxmaj joan per dirigir se a la zona de xxmaj domeny i tornar a xxmaj fontajau xxmaj hi haur dos punts per fotografiar se xxmaj hi haur per tant cursa i tamb entrenaments que es mantenen aquest mes de setembre xxmaj van comen ar el passat mes d agost i es proposa a totes les interessades siguin corredores o caminadores realitzar un circuit per la ciutat de xxmaj girona o tamb per d altres punts de la demarcaci xxmaj la inscripci a la cursa s gratu ta i es pot realitzar des de la web de la xxmaj cursa de la xxmaj dona de xxmaj girona omplint el pertinent formulari,xxbos m s del dels llocs de treball de l automoci haur desaparegut com a conseq ncia de l automatitzaci l any segons es despr n de la xxmaj guia xxmaj hays que recull que nom s el dels empleats considera que la tecnologia destrueix ocupaci mentre que la resta opina que els aven os eliminen uns llocs de treball per creen altres diferents xxmaj aix el de les companyies del sector assegura que preveu que desapareixeran m s del dels llocs de treball de l automoci fins al i nom s un d aquestes firmes opina que l impacte sobre els empleats ser menor xxmaj de la resta de les empreses el considera que la reducci dels llocs de treball estar entre el i el mentre que fins a un considera que s eliminar entre un i un de l ocupaci xxmaj no obstant aix des del punt de vista dels treballadors el d ells est conven ut que el seu lloc de treball seguir vigent d aqu a deu anys davant el que assegura tenir dubtes sobre aquesta circumst ncia i el que manifesta que el seu lloc de treball ja no existir xxmaj el sector est immers en una gran transformaci cap als vehicles el ctrics i aix fa que els perfils m s demandats canvi n cap a m s enginyers relacionats amb les tecnologies de la informaci i el programari va explicar la responsable d xxmaj ind stria xxmaj nacional de xxmaj hays xxmaj imma xxmaj mart nez xxmaj aquesta tend ncia tamb es reflecteix a la xxmaj guia xxmaj salarial xxmaj hays on es destaca la ind stria de l automoci com una de les m s afectades per l automatitzaci el que comporta grans canvis en les organitzacions i els seus sistemes de treball xxmaj feina m s qualificada xxmaj mart nez apunta que la feina que es crear ser m s qualificada i que augmentar la demanda de persones amb titulacions relatives al desenvolupament tecnol gic i a la gesti a l adaptaci i al manteniment de la tecnologia xxmaj si ho fem b i comptem amb el suport dels fabricants el xxmaj govern i l educaci podem crear hubs d innovaci per a tot xxmaj europa i poder tamb incorporar talent de fora de pa s va assegurar xxmaj mart nez,xxbos l estiu avan a amb pas ferm per els dies per gaudir de la platja i del bon temps encara no s acaben xxmaj banyar se en un rac id lic de la xxmaj costa xxmaj brava descansar a la sorra i menjar un entrep o un t per pot ser un pla perfecte per si no vols que aquest dia ideal s acabi espatllant cal tenir en compte tots els detalls com el menjar que duus xxmaj sigui perqu hi ha aliments que s n m s sensibles als rajos ultra violeta provoquen malestar dolors o inflor cal tenir present quins s n els menjars que no es recomanen i per qu xxmaj aquests s n els aliments que hauries d evitar portar a la platja un dia calor s xxmaj llet pasteuritzada iogurts i formatge fresc xxmaj tant la llet pasteuritzada els iogurts com el formatge fresc han d estar en constant refrigeraci xxmaj les neveres tradicionals que abunden a la platja no aporten el refredament que necessiten aquests productes l ctics xxmaj aix s aix pel fet que les temperatures superiors als quatre graus poden provocar que el s rum que cont la llet s acabi separant i que els bacteris augmentin amb major facilitat xxmaj en canvi les llets xxmaj ultra xxmaj high xxmaj temperature xxup uht a l haver estat sotmeses a una injecci de vapor que mata els bacteris pat gens fa que es puguin mantenir a la temperatura ambient durant m s estona xxmaj ous xxmaj els ous bullits la truita de patates l amanida russa la maionesa els arrebossats i tots aquells menjars que portin ou no haurien d estar fora de la nevera de casa durant m s de dues hores o b d una en el cas que les temperatures siguin m s elevades als graus xxmaj amb les temperatures c lides els bacteris presents en els ous tenen un ndex elevat de creixement fet pel qual la ingesta d aquest aliment pot arribar a causar diferents enfermetats xxmaj marisc i peix blau xxmaj el marisc i el peix blau com la tonyina o les sardines especialment fora del seu enllaunat i a temperatura ambient poden tendir a generar histamina un compost que sorgeix per l acci dels bacteris sobre la carn del peix i que acostuma a provocar una intoxicaci aliment ria a la persona que la consumeix xxmaj ara b les escopinyes les clo sses i altres enllaunats esterilitzats no s habitual que produeixin la histamina xxmaj caf xxmaj el caf s una de les begudes menys recomanables en una jornada de platja xxmaj el seu contingut ric en cafe na a menys que sigui descafe nat fa que actu com a di r tic i que el cos expulsi la seva aigua i les seves sals mitjan ant la suor provocant per tant abans la deshidrataci de l organisme a m s a m s amb l alliberaci de la gastrina una hormona que augmenta l activitat del colon fa que el caf tamb pugui tenir efectes laxants xxmaj te xxmaj igual que el caf les infusions amb te na tendeixen a provocar deshidrataci ja que les propietats de la cafe na i la te na s n similars xxmaj begudes alcoh liques xxmaj pel que fa a l alcohol s rellevant con ixer que s una beguda vasodilatadora fent que el cos elimini els l quids de la sang a partir del sistema renal a un ritme m s elevat que altres l quids el que pot arribar a provocar la deshidrataci i incl s el desmai de forma r pida en dies de calor xxmaj begudes ensucrades i gasoses xxmaj les begudes ensucrades i les gasoses es desaconsellen perqu els seus nivells elevats de sucre poden provocar un alt i baix d aquest estimulant a la sang que arribi a generar un fort mal de cap a m s a m s cal tenir en consideraci que provoquen amb molta facilitat l efecte de ventre inflat xxmaj embotits cuits xxmaj els embotits cuits com el gall d indi o el pernil dol s han de conservar en una constant refrigeraci i poden estar carregats de sodi xxmaj la mala conservaci d aquests aliments pot provocar una intoxicaci aliment ria i quant al sodi aquest fa que la retenci de l quids augmenti i en conseq ncia el cos s infli xxmaj en canvi els embotits curats s n un aliment completament recomanat per un dia id l lic a la platja ja que resisteixen la calor amb facilitat xxmaj patates i altres aperitius similars de bossa xxmaj un altre aliment carregat de sodi com molts embotits cuits s n les patates de bossa i altres aperitius similars xxmaj aquests piscolabis provoquen inflor xxmaj cruc feres xxmaj la coliflor el br coli o la col tamb se sumen al llistat d ingredients que provoquen l efecte de la panxada inflada i a m s a m s gasos xxmaj els cruc fers contenen rafinosa un sucre que no es digereix fins que arriba als bacteris intestinals fent que l est mac s infli xxmaj fruita ja pelada xxmaj la pell de la fruita protegeix dels g rmens motiu pel qual no es recomana portar a la platja la fruita ja pelada i sobretot sabent que la combinaci de sucre calor i humitat augmenta les possibilitats que els g rmens es multipliquin xxmaj per tant per disminuir el risc que es contamini es recomana portar la amb la pela xxmaj recorda que si decideixes menjar la amb pela cal netejar la amb aigua abundant i amb desinfectant xxmaj aliments rics en prote na xxmaj els menjars que porten abundant prote na com la carn vermella dificulten la digesti fent que l est mac necessiti treballar m s gastant m s energia i conseq entment augmentant la calor corporal quelcom poc recomanable si el dia ja de per si s calor s i llavors qu es recomana ingerir durant una jornada de calor a la platja xxmaj en primera inst ncia s fonamental beure aigua amb regularitat per a hidratar el cos i ingerir plats lleugers com una amanida o el gaspatxo xxmaj si aquesta opci no us fa el pes tamb es pot comptar amb els embotits curats xxmaj de piscolabis un grapat de fruits secs pot ser idoni pels minerals que aporten xxmaj per altra banda de postres l opci m s recomanable s la fruita portada de casa sense pelar ja que cont aigua i molts nutrients xxmaj pel que fa als h bits que cal tenir en compte hi ha el fet que s ha de preparar el menjar el m s tard que es pugui s a dir el m s proper al moment d ingerir lo a m s a m s si s menjar calent no s ha de posar a la nevera de forma instant nia xxmaj la nevera de platja s indispensable ja que gaireb qualsevol aliment que es vulgui menjar s millor que es conservi en fred i sota cap circumst ncia en un ambient calor s xxmaj tenint en compte aix sempre que puguis mant n la a l ombra amb la tapa tancada i en el cotxe transporta la amb els passatgers i no al maleter,xxbos xxmaj les dades dels acceler metres uns sensors presents en la major part de m bils actuals que detecten els passos d una persona poden utilitzar se per a determinar si el seu propietari es troba sota els efectes de l alcohol i ha superat la taxa d alcohol mia permesa per a conduir xxmaj un estudi elaborat per les universitats de xxmaj stanford i xxmaj pittsburgh els xxmaj estats xxmaj units va utilitzar a voluntaris als qui va proporcionar una dosi de vodka suficient per a produir una quantitat d alcohol aspirat en aire del per cent de concentraci en sang als xxmaj estats xxmaj units s utilitza un sistema diferent amb un l mit perm s per a conduir de per cent xxmaj posteriorment van demanar a les persones que caminessin deu passos en l nia recta i que fessin mitja volta i recorreguessin deu passos m s l estudi va analitzar les dades obtingudes per l acceler metre dels seus dispositius m bils que es van col locar a la regi lumbar durant les seg ents set hores xxmaj emprant les dades dels acceler metres els investigadors van ser capa os de determinar amb un per cent de precisi quan una persona tenia una taxa d alcohol en sang superior al per cent i per tant superava la quantitat permesa per a conduir xxmaj les dues dades m s determinants per a destriar si una persones ha consumit alcohol a trav s del m bil i l acceler metre s n l amplitud del senyal i la vari ncia de l eix x s a dir el balanceig en caminar segons recull la recerca publicada aquest dimarts a la xxmaj revista d xxmaj estudis sobre xxmaj alcohol i xxmaj drogues xxmaj aquestes dades podrien ser utilitzades per tal d alertar a les persones que no estan en condicions de conduir si superen el l mit perm s per la llei ja que el de les persones no s n conscients de quan han begut m s de la taxa legal segons han explicat els autors i recull xxmaj new xxmaj scientist\n",
              "y: CategoryList\n",
              "SPORTS,SPORTS,ECONOMIA,SALUT,TECNOLOGIA\n",
              "Path: .;\n",
              "\n",
              "Test: None, model=SequentialRNN(\n",
              "  (0): MultiBatchEncoder(\n",
              "    (module): AWD_LSTM(\n",
              "      (encoder): Embedding(11200, 400, padding_idx=1)\n",
              "      (encoder_dp): EmbeddingDropout(\n",
              "        (emb): Embedding(11200, 400, padding_idx=1)\n",
              "      )\n",
              "      (rnns): ModuleList(\n",
              "        (0): WeightDropout(\n",
              "          (module): LSTM(400, 1152, batch_first=True)\n",
              "        )\n",
              "        (1): WeightDropout(\n",
              "          (module): LSTM(1152, 1152, batch_first=True)\n",
              "        )\n",
              "        (2): WeightDropout(\n",
              "          (module): LSTM(1152, 400, batch_first=True)\n",
              "        )\n",
              "      )\n",
              "      (input_dp): RNNDropout()\n",
              "      (hidden_dps): ModuleList(\n",
              "        (0): RNNDropout()\n",
              "        (1): RNNDropout()\n",
              "        (2): RNNDropout()\n",
              "      )\n",
              "    )\n",
              "  )\n",
              "  (1): PoolingLinearClassifier(\n",
              "    (layers): Sequential(\n",
              "      (0): BatchNorm1d(1200, eps=1e-05, momentum=0.1, affine=True, track_running_stats=True)\n",
              "      (1): Dropout(p=0.2, inplace=False)\n",
              "      (2): Linear(in_features=1200, out_features=50, bias=True)\n",
              "      (3): ReLU(inplace=True)\n",
              "      (4): BatchNorm1d(50, eps=1e-05, momentum=0.1, affine=True, track_running_stats=True)\n",
              "      (5): Dropout(p=0.1, inplace=False)\n",
              "      (6): Linear(in_features=50, out_features=5, bias=True)\n",
              "    )\n",
              "  )\n",
              "), opt_func=functools.partial(<class 'torch.optim.adam.Adam'>, betas=(0.9, 0.99)), loss_func=FlattenedLoss of CrossEntropyLoss(), metrics=[<function accuracy at 0x7f1666bf1048>], true_wd=True, bn_wd=True, wd=0.01, train_bn=True, path=PosixPath('.'), model_dir='models', callback_fns=[functools.partial(<class 'fastai.basic_train.Recorder'>, add_time=True, silent=False)], callbacks=[RNNTrainer\n",
              "learn: RNNLearner(data=TextClasDataBunch;\n",
              "\n",
              "Train: LabelList (568 items)\n",
              "x: TextList\n",
              "xxbos xxmaj el nou conseller d xxmaj empresa de la xxmaj generalitat xxmaj ramon xxmaj tremosa va assegurar ahir que li agradaria que caixabank retorn s a xxmaj barcelona la seva seu social i fiscal que des d octubre de s a xxmaj val ncia i ha anunciat que treballar perqu aix sigui xxmaj aix mateix es va mostrar preocupat pel fet que una fusi reduiria encara m s el nombre d entitats que operen en el sistema financer espanyol donant lloc a una situaci d oligopoli i que aix podria anar en detriment de la compet ncia i per tant dels usuaris xxmaj en la mateixa l nia xxmaj podem va advertir que el moviment que permetria crear el major grup bancari d xxmaj espanya suposar un aprofundiment en la concentraci del sector bancari i tindr un impacte negatiu en l ocupaci xxmaj el secretari d xxmaj economia de xxmaj podem xxmaj nacho lvarez considera que l xxmaj estat no ha d abandonar la seva participaci en el capital reprivatitzant l entitat en refer ncia a xxmaj bankia que segons va recordar va ser sanejada gr cies a milions d euros p blics xxmaj per aix va apuntar que l xxmaj estat ha de protegir els contribuents que amb els seus impostos van rescatar l entitat i va advertir que la fusi aprofundir l oligopoli en el sector financer i suposar una mala not cia per a la compet ncia de mercat xxmaj des d un altre punt de vista el xxup pp considera que si l operaci tira endavant seria una not cia positiva per a l economia en paraules de la vicesecret ria de xxmaj sectorial d aquest partit xxmaj elvira xxmaj rodr guez que va demanar que tot es faci amb transpar ncia a m s va reclamar protecci per als clients i treballadors de les dues entitats i va demanar al xxmaj govern que doni explicacions al xxmaj congr s,xxbos xxmaj un dels molts efectes que la crisi del xxmaj covid ha tingut sobre el mercat immobiliari s que l inversor financer s ha absentat de les operacions de compravenda de vivenda residencial durant el per ode que dura la pand mia xxmaj durant el primer semestre les transaccions realitzades per aquest tipus de comprador han descendit fins al des d un proporci molt m s gran en anys anteriors xxmaj el percentatge m xim d inversors es va assolir el amb gaireb el de les compravendes realitzades segons posa de manifest un estudi sobre el mercat immobiliari en el primer semestre de l any realitzat per xxmaj tecnocasa i la xxmaj universitat xxmaj pompeu xxmaj fabra xxup upf l inversor comen a a desapar ixer del mercat residencial ha comentat xxmaj jos xxmaj garc a xxmaj montalvo professor de la xxup upf que col labora en l estudi de la immobili ria xxmaj al mar els inversors surten de la borsa davant les males expectatives del mercat per encara es mantenen en el mercat immobiliari xxmaj despr s la incertesa tamb plana sobre l activitat residencial paren tamb la inversi ha comentat xxmaj montalvo xxmaj la retirada dels inversors financers del mercat immobiliari previsiblement tindr un efecte en el nombre de transaccions per al conjunt de l any tot i que segons els responsables de l informe pot veure s compensada pel canvi d s d una altra part de l oferta principalment dels apartaments tur stics que en una proporci significativa s estan transformant de lloguer de temporada o resid ncia simplement de lloguer destaquen xxmaj amb ells en part fora del mercat per tamb les fam lies que han preferit estalviar que entrar en la despesa de b ns de consum duradors com la vivenda el cert s que el nombre de transaccions s ha redu t i tamb els preus xxmaj el preu de la vivenda utilitzada a xxmaj espanya va descendir en el primer semestre del un cosa que situa el metre quadrat en euros xxmaj es tracta del segon semestre consecutiu en qu el preu de la vivenda descendeix ja que en el segon semestre del i en taxa interanual la vivenda va baixar un xxmaj les ciutats de xxmaj madrid i xxmaj barcelona presenten dos dels descensos m s importants xxmaj les dues capitals ja van ser les primeres a iniciar la baixada de preus fa sis mesos i s n tamb les poblacions que marquen el cam i el que despr s succeir a la resta de poblacions del pa s xxmaj el mercat reflecteix la tend ncia de contenci de preus que ja s havia posat de manifest a finals del ha explicat xxmaj garc a xxmaj montalvo xxmaj mercat del lloguer xxmaj tamb el mercat de lloguer es mou cap a la contenci dels preus particularment al mercat de xxmaj barcelona on la franja de rendes d entre i euros ha passat del al en aquest primer semestre xxmaj aix indica clarament que els preus s estan movent a la baixa ha explicat l zaro xxmaj cubero responsable del departament d an lisi de xxmaj fotocasa xxmaj destaca la immobili ria que va mantenir la seva activitat durant els mesos de l estat d alarma en la mesura possible que s ha produ t un acostament dels venedors a la realitat del mercat xxmaj almenys a xxmaj barcelona on ha fet vendes hipoteques i lloguers xxmaj la difer ncia entre el preu de sortida de les vivendes a la venda i el de compra final ha registrat una variaci nom s del xxmaj els nostres preus sol ajustar se bastant al valor de mercat i evitem difer ncies del com passa amb altres portals immobiliaris tot i aix hi ha hagut una certa correcci respecte a la pretensi dels venedors ha comentat xxmaj vittorio xxmaj rossi president de xxmaj tecnocasa,xxbos xxmaj els catalans han de destinar ntegrament el sou brut de vuit anys per pagar la hipoteca d un habitatge comprat el segons l estudi xxmaj relaci de salaris i la compra d habitatge en elaborat per xxmaj fotocasa i xxmaj infojobs xxmaj en els ltims cinc anys l esfor destinat a pagar la hipoteca ha pujat punts xxmaj el els catalans havien de dedicar anys de la n mina bruta mensual per pagar una hipoteca d un pis de metres quadrats anys el anys el anys el i anys el xxmaj catalunya s la quarta comunitat on es destinen m s recursos a pagar la hipoteca per darrere del xxmaj pa s xxmaj basc amb anys i xxmaj madrid i les xxmaj illes xxmaj balears ambdues amb anys de mitjana xxmaj en el tancament de es va detectar la primera caiguda del preu de l habitatge de segona m a escala estatal xxmaj en concret el preu va caure un i va trencar aix la cadena de mesos consecutius de pujades interanuals del preu de l habitatge ha assegurat la directora de xxmaj comunicaci de xxmaj fotocasa xxmaj ana s l pez xxmaj la caiguda en el preu explica tamb el descens de l esfor econ mic dels espanyols en comparaci amb el l actual tend ncia a la moderaci dels preus de compra a xxmaj espanya ens indica que potser aquest esfor econ mic encara pugui baixar en els pr xims anys si els salaris es mantenen m s o menys estables ha afegit xxmaj la directora de comunicaci d xxmaj infojobs m nica p rez ha reconegut que actualment s dif cil preveure com evolucionaran els salaris xxmaj tot i aix ha assegurat que les empreses estan optant per la congelaci salarial la revisi de les pol tiques de compensaci o fins i tot els ajustos retributius davant la gravetat de la situaci econ mica xxmaj en refer ncia al menor esfor econ mic de les fam lies per comprar un immoble el p rez s ha referit a l increment del salari mitj en un xxmaj tot i aix s ha de tenir en compte que el creixement m s gran correspon a la pujada del salari m nim interprofessional un m s ha afirmat xxmaj en el per ode acumulat entre i els salaris mitjans han pujat un i s han situat en euros a l any xxmaj el preu de l habitatge en canvi ha augmentat un fins als euros per metre quadrat,xxbos xxmaj els tres bancs privats m s grans del xxmaj brasil xxmaj santander xxmaj bradesco xxmaj ita xxmaj unibanco treballaran conjuntament per promoure el desenvolupament sostenible de l xxmaj amazones xxmaj la crisi del coronavirus ens ha demostrat que un m n m s sostenible s possible xxmaj amb l aturada de l activitat econ mica i el confinament dels ciutadans per contenir el virus el medi ambient disfrutava d un par ntesi disminu a la contaminaci a les ciutats es registrava una clara baixada en el nivell d emissions de gasos contaminants la vegetaci i la fauna recolonitzaven i recuperaven espais perduts xxmaj no obstant ara que el nostre model econ mic s ha repr s i tot va tornant a la normalitat qu passar produiran les mesures de reactivaci i sortida de la crisi un efecte rebot que minvi m s els nostres recursos naturals o serem capa os de promoure iniciatives d est mul verd alineades amb els objectius clim tics xxmaj per transitar aquesta segona via de recuperaci i aconseguir un equilibri entre la nostra forma de viure i el respecte per l entorn la col laboraci entre tots incloses les grans empreses es converteix en capital xxmaj un clar exemple s el xxmaj pla conjunt per promoure el desenvolupament sostenible del xxmaj amazones posat en marxa pels tres bancs privats m s grans del xxmaj brasil xxmaj santander xxmaj bradesco i xxmaj ita xxmaj unibanco xxmaj fruit d aquesta hist rica alian a es treballar en tres fronts prioritaris la conservaci del medi ambient i el desenvolupament de la bioeconomia la inversi en infraestructura sostenible i la garantia dels drets b sics de la poblaci de la regi amaz nica xxmaj la magnitud del desafiament exigeix una acci ferma i r pida per part de tots els actors que puguin participar en la construcci d un model de desenvolupament sostenible per a l xxmaj amaz nia que inclogui les necessitats de la poblaci i la preservaci dels nostres recursos naturals xxmaj amb els esfor os combinats de la nostra ind stria podrem fer encara m s per aquesta regi que t un valor inestimable no nom s per al pa s sin per a tot el planeta explica al respecte s rgio xxmaj rial president de xxmaj santander xxmaj brasil xxmaj entre les accions que formen part d aquest plai que es comen aran a aplicara quest any hi figuren l estimulaci de les cadenes sostenibles per exemple el cacau l aca i les nous a la regi mitjan ant l nies de finan amento instruments no financers la inversi en infraestructura b sica per al desenvolupament social energia internet vivenda sanejament etc i ambiental per exemple transport d aigua l atracci d inversions i promoci d associacions per al desenvolupament de tecnologies que impulsin la bioeconomia o el suport als agents i dirigents locals que treballen en projectes de desenvolupament socioecon mic a la regi xxmaj un exemple concret d aquestes mesures s el projecte mitjan ant el qual xxmaj santander xxmaj brasil destinar prop d bili d euros al finan ament de projectes de serveis b sics com el prove ment d aigua xxmaj comprom s amb la sostenibilitat xxmaj aquesta alian a s enquadra en l estrat gia de creixement sostenible de xxmaj banco xxmaj santander considerat el banc m s sostenible del m n segons el xxmaj dow xxmaj jones xxmaj sustainability xxmaj index i refor a el seu comprom s amb la transici tant pr pia com dels seus clients i la societat en general cap a una economia baixa en carboni xxmaj amb aquest objectiu a l horitz xxmaj banco xxmaj santander facilitar la mobilitzaci de milions d euros entre i i milions d euros entre i per combatre el canvi clim tic xxmaj am s s un dels firmants del xxmaj comprom s xxmaj col lectiu d xxmaj acci pel xxmaj clima i est present en la figura de la seva presidenta a l xxmaj alian a pera la xxmaj recuperaci xxmaj verda xxmaj green xxmaj recovery xxmaj alliance promoguda per recolzar i impulsar la mobilitzaci de paquets d inversi verds que actu n com a acceleradors d una transici cap a una neutralitat clim tica i ecosistemes saludables xxmaj els compromisos de banca responsable adquirits per xxmaj banco xxmaj santander inclouen tamb la protecci del medi ambient a trav s de la reducci de la seva pr pia empremta ambiental sadir est centrata reduir les emissions de xxup co sent m s eficients utilitzant m s energies renovables compensant la resta de les seves emissions i reduint i gestionant de forma responsable els seus residus l objectiu principal s que el el de l electricitat que utilitza l entitat provingui de fonts renovables i que per al s hagi eliminat l s de pl stic innecessari d un sol s en totes les oficines i edificis a m s a la xxmaj confer ncia de les xxmaj nacions xxmaj unides sobre el xxmaj canvi xxmaj clim tic xxup cop celebrada a xxmaj madrid xxmaj santander va llan ar el seu comprom s de ser per primera vegada neutral en carboni el compensant totes les emissions generades per les seves pr pies operacions,xxbos xxmaj el xxmaj consell xxmaj superior d xxmaj esports xxup csd va xxunk ahir el conflicte que es vivia al futbol espanyol per a la present temporada en decidir que per a la propera temporada hi haur un campionat de xxmaj segona amb equips com xxunk xxmaj la xxmaj lliga en comptes dels que xxunk la xxmaj reial xxmaj federaci xxmaj espanyola de xxmaj futbol xxmaj el xxup xxunk ja havia donat la ra dimecres a la patronal descartant el descens dels madrilenys i xxunk los com a equip de plata l objectiu de la convocat ria era arribar a un acord sobre el calendari de la propera temporada i la seva data per al sorteig que en principi ser el dilluns d agost xxmaj la xxmaj lliga de xxmaj primera i xxmaj segona est previst que comenci els dies i de setembre xxmaj el xxmaj girona veur xxunk les dues primeres jornades tenint en compte que va jugar la final del play off\n",
              "y: CategoryList\n",
              "ECONOMIA,ECONOMIA,ECONOMIA,ECONOMIA,SPORTS\n",
              "Path: .;\n",
              "\n",
              "Valid: LabelList (143 items)\n",
              "x: TextList\n",
              "xxbos xxmaj la moci de censura formada per tres precandidats a les eleccions i vuit grups d opini de l entorn blaugrana va arrencar xxunk ahir amb el lliurament de les xxunk als impulsors que van presentar una sol xxunk per ampliar del al de setembre el termini de recollida de signatures en considerar que els dissabtes no compten com a dies h bils s xxunk en la sent ncia del que va donar la ra a xxmaj agust xxmaj xxunk i va considerar els dissabtes com a dies no h bils en la moci de censura duta a terme el xxmaj per for ar el vot de censura els xxunk firmes de socis xxunk lo,xxbos xxmaj renovar se o morir xxmaj just aix han pensat conjuntament tant l xxmaj associaci xxmaj esportiva xxmaj esports xxmaj parra com l xxmaj ajuntament de xxmaj girona presentant un format innovador per a la setena edici de la xxmaj cursa de la xxmaj dona de la capital gironina xxmaj poder reunir en un mateix acte les persones de l ltim any s impossible tenint en compte el context actual i per tant s ha apostat per variar la f rmula xxmaj aquesta vegada la competici ser virtual i les participants disposaran de quinze dies entre el de setembre i l d octubre per completar els quil metres de rigor xxmaj el recorregut estar marcat amb punts quilom trics i tamb hi haur la possibilitat de compartir ho a trav s de les xarxes socials xxmaj amb el format de l edici d aquest any l objectiu principal s mantenir l esperit de la cursa xxmaj tot i la situaci actual s ha de seguir promocionant els h bits saludables la promoci de la pr ctica de l activitat esportiva i tamb sobretot l esport entre les dones explicava ahir dam xxmaj bertran el regidor d xxmaj esports del consistori giron xxmaj per a aquesta edici s ha canviat el recorregut habitual allunyant lo del centre urb xxmaj se sortir del pavell de xxmaj fontajau es realitzar una volta al parc de la xxmaj devesa abans de creuar per sota el pont de l avinguda xxmaj josep xxmaj tarradelles i xxmaj joan per dirigir se a la zona de xxmaj domeny i tornar a xxmaj fontajau xxmaj hi haur dos punts per fotografiar se xxmaj hi haur per tant cursa i tamb entrenaments que es mantenen aquest mes de setembre xxmaj van comen ar el passat mes d agost i es proposa a totes les interessades siguin corredores o caminadores realitzar un circuit per la ciutat de xxmaj girona o tamb per d altres punts de la demarcaci xxmaj la inscripci a la cursa s gratu ta i es pot realitzar des de la web de la xxmaj cursa de la xxmaj dona de xxmaj girona omplint el pertinent formulari,xxbos m s del dels llocs de treball de l automoci haur desaparegut com a conseq ncia de l automatitzaci l any segons es despr n de la xxmaj guia xxmaj hays que recull que nom s el dels empleats considera que la tecnologia destrueix ocupaci mentre que la resta opina que els aven os eliminen uns llocs de treball per creen altres diferents xxmaj aix el de les companyies del sector assegura que preveu que desapareixeran m s del dels llocs de treball de l automoci fins al i nom s un d aquestes firmes opina que l impacte sobre els empleats ser menor xxmaj de la resta de les empreses el considera que la reducci dels llocs de treball estar entre el i el mentre que fins a un considera que s eliminar entre un i un de l ocupaci xxmaj no obstant aix des del punt de vista dels treballadors el d ells est conven ut que el seu lloc de treball seguir vigent d aqu a deu anys davant el que assegura tenir dubtes sobre aquesta circumst ncia i el que manifesta que el seu lloc de treball ja no existir xxmaj el sector est immers en una gran transformaci cap als vehicles el ctrics i aix fa que els perfils m s demandats canvi n cap a m s enginyers relacionats amb les tecnologies de la informaci i el programari va explicar la responsable d xxmaj ind stria xxmaj nacional de xxmaj hays xxmaj imma xxmaj mart nez xxmaj aquesta tend ncia tamb es reflecteix a la xxmaj guia xxmaj salarial xxmaj hays on es destaca la ind stria de l automoci com una de les m s afectades per l automatitzaci el que comporta grans canvis en les organitzacions i els seus sistemes de treball xxmaj feina m s qualificada xxmaj mart nez apunta que la feina que es crear ser m s qualificada i que augmentar la demanda de persones amb titulacions relatives al desenvolupament tecnol gic i a la gesti a l adaptaci i al manteniment de la tecnologia xxmaj si ho fem b i comptem amb el suport dels fabricants el xxmaj govern i l educaci podem crear hubs d innovaci per a tot xxmaj europa i poder tamb incorporar talent de fora de pa s va assegurar xxmaj mart nez,xxbos l estiu avan a amb pas ferm per els dies per gaudir de la platja i del bon temps encara no s acaben xxmaj banyar se en un rac id lic de la xxmaj costa xxmaj brava descansar a la sorra i menjar un entrep o un t per pot ser un pla perfecte per si no vols que aquest dia ideal s acabi espatllant cal tenir en compte tots els detalls com el menjar que duus xxmaj sigui perqu hi ha aliments que s n m s sensibles als rajos ultra violeta provoquen malestar dolors o inflor cal tenir present quins s n els menjars que no es recomanen i per qu xxmaj aquests s n els aliments que hauries d evitar portar a la platja un dia calor s xxmaj llet pasteuritzada iogurts i formatge fresc xxmaj tant la llet pasteuritzada els iogurts com el formatge fresc han d estar en constant refrigeraci xxmaj les neveres tradicionals que abunden a la platja no aporten el refredament que necessiten aquests productes l ctics xxmaj aix s aix pel fet que les temperatures superiors als quatre graus poden provocar que el s rum que cont la llet s acabi separant i que els bacteris augmentin amb major facilitat xxmaj en canvi les llets xxmaj ultra xxmaj high xxmaj temperature xxup uht a l haver estat sotmeses a una injecci de vapor que mata els bacteris pat gens fa que es puguin mantenir a la temperatura ambient durant m s estona xxmaj ous xxmaj els ous bullits la truita de patates l amanida russa la maionesa els arrebossats i tots aquells menjars que portin ou no haurien d estar fora de la nevera de casa durant m s de dues hores o b d una en el cas que les temperatures siguin m s elevades als graus xxmaj amb les temperatures c lides els bacteris presents en els ous tenen un ndex elevat de creixement fet pel qual la ingesta d aquest aliment pot arribar a causar diferents enfermetats xxmaj marisc i peix blau xxmaj el marisc i el peix blau com la tonyina o les sardines especialment fora del seu enllaunat i a temperatura ambient poden tendir a generar histamina un compost que sorgeix per l acci dels bacteris sobre la carn del peix i que acostuma a provocar una intoxicaci aliment ria a la persona que la consumeix xxmaj ara b les escopinyes les clo sses i altres enllaunats esterilitzats no s habitual que produeixin la histamina xxmaj caf xxmaj el caf s una de les begudes menys recomanables en una jornada de platja xxmaj el seu contingut ric en cafe na a menys que sigui descafe nat fa que actu com a di r tic i que el cos expulsi la seva aigua i les seves sals mitjan ant la suor provocant per tant abans la deshidrataci de l organisme a m s a m s amb l alliberaci de la gastrina una hormona que augmenta l activitat del colon fa que el caf tamb pugui tenir efectes laxants xxmaj te xxmaj igual que el caf les infusions amb te na tendeixen a provocar deshidrataci ja que les propietats de la cafe na i la te na s n similars xxmaj begudes alcoh liques xxmaj pel que fa a l alcohol s rellevant con ixer que s una beguda vasodilatadora fent que el cos elimini els l quids de la sang a partir del sistema renal a un ritme m s elevat que altres l quids el que pot arribar a provocar la deshidrataci i incl s el desmai de forma r pida en dies de calor xxmaj begudes ensucrades i gasoses xxmaj les begudes ensucrades i les gasoses es desaconsellen perqu els seus nivells elevats de sucre poden provocar un alt i baix d aquest estimulant a la sang que arribi a generar un fort mal de cap a m s a m s cal tenir en consideraci que provoquen amb molta facilitat l efecte de ventre inflat xxmaj embotits cuits xxmaj els embotits cuits com el gall d indi o el pernil dol s han de conservar en una constant refrigeraci i poden estar carregats de sodi xxmaj la mala conservaci d aquests aliments pot provocar una intoxicaci aliment ria i quant al sodi aquest fa que la retenci de l quids augmenti i en conseq ncia el cos s infli xxmaj en canvi els embotits curats s n un aliment completament recomanat per un dia id l lic a la platja ja que resisteixen la calor amb facilitat xxmaj patates i altres aperitius similars de bossa xxmaj un altre aliment carregat de sodi com molts embotits cuits s n les patates de bossa i altres aperitius similars xxmaj aquests piscolabis provoquen inflor xxmaj cruc feres xxmaj la coliflor el br coli o la col tamb se sumen al llistat d ingredients que provoquen l efecte de la panxada inflada i a m s a m s gasos xxmaj els cruc fers contenen rafinosa un sucre que no es digereix fins que arriba als bacteris intestinals fent que l est mac s infli xxmaj fruita ja pelada xxmaj la pell de la fruita protegeix dels g rmens motiu pel qual no es recomana portar a la platja la fruita ja pelada i sobretot sabent que la combinaci de sucre calor i humitat augmenta les possibilitats que els g rmens es multipliquin xxmaj per tant per disminuir el risc que es contamini es recomana portar la amb la pela xxmaj recorda que si decideixes menjar la amb pela cal netejar la amb aigua abundant i amb desinfectant xxmaj aliments rics en prote na xxmaj els menjars que porten abundant prote na com la carn vermella dificulten la digesti fent que l est mac necessiti treballar m s gastant m s energia i conseq entment augmentant la calor corporal quelcom poc recomanable si el dia ja de per si s calor s i llavors qu es recomana ingerir durant una jornada de calor a la platja xxmaj en primera inst ncia s fonamental beure aigua amb regularitat per a hidratar el cos i ingerir plats lleugers com una amanida o el gaspatxo xxmaj si aquesta opci no us fa el pes tamb es pot comptar amb els embotits curats xxmaj de piscolabis un grapat de fruits secs pot ser idoni pels minerals que aporten xxmaj per altra banda de postres l opci m s recomanable s la fruita portada de casa sense pelar ja que cont aigua i molts nutrients xxmaj pel que fa als h bits que cal tenir en compte hi ha el fet que s ha de preparar el menjar el m s tard que es pugui s a dir el m s proper al moment d ingerir lo a m s a m s si s menjar calent no s ha de posar a la nevera de forma instant nia xxmaj la nevera de platja s indispensable ja que gaireb qualsevol aliment que es vulgui menjar s millor que es conservi en fred i sota cap circumst ncia en un ambient calor s xxmaj tenint en compte aix sempre que puguis mant n la a l ombra amb la tapa tancada i en el cotxe transporta la amb els passatgers i no al maleter,xxbos xxmaj les dades dels acceler metres uns sensors presents en la major part de m bils actuals que detecten els passos d una persona poden utilitzar se per a determinar si el seu propietari es troba sota els efectes de l alcohol i ha superat la taxa d alcohol mia permesa per a conduir xxmaj un estudi elaborat per les universitats de xxmaj stanford i xxmaj pittsburgh els xxmaj estats xxmaj units va utilitzar a voluntaris als qui va proporcionar una dosi de vodka suficient per a produir una quantitat d alcohol aspirat en aire del per cent de concentraci en sang als xxmaj estats xxmaj units s utilitza un sistema diferent amb un l mit perm s per a conduir de per cent xxmaj posteriorment van demanar a les persones que caminessin deu passos en l nia recta i que fessin mitja volta i recorreguessin deu passos m s l estudi va analitzar les dades obtingudes per l acceler metre dels seus dispositius m bils que es van col locar a la regi lumbar durant les seg ents set hores xxmaj emprant les dades dels acceler metres els investigadors van ser capa os de determinar amb un per cent de precisi quan una persona tenia una taxa d alcohol en sang superior al per cent i per tant superava la quantitat permesa per a conduir xxmaj les dues dades m s determinants per a destriar si una persones ha consumit alcohol a trav s del m bil i l acceler metre s n l amplitud del senyal i la vari ncia de l eix x s a dir el balanceig en caminar segons recull la recerca publicada aquest dimarts a la xxmaj revista d xxmaj estudis sobre xxmaj alcohol i xxmaj drogues xxmaj aquestes dades podrien ser utilitzades per tal d alertar a les persones que no estan en condicions de conduir si superen el l mit perm s per la llei ja que el de les persones no s n conscients de quan han begut m s de la taxa legal segons han explicat els autors i recull xxmaj new xxmaj scientist\n",
              "y: CategoryList\n",
              "SPORTS,SPORTS,ECONOMIA,SALUT,TECNOLOGIA\n",
              "Path: .;\n",
              "\n",
              "Test: None, model=SequentialRNN(\n",
              "  (0): MultiBatchEncoder(\n",
              "    (module): AWD_LSTM(\n",
              "      (encoder): Embedding(11200, 400, padding_idx=1)\n",
              "      (encoder_dp): EmbeddingDropout(\n",
              "        (emb): Embedding(11200, 400, padding_idx=1)\n",
              "      )\n",
              "      (rnns): ModuleList(\n",
              "        (0): WeightDropout(\n",
              "          (module): LSTM(400, 1152, batch_first=True)\n",
              "        )\n",
              "        (1): WeightDropout(\n",
              "          (module): LSTM(1152, 1152, batch_first=True)\n",
              "        )\n",
              "        (2): WeightDropout(\n",
              "          (module): LSTM(1152, 400, batch_first=True)\n",
              "        )\n",
              "      )\n",
              "      (input_dp): RNNDropout()\n",
              "      (hidden_dps): ModuleList(\n",
              "        (0): RNNDropout()\n",
              "        (1): RNNDropout()\n",
              "        (2): RNNDropout()\n",
              "      )\n",
              "    )\n",
              "  )\n",
              "  (1): PoolingLinearClassifier(\n",
              "    (layers): Sequential(\n",
              "      (0): BatchNorm1d(1200, eps=1e-05, momentum=0.1, affine=True, track_running_stats=True)\n",
              "      (1): Dropout(p=0.2, inplace=False)\n",
              "      (2): Linear(in_features=1200, out_features=50, bias=True)\n",
              "      (3): ReLU(inplace=True)\n",
              "      (4): BatchNorm1d(50, eps=1e-05, momentum=0.1, affine=True, track_running_stats=True)\n",
              "      (5): Dropout(p=0.1, inplace=False)\n",
              "      (6): Linear(in_features=50, out_features=5, bias=True)\n",
              "    )\n",
              "  )\n",
              "), opt_func=functools.partial(<class 'torch.optim.adam.Adam'>, betas=(0.9, 0.99)), loss_func=FlattenedLoss of CrossEntropyLoss(), metrics=[<function accuracy at 0x7f1666bf1048>], true_wd=True, bn_wd=True, wd=0.01, train_bn=True, path=PosixPath('.'), model_dir='models', callback_fns=[functools.partial(<class 'fastai.basic_train.Recorder'>, add_time=True, silent=False)], callbacks=[...], layer_groups=[Sequential(\n",
              "  (0): Embedding(11200, 400, padding_idx=1)\n",
              "  (1): EmbeddingDropout(\n",
              "    (emb): Embedding(11200, 400, padding_idx=1)\n",
              "  )\n",
              "), Sequential(\n",
              "  (0): WeightDropout(\n",
              "    (module): LSTM(400, 1152, batch_first=True)\n",
              "  )\n",
              "  (1): RNNDropout()\n",
              "), Sequential(\n",
              "  (0): WeightDropout(\n",
              "    (module): LSTM(1152, 1152, batch_first=True)\n",
              "  )\n",
              "  (1): RNNDropout()\n",
              "), Sequential(\n",
              "  (0): WeightDropout(\n",
              "    (module): LSTM(1152, 400, batch_first=True)\n",
              "  )\n",
              "  (1): RNNDropout()\n",
              "), Sequential(\n",
              "  (0): PoolingLinearClassifier(\n",
              "    (layers): Sequential(\n",
              "      (0): BatchNorm1d(1200, eps=1e-05, momentum=0.1, affine=True, track_running_stats=True)\n",
              "      (1): Dropout(p=0.2, inplace=False)\n",
              "      (2): Linear(in_features=1200, out_features=50, bias=True)\n",
              "      (3): ReLU(inplace=True)\n",
              "      (4): BatchNorm1d(50, eps=1e-05, momentum=0.1, affine=True, track_running_stats=True)\n",
              "      (5): Dropout(p=0.1, inplace=False)\n",
              "      (6): Linear(in_features=50, out_features=5, bias=True)\n",
              "    )\n",
              "  )\n",
              ")], add_time=True, silent=False)\n",
              "alpha: 2.0\n",
              "beta: 1.0], layer_groups=[Sequential(\n",
              "  (0): Embedding(11200, 400, padding_idx=1)\n",
              "  (1): EmbeddingDropout(\n",
              "    (emb): Embedding(11200, 400, padding_idx=1)\n",
              "  )\n",
              "), Sequential(\n",
              "  (0): WeightDropout(\n",
              "    (module): LSTM(400, 1152, batch_first=True)\n",
              "  )\n",
              "  (1): RNNDropout()\n",
              "), Sequential(\n",
              "  (0): WeightDropout(\n",
              "    (module): LSTM(1152, 1152, batch_first=True)\n",
              "  )\n",
              "  (1): RNNDropout()\n",
              "), Sequential(\n",
              "  (0): WeightDropout(\n",
              "    (module): LSTM(1152, 400, batch_first=True)\n",
              "  )\n",
              "  (1): RNNDropout()\n",
              "), Sequential(\n",
              "  (0): PoolingLinearClassifier(\n",
              "    (layers): Sequential(\n",
              "      (0): BatchNorm1d(1200, eps=1e-05, momentum=0.1, affine=True, track_running_stats=True)\n",
              "      (1): Dropout(p=0.2, inplace=False)\n",
              "      (2): Linear(in_features=1200, out_features=50, bias=True)\n",
              "      (3): ReLU(inplace=True)\n",
              "      (4): BatchNorm1d(50, eps=1e-05, momentum=0.1, affine=True, track_running_stats=True)\n",
              "      (5): Dropout(p=0.1, inplace=False)\n",
              "      (6): Linear(in_features=50, out_features=5, bias=True)\n",
              "    )\n",
              "  )\n",
              ")], add_time=True, silent=False)>"
            ]
          },
          "metadata": {
            "tags": []
          },
          "execution_count": 20
        }
      ]
    },
    {
      "cell_type": "code",
      "metadata": {
        "id": "b6EtCHsVaq-9"
      },
      "source": [
        "learn.lr_find()\n",
        "learn.recorder.plot(show_grid=True, suggestion=True)"
      ],
      "execution_count": null,
      "outputs": []
    },
    {
      "cell_type": "code",
      "metadata": {
        "id": "STjlNKU_atEA",
        "outputId": "a7660066-c874-499a-f3ed-27d96d26e10d",
        "colab": {
          "base_uri": "https://localhost:8080/",
          "height": 674
        }
      },
      "source": [
        "learn.model"
      ],
      "execution_count": 21,
      "outputs": [
        {
          "output_type": "execute_result",
          "data": {
            "text/plain": [
              "SequentialRNN(\n",
              "  (0): MultiBatchEncoder(\n",
              "    (module): AWD_LSTM(\n",
              "      (encoder): Embedding(11200, 400, padding_idx=1)\n",
              "      (encoder_dp): EmbeddingDropout(\n",
              "        (emb): Embedding(11200, 400, padding_idx=1)\n",
              "      )\n",
              "      (rnns): ModuleList(\n",
              "        (0): WeightDropout(\n",
              "          (module): LSTM(400, 1152, batch_first=True)\n",
              "        )\n",
              "        (1): WeightDropout(\n",
              "          (module): LSTM(1152, 1152, batch_first=True)\n",
              "        )\n",
              "        (2): WeightDropout(\n",
              "          (module): LSTM(1152, 400, batch_first=True)\n",
              "        )\n",
              "      )\n",
              "      (input_dp): RNNDropout()\n",
              "      (hidden_dps): ModuleList(\n",
              "        (0): RNNDropout()\n",
              "        (1): RNNDropout()\n",
              "        (2): RNNDropout()\n",
              "      )\n",
              "    )\n",
              "  )\n",
              "  (1): PoolingLinearClassifier(\n",
              "    (layers): Sequential(\n",
              "      (0): BatchNorm1d(1200, eps=1e-05, momentum=0.1, affine=True, track_running_stats=True)\n",
              "      (1): Dropout(p=0.2, inplace=False)\n",
              "      (2): Linear(in_features=1200, out_features=50, bias=True)\n",
              "      (3): ReLU(inplace=True)\n",
              "      (4): BatchNorm1d(50, eps=1e-05, momentum=0.1, affine=True, track_running_stats=True)\n",
              "      (5): Dropout(p=0.1, inplace=False)\n",
              "      (6): Linear(in_features=50, out_features=5, bias=True)\n",
              "    )\n",
              "  )\n",
              ")"
            ]
          },
          "metadata": {
            "tags": []
          },
          "execution_count": 21
        }
      ]
    },
    {
      "cell_type": "code",
      "metadata": {
        "id": "oS8Lt29UJhaV",
        "outputId": "2c1ab41a-6016-4c4b-db3e-8403a4c127ea",
        "colab": {
          "base_uri": "https://localhost:8080/",
          "height": 108
        }
      },
      "source": [
        "learn.fit_one_cycle(2,3.02E-03, moms=(0.8,0.7))"
      ],
      "execution_count": 22,
      "outputs": [
        {
          "output_type": "display_data",
          "data": {
            "text/html": [
              "<table border=\"1\" class=\"dataframe\">\n",
              "  <thead>\n",
              "    <tr style=\"text-align: left;\">\n",
              "      <th>epoch</th>\n",
              "      <th>train_loss</th>\n",
              "      <th>valid_loss</th>\n",
              "      <th>accuracy</th>\n",
              "      <th>time</th>\n",
              "    </tr>\n",
              "  </thead>\n",
              "  <tbody>\n",
              "    <tr>\n",
              "      <td>0</td>\n",
              "      <td>1.125700</td>\n",
              "      <td>1.356522</td>\n",
              "      <td>0.699301</td>\n",
              "      <td>07:34</td>\n",
              "    </tr>\n",
              "    <tr>\n",
              "      <td>1</td>\n",
              "      <td>0.782912</td>\n",
              "      <td>1.129766</td>\n",
              "      <td>0.755245</td>\n",
              "      <td>07:27</td>\n",
              "    </tr>\n",
              "  </tbody>\n",
              "</table>"
            ],
            "text/plain": [
              "<IPython.core.display.HTML object>"
            ]
          },
          "metadata": {
            "tags": []
          }
        }
      ]
    },
    {
      "cell_type": "code",
      "metadata": {
        "id": "mC1D4xucaxEj",
        "outputId": "c7ba427f-4c3e-44db-a917-29abe5a80b99",
        "colab": {
          "base_uri": "https://localhost:8080/",
          "height": 78
        }
      },
      "source": [
        "learn.freeze_to(-2)\n",
        "learn.fit_one_cycle(1, slice(3.02E-03/(2.6**4), 1e-2), moms=(0.8,0.7))"
      ],
      "execution_count": 23,
      "outputs": [
        {
          "output_type": "display_data",
          "data": {
            "text/html": [
              "<table border=\"1\" class=\"dataframe\">\n",
              "  <thead>\n",
              "    <tr style=\"text-align: left;\">\n",
              "      <th>epoch</th>\n",
              "      <th>train_loss</th>\n",
              "      <th>valid_loss</th>\n",
              "      <th>accuracy</th>\n",
              "      <th>time</th>\n",
              "    </tr>\n",
              "  </thead>\n",
              "  <tbody>\n",
              "    <tr>\n",
              "      <td>0</td>\n",
              "      <td>0.537427</td>\n",
              "      <td>0.621412</td>\n",
              "      <td>0.923077</td>\n",
              "      <td>08:15</td>\n",
              "    </tr>\n",
              "  </tbody>\n",
              "</table>"
            ],
            "text/plain": [
              "<IPython.core.display.HTML object>"
            ]
          },
          "metadata": {
            "tags": []
          }
        }
      ]
    },
    {
      "cell_type": "code",
      "metadata": {
        "id": "9gnjjg93az6N",
        "outputId": "86088a16-af81-4d3f-970f-b4f6f80efc8e",
        "colab": {
          "base_uri": "https://localhost:8080/",
          "height": 78
        }
      },
      "source": [
        "learn.freeze_to(-3)\n",
        "learn.fit_one_cycle(1, slice(3.02E-03/(2.6**4), 5e-3), moms=(0.8,0.7))"
      ],
      "execution_count": 24,
      "outputs": [
        {
          "output_type": "display_data",
          "data": {
            "text/html": [
              "<table border=\"1\" class=\"dataframe\">\n",
              "  <thead>\n",
              "    <tr style=\"text-align: left;\">\n",
              "      <th>epoch</th>\n",
              "      <th>train_loss</th>\n",
              "      <th>valid_loss</th>\n",
              "      <th>accuracy</th>\n",
              "      <th>time</th>\n",
              "    </tr>\n",
              "  </thead>\n",
              "  <tbody>\n",
              "    <tr>\n",
              "      <td>0</td>\n",
              "      <td>0.313477</td>\n",
              "      <td>0.426240</td>\n",
              "      <td>0.944056</td>\n",
              "      <td>12:05</td>\n",
              "    </tr>\n",
              "  </tbody>\n",
              "</table>"
            ],
            "text/plain": [
              "<IPython.core.display.HTML object>"
            ]
          },
          "metadata": {
            "tags": []
          }
        }
      ]
    },
    {
      "cell_type": "code",
      "metadata": {
        "id": "6dOWOhyQa1u-"
      },
      "source": [
        "learn.unfreeze()\n",
        "learn.fit_one_cycle(3, slice(3.02E-03/(2.6**4), 5e-3), moms=(0.8,0.7))"
      ],
      "execution_count": null,
      "outputs": []
    },
    {
      "cell_type": "code",
      "metadata": {
        "id": "yPuujds4eMkJ"
      },
      "source": [
        "learn.save('classificador_noticies')"
      ],
      "execution_count": 29,
      "outputs": []
    },
    {
      "cell_type": "markdown",
      "metadata": {
        "id": "mtHwBi8Ut0lZ"
      },
      "source": [
        "# Testejar el classificador\n"
      ]
    },
    {
      "cell_type": "code",
      "metadata": {
        "id": "R-fJoi-QyvBw",
        "outputId": "cf27a12f-fe50-464d-ad97-32f80932a934",
        "colab": {
          "base_uri": "https://localhost:8080/",
          "height": 17
        }
      },
      "source": [
        "val_preds,val_targets, losses = learn.get_preds(with_loss=True)"
      ],
      "execution_count": 37,
      "outputs": [
        {
          "output_type": "display_data",
          "data": {
            "text/html": [
              ""
            ],
            "text/plain": [
              "<IPython.core.display.HTML object>"
            ]
          },
          "metadata": {
            "tags": []
          }
        }
      ]
    },
    {
      "cell_type": "code",
      "metadata": {
        "id": "Q0GXtGkHCrRf",
        "outputId": "62cad75e-b80d-4169-dfda-2c4deb59539b",
        "colab": {
          "base_uri": "https://localhost:8080/",
          "height": 311
        }
      },
      "source": [
        "interp = ClassificationInterpretation(learn, val_preds, val_targets, losses)\n",
        "interp.plot_confusion_matrix()"
      ],
      "execution_count": 39,
      "outputs": [
        {
          "output_type": "display_data",
          "data": {
            "image/png": "[encoded data removed]",
            "text/plain": [
              "<Figure size 432x288 with 1 Axes>"
            ]
          },
          "metadata": {
            "tags": [],
            "needs_background": "light"
          }
        }
      ]
    },
    {
      "cell_type": "code",
      "metadata": {
        "id": "-gkxT5s4FYF-"
      },
      "source": [
        ""
      ],
      "execution_count": null,
      "outputs": []
    }
  ]
}