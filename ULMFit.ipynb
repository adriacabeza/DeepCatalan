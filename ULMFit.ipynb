{
 "cells": [
  {
   "cell_type": "code",
   "execution_count": 5,
   "metadata": {},
   "outputs": [],
   "source": [
    "%load_ext autoreload\n",
    "%autoreload 2"
   ]
  },
  {
   "cell_type": "markdown",
   "metadata": {},
   "source": [
    "## Instal·lant dependències"
   ]
  },
  {
   "cell_type": "code",
   "execution_count": 1,
   "metadata": {
    "scrolled": true
   },
   "outputs": [],
   "source": [
    "import os\n",
    "from fastai import *\n",
    "from fastai.text import *\n",
    "\n",
    "import numpy as np\n",
    "import pandas as pd\n",
    "\n",
    "\n",
    "from functools import partial"
   ]
  },
  {
   "cell_type": "code",
   "execution_count": 3,
   "metadata": {},
   "outputs": [
    {
     "name": "stdout",
     "output_type": "stream",
     "text": [
      "Wed Aug 19 13:35:09 2020       \r\n",
      "+-----------------------------------------------------------------------------+\r\n",
      "| NVIDIA-SMI 430.40       Driver Version: 430.40       CUDA Version: 10.1     |\r\n",
      "|-------------------------------+----------------------+----------------------+\r\n",
      "| GPU  Name        Persistence-M| Bus-Id        Disp.A | Volatile Uncorr. ECC |\r\n",
      "| Fan  Temp  Perf  Pwr:Usage/Cap|         Memory-Usage | GPU-Util  Compute M. |\r\n",
      "|===============================+======================+======================|\r\n",
      "|   0  GeForce GTX 745     Off  | 00000000:01:00.0  On |                  N/A |\r\n",
      "| 25%   57C    P0    N/A /  N/A |    238MiB /  4040MiB |      0%      Default |\r\n",
      "+-------------------------------+----------------------+----------------------+\r\n",
      "                                                                               \r\n",
      "+-----------------------------------------------------------------------------+\r\n",
      "| Processes:                                                       GPU Memory |\r\n",
      "|  GPU       PID   Type   Process name                             Usage      |\r\n",
      "|=============================================================================|\r\n",
      "|    0       560      G   /usr/lib/Xorg                                158MiB |\r\n",
      "|    0       862      G   compton                                       43MiB |\r\n",
      "|    0     25025      G   ...quest-channel-token=3545574426471080944    22MiB |\r\n",
      "+-----------------------------------------------------------------------------+\r\n"
     ]
    }
   ],
   "source": [
    "!nvidia-smi"
   ]
  },
  {
   "cell_type": "code",
   "execution_count": 2,
   "metadata": {},
   "outputs": [
    {
     "data": {
      "text/plain": [
       "True"
      ]
     },
     "execution_count": 2,
     "metadata": {},
     "output_type": "execute_result"
    }
   ],
   "source": [
    "torch.cuda.is_available()"
   ]
  },
  {
   "cell_type": "markdown",
   "metadata": {},
   "source": [
    "# Entrenar el Language Model"
   ]
  },
  {
   "cell_type": "markdown",
   "metadata": {},
   "source": [
    "Hem usat com a dataset tot el text que s'ha trobat en el repositori https://github.com/Softcatala/ca-text-corpus. També hem provat d'entrenar amb un dataset creat a partir del script **./get_wikimedia.sh** però ens tornava un dataset massa brut. "
   ]
  },
  {
   "cell_type": "code",
   "execution_count": 54,
   "metadata": {},
   "outputs": [],
   "source": [
    "import re\n",
    "import html \n",
    "re1 = re.compile(r'  +')\n",
    "def fixup(x):\n",
    "    x = x.replace('#39;', \"'\").replace('amp;', '&').replace('#146;', \"'\").replace(\n",
    "        'nbsp;', ' ').replace('#36;', '$').replace('\\\\n', \"\\n\").replace('quot;', \"'\").replace(\n",
    "        '<br />', \"\\n\").replace('\\\\\"', '\"').replace('<unk>','u_n').replace(' @.@ ','.').replace(\n",
    "        ' @-@ ','-').replace('\\\\', ' \\\\ ')\n",
    "    return re1.sub(' ', html.unescape(x))"
   ]
  },
  {
   "cell_type": "code",
   "execution_count": 62,
   "metadata": {},
   "outputs": [],
   "source": [
    "wikipedia_short = fixup(open('wikimedia/corpus.ca.txt').read()).splitlines()"
   ]
  },
  {
   "cell_type": "code",
   "execution_count": 63,
   "metadata": {},
   "outputs": [
    {
     "data": {
      "text/plain": [
       "['Bona setmana.',\n",
       " 'A quina hora comença el concert?',\n",
       " 'A la ràdio han dit que demà plourà.',\n",
       " 'No tenim res per sopar.',\n",
       " 'A veure si quedem un dia per dinar.',\n",
       " 'Fa molt de temps que no ens veiem.',\n",
       " 'Quina calor.',\n",
       " 'No sabem per què avui no ha vingut a treballar.',\n",
       " 'Engega el ventilador.',\n",
       " \"Aquest partit no s'acaba mai.\",\n",
       " 'Quin pal de pel·lícula.',\n",
       " \"Quedem a les vuit a l'estació.\",\n",
       " \"Si acabo d'hora, aniré a mirar roba.\",\n",
       " 'Necessitem vacances.',\n",
       " 'La setmana que ve anem a viure al pis nou.',\n",
       " 'Què vas fer ahir a la tarda?',\n",
       " \"Volia fer molta feina i entre una cosa i l'altra no vaig fer res de bo.\",\n",
       " 'Sempre vol tenir raó.',\n",
       " 'La nena vol tocar el violí.',\n",
       " 'Ets una mica sòmines, però em fas riure.',\n",
       " \"M'agrada quan fas el pi pont a la gespa.\",\n",
       " 'És un cas, anem a la platja i es deixa el banyador.',\n",
       " \"T'agraden totes?\",\n",
       " 'La Raquel porta una brusa de niló.',\n",
       " 'Em busca les pessigolles, però no sap que tinc molta paciència.',\n",
       " \"L'Adela em fa anar de corcoll i me n'he enamorat.\",\n",
       " \"Vine a l'hortet, Marina, que et vull ensenyar el sistema de recs.\",\n",
       " 'El capellà es diu Miquel i té les galtes vermelles.',\n",
       " 'Fa una nit ideal per anar a lligar amb les sueques a Coma-ruga.',\n",
       " 'Anem a fer la becaina?',\n",
       " 'Diumenge anem de casament i encara no sabem què ens posarem.',\n",
       " 'No passis pel bar del Xavier o et deixaré abans de Rams.',\n",
       " 'El paviment del passeig rellisca i la iaia hi ha pres mal.',\n",
       " \"Aquest tatuatge m'excita molt.\",\n",
       " \"No riguis quan et renyo o hauré d'enviar-te al racó de pensar.\",\n",
       " 'Cada vegada que et veig em suen les mans.',\n",
       " 'La Matilde té halitosi, però canta com els àngels.',\n",
       " 'Quini, fes-me un tallat i un entrepà de calamars amb maionesa.',\n",
       " \"Encara ha de néixer qui em faci passar per l'adreçador.\",\n",
       " \"Així m'agrada, Manel, que et facis el llit tot sol.\",\n",
       " 'Fes-me un Whatsapp quan surtis del podòleg.',\n",
       " 'Ai mare, i jo que em pensava que ens sobraria temps.',\n",
       " 'Els veïns gemeguen i em molesten.',\n",
       " 'Com a mínim em podries haver deixat la galeta.',\n",
       " 'Salta, salta, al final et fotràs una hòstia.',\n",
       " 'El jugador esquerrà es diu Linares i juga amb la selecció nacional.',\n",
       " 'Rita, Rita, em pots deixar un petricó de lleteta?',\n",
       " 'Això està ple de mosquits, porteu repel·lent?',\n",
       " 'Jo diria que va pet.',\n",
       " 'Ostres, quin greu, no podrem venir a la cerimònia.',\n",
       " 'Els dilluns, dimecres i divendres vaig a ioga i els dimarts i dijous a ca la Marga.',\n",
       " \"Ja cal que t'espavilis si no vols arribar tard.\",\n",
       " 'Tu i jo no ballarem mai swing, però ens farem petons cada deu minuts.',\n",
       " \"No puc venir perquè he d'acompanyar la meva mare al metge.\",\n",
       " 'Quina mandra!',\n",
       " 'Si ho has de fer de qualsevol manera, millor que no ho facis.',\n",
       " 'Està desesperat, no sap què fer.',\n",
       " \"Doncs jo, no me'n refio gens.\",\n",
       " 'Fa una xafogor insuportable.',\n",
       " \"Estic tipa d'haver de repetir sempre el mateix.\",\n",
       " 'Quina tos, ja et prens el xarop?',\n",
       " \"Diu que es vol aprimar abans de l'estiu.\",\n",
       " 'Són parella?',\n",
       " 'Ara diu que es vol canviar el cotxe.',\n",
       " 'No li agrada gens estudiar.',\n",
       " 'Això em fa molta ràbia.',\n",
       " 'Mercè, fes el favor de recollir les nines!',\n",
       " 'Podríem anar a Figueres abans de la festa major, Lluïsa?',\n",
       " 'Ei, que et deixes el mòbil al caixer automàtic!',\n",
       " \"Per al demiürg, l'univers sensible té la textura d'una neula molla.\",\n",
       " 'La tieta Llúcia es passa tot el dia compartint fotos antigues al Facebook.',\n",
       " \"Els concerts d'en Lluís Llach m'agraden més que els peus de ministre a la brasa.\",\n",
       " \"Digues, Sebastià, has canviat les bombetes del quartet de sota l'escala?\",\n",
       " 'Vull ser mariner!',\n",
       " 'La ràdio del mòbil només agafa emissores evangelistes.',\n",
       " 'Avui fa un fred de mil dimonis, però nosaltres pujarem al Taga i dinarem a cals Caçadors.',\n",
       " 'Què fas els dijous havent sopat?',\n",
       " 'Quants cotxes has tingut?',\n",
       " 'On vas estudiar?',\n",
       " 'Ara em dedico a les bitlles i tinc un futur prometedor.',\n",
       " 'Qui et va pagar els estudis?',\n",
       " 'Quants anys tens?',\n",
       " \"L'Adela té un perfil grec, em fa pensar en una estàtua que vaig veure quan vaig anar amb tu a Sicília.\",\n",
       " 'Farem un arròs amb guatlles i ho regarem amb una ampolla de cava Contijoch, oi?',\n",
       " 'Els matins són més avorrits que les tardes, les tardes més avorrides que les nits i les nits més avorrides que els matins.',\n",
       " 'Fàtima, es deia aquella mossa que em va trencar el cor.',\n",
       " 'De veritat que Adam i Eva foren els pares de Caín?',\n",
       " 'No ploris, demà farem la subscripció a Netflix.',\n",
       " 'No tinc gens de pressa.',\n",
       " 'Així que, ja ho saps, agafa el tramvia i vés-hi!',\n",
       " 'Els tretze savis van acordar que farien una processó després del dinar de festa major, però que en dirien cercavila.',\n",
       " 'No em prenguis el carregador del mòbil o em cagaré en tu cada vegada que vulgui consultar el Whatsapp.',\n",
       " \"Per la ràdio han dit que el nombre d'atracaments amb ganivets de cuina s'ha incrementat lleugerament.\",\n",
       " \"Que la Marta no vagi a Cornellà no vol dir que tu no hi hagis d'anar.\",\n",
       " 'Quin malestar que tinc!',\n",
       " \"Demà aniré a l'homeòpata.\",\n",
       " \"Les cames em pesen i això se m'ha inflat molt.\",\n",
       " 'Els renecs que surten de la teva boqueta de pinyó són deliciosos, Marc.',\n",
       " \"És l'hora d'esmorzar?\",\n",
       " 'Va, que ens cruspirem un entrepà de salsitxes.']"
      ]
     },
     "execution_count": 63,
     "metadata": {},
     "output_type": "execute_result"
    }
   ],
   "source": [
    "wikipedia_short[:100]"
   ]
  },
  {
   "cell_type": "code",
   "execution_count": 64,
   "metadata": {},
   "outputs": [],
   "source": [
    "PERCENTAGE = 0.85\n",
    "with open('train.csv','w') as f:\n",
    "    for line in wikipedia_short[:int(len(wikipedia_short)*PERCENTAGE)]:\n",
    "        f.write('{}, False\\n'.format(line))\n",
    "        \n",
    "with open('valid.csv','w') as f:\n",
    "    for line in wikipedia_short[int(len(wikipedia_short)*PERCENTAGE):]:\n",
    "        f.write('{}, True\\n'.format(line))"
   ]
  },
  {
   "cell_type": "code",
   "execution_count": 65,
   "metadata": {},
   "outputs": [],
   "source": [
    "PATH = '.'\n",
    "train = pd.read_csv(os.path.join(PATH, 'train.csv'), header=None, names=['label', 'content'])\n",
    "valid = pd.read_csv(os.path.join(PATH, 'valid.csv'), header=None, names=['label', 'content'])"
   ]
  },
  {
   "cell_type": "code",
   "execution_count": 66,
   "metadata": {},
   "outputs": [],
   "source": [
    "train['is_valid'] = False\n",
    "valid['is_valid'] = True"
   ]
  },
  {
   "cell_type": "code",
   "execution_count": 67,
   "metadata": {},
   "outputs": [],
   "source": [
    "df_train = train[['content', 'is_valid']]\n",
    "df_valid = valid[['content', 'is_valid']]"
   ]
  },
  {
   "cell_type": "code",
   "execution_count": 68,
   "metadata": {},
   "outputs": [],
   "source": [
    "df_regroup = pd.concat([df_train, df_valid])\n",
    "df_regroup = df_regroup.dropna()"
   ]
  },
  {
   "cell_type": "code",
   "execution_count": 69,
   "metadata": {},
   "outputs": [],
   "source": [
    "df_regroup.to_csv(os.path.join(PATH, 'fulltrain.csv'), header=None, index=None)"
   ]
  },
  {
   "cell_type": "code",
   "execution_count": 70,
   "metadata": {},
   "outputs": [],
   "source": [
    "tokenizer = Tokenizer(lang='ca', n_cpus=6)"
   ]
  },
  {
   "cell_type": "code",
   "execution_count": 71,
   "metadata": {},
   "outputs": [
    {
     "data": {
      "text/html": [],
      "text/plain": [
       "<IPython.core.display.HTML object>"
      ]
     },
     "metadata": {},
     "output_type": "display_data"
    },
    {
     "name": "stderr",
     "output_type": "stream",
     "text": [
      "/home/adria/DeepCatalan/env/lib/python3.7/site-packages/fastai/core.py:302: VisibleDeprecationWarning: Creating an ndarray from ragged nested sequences (which is a list-or-tuple of lists-or-tuples-or ndarrays with different lengths or shapes) is deprecated. If you meant to do this, you must specify 'dtype=object' when creating the ndarray\n",
      "  return np.array(a, dtype=dtype, **kwargs)\n"
     ]
    },
    {
     "data": {
      "text/html": [],
      "text/plain": [
       "<IPython.core.display.HTML object>"
      ]
     },
     "metadata": {},
     "output_type": "display_data"
    }
   ],
   "source": [
    "data_lm_full = (TextList.from_csv(PATH, csv_name='fulltrain.csv', cols=0, processor=[TokenizeProcessor(tokenizer=tokenizer), NumericalizeProcessor(max_vocab=30000)])\n",
    "               .split_from_df(col=1)\n",
    "               .label_for_lm()\n",
    "               .databunch(bs=64))"
   ]
  },
  {
   "cell_type": "code",
   "execution_count": 40,
   "metadata": {},
   "outputs": [],
   "source": [
    "data_lm_full.save('full_lm_30k')"
   ]
  },
  {
   "cell_type": "code",
   "execution_count": 6,
   "metadata": {},
   "outputs": [],
   "source": [
    "data_lm_full = load_data(PATH, 'full_lm_30k', bs=16)"
   ]
  },
  {
   "cell_type": "code",
   "execution_count": 38,
   "metadata": {
    "scrolled": true
   },
   "outputs": [
    {
     "data": {
      "text/plain": [
       "['xxunk',\n",
       " 'xxpad',\n",
       " 'xxbos',\n",
       " 'xxeos',\n",
       " 'xxfld',\n",
       " 'xxmaj',\n",
       " 'xxup',\n",
       " 'xxrep',\n",
       " 'xxwrep',\n",
       " 'false',\n",
       " '.',\n",
       " 'de',\n",
       " 'i',\n",
       " 'la',\n",
       " 'a',\n",
       " 'el',\n",
       " \"l'\",\n",
       " 'en',\n",
       " \"d'\",\n",
       " 'que',\n",
       " 'va',\n",
       " 'un',\n",
       " 'amb',\n",
       " 'del',\n",
       " 'per',\n",
       " 'les',\n",
       " 'una',\n",
       " 'els',\n",
       " 'es',\n",
       " 'al',\n",
       " 'és',\n",
       " 'no',\n",
       " '-',\n",
       " 'com',\n",
       " 'però',\n",
       " 'més',\n",
       " \"s'\",\n",
       " 'dels',\n",
       " 'ha',\n",
       " 'o',\n",
       " 'ser',\n",
       " 'hi',\n",
       " 'seu',\n",
       " 'seva',\n",
       " 'també',\n",
       " '\"',\n",
       " 'van',\n",
       " 'se',\n",
       " 'on',\n",
       " 'són',\n",
       " 'molt',\n",
       " 'als',\n",
       " 'altres',\n",
       " 'dos',\n",
       " 'era',\n",
       " 'tot',\n",
       " 'cap',\n",
       " 'ja',\n",
       " 'entre',\n",
       " 'part',\n",
       " 'aquest',\n",
       " 'gran',\n",
       " 'fou',\n",
       " 'aquesta',\n",
       " 'nord',\n",
       " 'pot',\n",
       " 'estat',\n",
       " 'sud',\n",
       " 'seus',\n",
       " 'encara',\n",
       " 'té',\n",
       " 'sense',\n",
       " 'tres',\n",
       " 'dues',\n",
       " 'sobre',\n",
       " 'fins',\n",
       " 'pel',\n",
       " 'qual',\n",
       " 'li',\n",
       " 'tant',\n",
       " 'després',\n",
       " 'està',\n",
       " 'planta',\n",
       " 'fer',\n",
       " 'només',\n",
       " 'forma',\n",
       " 'han',\n",
       " 'ciutat',\n",
       " 'sant',\n",
       " 'havia',\n",
       " 'nom',\n",
       " 'si',\n",
       " 'durant',\n",
       " 'així',\n",
       " 'seves',\n",
       " 'tots',\n",
       " 'anys',\n",
       " 'est',\n",
       " 'clima',\n",
       " 'pis']"
      ]
     },
     "execution_count": 38,
     "metadata": {},
     "output_type": "execute_result"
    }
   ],
   "source": [
    "len(data_lm_full.train_ds.vocab.itos)\n",
    "pickle.dump(data_lm_full.train_ds.vocab.itos, open('models/itos.pkl', 'wb'))"
   ]
  },
  {
   "cell_type": "code",
   "execution_count": 44,
   "metadata": {},
   "outputs": [
    {
     "name": "stderr",
     "output_type": "stream",
     "text": [
      "/home/adria/DeepCatalan/env/lib/python3.7/site-packages/fastai/text/data.py:339: UserWarning: This overload of nonzero is deprecated:\n",
      "\tnonzero()\n",
      "Consider using one of the following signatures instead:\n",
      "\tnonzero(*, bool as_tuple) (Triggered internally at  /pytorch/torch/csrc/utils/python_arg_parser.cpp:766.)\n",
      "  idx_min = (t != self.pad_idx).nonzero().min()\n"
     ]
    },
    {
     "data": {
      "text/html": [
       "<table border=\"1\" class=\"dataframe\">\n",
       "  <thead>\n",
       "    <tr style=\"text-align: right;\">\n",
       "      <th>idx</th>\n",
       "      <th>text</th>\n",
       "    </tr>\n",
       "  </thead>\n",
       "  <tbody>\n",
       "    <tr>\n",
       "      <td>0</td>\n",
       "      <td>xxmaj false xxbos xxmaj false xxbos xxmaj false xxbos xxmaj false xxbos xxmaj false xxbos xxmaj false xxbos xxmaj false xxbos xxmaj false xxbos xxmaj false xxbos xxmaj false xxbos xxmaj false xxbos xxmaj false xxbos xxmaj false xxbos xxmaj false xxbos xxmaj false xxbos xxmaj false xxbos xxmaj false xxbos xxmaj false xxbos xxmaj false xxbos xxmaj false xxbos xxmaj false xxbos xxmaj false xxbos xxmaj false xxbos xxmaj</td>\n",
       "    </tr>\n",
       "    <tr>\n",
       "      <td>1</td>\n",
       "      <td>xxmaj false xxbos que queda dispers després de l' explosió . xxbos xxmaj false xxbos xxmaj false xxbos xxmaj false xxbos xxmaj false xxbos xxmaj false xxbos a xxmaj nou xxmaj mèxic . xxbos xxmaj false xxbos convertint - se en el mànager . xxbos xxmaj false xxbos xxmaj false xxbos sobretot de sardines xxbos xxmaj false xxbos xxmaj false xxbos els llançaments es succeeixen un a un fins a</td>\n",
       "    </tr>\n",
       "    <tr>\n",
       "      <td>2</td>\n",
       "      <td>xxbos a l' oest del país . xxbos xxmaj false xxbos epònima de la ciutat italiana de xxmaj màntua . xxbos xxmaj false xxbos xxmaj false xxbos el rei va condemnar - los a mort . xxbos o bé de xxmaj fènix . xxbos xxmaj false xxbos gelosa dels seus fillastres xxbos els xxunk les van perseguir fins a matar - ne dues de les tres . xxbos com el</td>\n",
       "    </tr>\n",
       "    <tr>\n",
       "      <td>3</td>\n",
       "      <td>false xxbos xxmaj false xxbos a xxmaj dinamarca . xxbos xxmaj false xxbos continua les seves activitats . xxbos xxmaj false xxbos de fet xxbos però xxbos per un problema de salut . xxbos xxmaj false xxbos després d' un període de càstig xxbos xxmaj false xxbos pateix d' una profunda falta de continuïtat en la cronologia . xxbos xxmaj false xxbos xxmaj false xxbos així com la xifra de</td>\n",
       "    </tr>\n",
       "    <tr>\n",
       "      <td>4</td>\n",
       "      <td>xxbos xxmaj false xxbos va bombardejar i capturar xxmaj cartagena i xxmaj alacant . xxbos xxmaj false xxbos xxmaj false xxbos al sud - oest del xxmaj rieral de xxmaj bigues . xxbos cos dansant i arquitectura . xxbos xxmaj false xxbos xxmaj false xxbos xxmaj false xxbos xxmaj false xxbos mengen carronya xxbos xxmaj false xxbos i l' xxunk menorquí . xxbos xxmaj false xxbos xxmaj menorca i xxmaj</td>\n",
       "    </tr>\n",
       "  </tbody>\n",
       "</table>"
      ],
      "text/plain": [
       "<IPython.core.display.HTML object>"
      ]
     },
     "metadata": {},
     "output_type": "display_data"
    }
   ],
   "source": [
    "data_lm_full.show_batch()"
   ]
  },
  {
   "cell_type": "code",
   "execution_count": 9,
   "metadata": {},
   "outputs": [],
   "source": [
    "learn = language_model_learner(data_lm_full, arch=AWD_LSTM, drop_mult=0, callback_fns=ShowGraph)"
   ]
  },
  {
   "cell_type": "code",
   "execution_count": 10,
   "metadata": {
    "scrolled": true
   },
   "outputs": [
    {
     "data": {
      "text/html": [
       "\n",
       "    <div>\n",
       "        <style>\n",
       "            /* Turns off some styling */\n",
       "            progress {\n",
       "                /* gets rid of default border in Firefox and Opera. */\n",
       "                border: none;\n",
       "                /* Needs to be in here for Safari polyfill so background images work as expected. */\n",
       "                background-size: auto;\n",
       "            }\n",
       "            .progress-bar-interrupted, .progress-bar-interrupted::-webkit-progress-bar {\n",
       "                background: #F44336;\n",
       "            }\n",
       "        </style>\n",
       "      <progress value='0' class='' max='1' style='width:300px; height:20px; vertical-align: middle;'></progress>\n",
       "      0.00% [0/1 00:00<00:00]\n",
       "    </div>\n",
       "    \n",
       "<table border=\"1\" class=\"dataframe\">\n",
       "  <thead>\n",
       "    <tr style=\"text-align: left;\">\n",
       "      <th>epoch</th>\n",
       "      <th>train_loss</th>\n",
       "      <th>valid_loss</th>\n",
       "      <th>accuracy</th>\n",
       "      <th>time</th>\n",
       "    </tr>\n",
       "  </thead>\n",
       "  <tbody>\n",
       "  </tbody>\n",
       "</table><p>\n",
       "\n",
       "    <div>\n",
       "        <style>\n",
       "            /* Turns off some styling */\n",
       "            progress {\n",
       "                /* gets rid of default border in Firefox and Opera. */\n",
       "                border: none;\n",
       "                /* Needs to be in here for Safari polyfill so background images work as expected. */\n",
       "                background-size: auto;\n",
       "            }\n",
       "            .progress-bar-interrupted, .progress-bar-interrupted::-webkit-progress-bar {\n",
       "                background: #F44336;\n",
       "            }\n",
       "        </style>\n",
       "      <progress value='99' class='' max='3968' style='width:300px; height:20px; vertical-align: middle;'></progress>\n",
       "      2.49% [99/3968 01:05<42:36 8.0251]\n",
       "    </div>\n",
       "    "
      ],
      "text/plain": [
       "<IPython.core.display.HTML object>"
      ]
     },
     "metadata": {},
     "output_type": "display_data"
    },
    {
     "name": "stdout",
     "output_type": "stream",
     "text": [
      "LR Finder is complete, type {learner_name}.recorder.plot() to see the graph.\n"
     ]
    }
   ],
   "source": [
    "learn.lr_find()"
   ]
  },
  {
   "cell_type": "code",
   "execution_count": 72,
   "metadata": {},
   "outputs": [
    {
     "data": {
      "image/png": "[encoded data removed]",
      "text/plain": [
       "<Figure size 432x288 with 1 Axes>"
      ]
     },
     "metadata": {
      "needs_background": "light"
     },
     "output_type": "display_data"
    }
   ],
   "source": [
    "learn.recorder.plot()"
   ]
  },
  {
   "cell_type": "code",
   "execution_count": 73,
   "metadata": {},
   "outputs": [
    {
     "data": {
      "text/html": [
       "<table border=\"1\" class=\"dataframe\">\n",
       "  <thead>\n",
       "    <tr style=\"text-align: left;\">\n",
       "      <th>epoch</th>\n",
       "      <th>train_loss</th>\n",
       "      <th>valid_loss</th>\n",
       "      <th>accuracy</th>\n",
       "      <th>time</th>\n",
       "    </tr>\n",
       "  </thead>\n",
       "  <tbody>\n",
       "    <tr>\n",
       "      <td>0</td>\n",
       "      <td>2.516127</td>\n",
       "      <td>2.721565</td>\n",
       "      <td>0.531731</td>\n",
       "      <td>43:50</td>\n",
       "    </tr>\n",
       "  </tbody>\n",
       "</table>"
      ],
      "text/plain": [
       "<IPython.core.display.HTML object>"
      ]
     },
     "metadata": {},
     "output_type": "display_data"
    },
    {
     "data": {
      "image/png": "[encoded data removed]",
      "text/plain": [
       "<Figure size 432x288 with 1 Axes>"
      ]
     },
     "metadata": {},
     "output_type": "display_data"
    }
   ],
   "source": [
    "learn.fit_one_cycle(1, 1e-02)"
   ]
  },
  {
   "cell_type": "code",
   "execution_count": 74,
   "metadata": {},
   "outputs": [
    {
     "data": {
      "text/plain": [
       "15.20409804898121"
      ]
     },
     "execution_count": 74,
     "metadata": {},
     "output_type": "execute_result"
    }
   ],
   "source": [
    "np.exp(2.721565)"
   ]
  },
  {
   "cell_type": "code",
   "execution_count": 75,
   "metadata": {},
   "outputs": [],
   "source": [
    "learn.save('model-30k-vocab')"
   ]
  },
  {
   "cell_type": "markdown",
   "metadata": {},
   "source": [
    "# Finetuning a un classificador de text"
   ]
  },
  {
   "cell_type": "markdown",
   "metadata": {},
   "source": [
    "## Dataset: Notícies scrapejades amb el seu tipus"
   ]
  },
  {
   "cell_type": "code",
   "execution_count": 77,
   "metadata": {},
   "outputs": [
    {
     "data": {
      "text/html": [
       "<div>\n",
       "<style scoped>\n",
       "    .dataframe tbody tr th:only-of-type {\n",
       "        vertical-align: middle;\n",
       "    }\n",
       "\n",
       "    .dataframe tbody tr th {\n",
       "        vertical-align: top;\n",
       "    }\n",
       "\n",
       "    .dataframe thead th {\n",
       "        text-align: right;\n",
       "    }\n",
       "</style>\n",
       "<table border=\"1\" class=\"dataframe\">\n",
       "  <thead>\n",
       "    <tr style=\"text-align: right;\">\n",
       "      <th></th>\n",
       "      <th>Type</th>\n",
       "      <th>Article</th>\n",
       "    </tr>\n",
       "  </thead>\n",
       "  <tbody>\n",
       "    <tr>\n",
       "      <th>0</th>\n",
       "      <td>SPORTS</td>\n",
       "      <td>Una terrible calamarsada ha castigat aquest di...</td>\n",
       "    </tr>\n",
       "    <tr>\n",
       "      <th>1</th>\n",
       "      <td>SPORTS</td>\n",
       "      <td>La bona resposta de l'afició ha acabat donant ...</td>\n",
       "    </tr>\n",
       "    <tr>\n",
       "      <th>2</th>\n",
       "      <td>SPORTS</td>\n",
       "      <td>Frida Eldebrink i Giedre Labuckiene (foto) es ...</td>\n",
       "    </tr>\n",
       "    <tr>\n",
       "      <th>3</th>\n",
       "      <td>SPORTS</td>\n",
       "      <td>Barça i Bayern de Munic, els dos únics campion...</td>\n",
       "    </tr>\n",
       "    <tr>\n",
       "      <th>4</th>\n",
       "      <td>SPORTS</td>\n",
       "      <td>L'equip Racing Point de Fórmula 1 va anunciar ...</td>\n",
       "    </tr>\n",
       "    <tr>\n",
       "      <th>...</th>\n",
       "      <td>...</td>\n",
       "      <td>...</td>\n",
       "    </tr>\n",
       "    <tr>\n",
       "      <th>59</th>\n",
       "      <td>SALUT</td>\n",
       "      <td>Les comarques gironines han registrat 9.263 ca...</td>\n",
       "    </tr>\n",
       "    <tr>\n",
       "      <th>60</th>\n",
       "      <td>SALUT</td>\n",
       "      <td>Les proves clíniques de la vacuna contra la co...</td>\n",
       "    </tr>\n",
       "    <tr>\n",
       "      <th>61</th>\n",
       "      <td>SALUT</td>\n",
       "      <td>Un equip d'investigadors del Consell Superior ...</td>\n",
       "    </tr>\n",
       "    <tr>\n",
       "      <th>62</th>\n",
       "      <td>SALUT</td>\n",
       "      <td>Un estudi dirigit per la Charité - Universität...</td>\n",
       "    </tr>\n",
       "    <tr>\n",
       "      <th>63</th>\n",
       "      <td>SALUT</td>\n",
       "      <td>Beure líquids en abundància no és només un pro...</td>\n",
       "    </tr>\n",
       "  </tbody>\n",
       "</table>\n",
       "<p>64 rows × 2 columns</p>\n",
       "</div>"
      ],
      "text/plain": [
       "      Type                                            Article\n",
       "0   SPORTS  Una terrible calamarsada ha castigat aquest di...\n",
       "1   SPORTS  La bona resposta de l'afició ha acabat donant ...\n",
       "2   SPORTS  Frida Eldebrink i Giedre Labuckiene (foto) es ...\n",
       "3   SPORTS  Barça i Bayern de Munic, els dos únics campion...\n",
       "4   SPORTS  L'equip Racing Point de Fórmula 1 va anunciar ...\n",
       "..     ...                                                ...\n",
       "59   SALUT  Les comarques gironines han registrat 9.263 ca...\n",
       "60   SALUT  Les proves clíniques de la vacuna contra la co...\n",
       "61   SALUT  Un equip d'investigadors del Consell Superior ...\n",
       "62   SALUT  Un estudi dirigit per la Charité - Universität...\n",
       "63   SALUT  Beure líquids en abundància no és només un pro...\n",
       "\n",
       "[64 rows x 2 columns]"
      ]
     },
     "execution_count": 77,
     "metadata": {},
     "output_type": "execute_result"
    }
   ],
   "source": [
    "data = pd.read_csv('data.csv', delimiter='|', error_bad_lines=False)\n",
    "data"
   ]
  },
  {
   "cell_type": "code",
   "execution_count": 20,
   "metadata": {},
   "outputs": [
    {
     "data": {
      "text/plain": [
       "(64, 2)"
      ]
     },
     "execution_count": 20,
     "metadata": {},
     "output_type": "execute_result"
    }
   ],
   "source": [
    "data.shape"
   ]
  },
  {
   "cell_type": "code",
   "execution_count": 78,
   "metadata": {},
   "outputs": [],
   "source": [
    "data['Article'] = data['Article'].str.replace(\"[^a-zA-Z]\", \" \")\n",
    "data = data.dropna()\n",
    "data.to_csv(os.path.join(PATH, 'train_news.csv'), header=None, index=None)"
   ]
  },
  {
   "cell_type": "markdown",
   "metadata": {},
   "source": [
    "## Preprocessing: Tokenitzar i estandaritzarització"
   ]
  },
  {
   "cell_type": "code",
   "execution_count": 79,
   "metadata": {},
   "outputs": [],
   "source": [
    "PATH_LM = Path('.')\n",
    "PATH_CS = Path('.')"
   ]
  },
  {
   "cell_type": "code",
   "execution_count": 80,
   "metadata": {},
   "outputs": [
    {
     "data": {
      "text/html": [],
      "text/plain": [
       "<IPython.core.display.HTML object>"
      ]
     },
     "metadata": {},
     "output_type": "display_data"
    },
    {
     "name": "stderr",
     "output_type": "stream",
     "text": [
      "/home/adria/DeepCatalan/env/lib/python3.7/site-packages/fastai/core.py:302: VisibleDeprecationWarning: Creating an ndarray from ragged nested sequences (which is a list-or-tuple of lists-or-tuples-or ndarrays with different lengths or shapes) is deprecated. If you meant to do this, you must specify 'dtype=object' when creating the ndarray\n",
      "  return np.array(a, dtype=dtype, **kwargs)\n"
     ]
    },
    {
     "data": {
      "text/html": [],
      "text/plain": [
       "<IPython.core.display.HTML object>"
      ]
     },
     "metadata": {},
     "output_type": "display_data"
    }
   ],
   "source": [
    "tokenizer = Tokenizer(lang='ca', n_cpus=6)\n",
    "data_lm = TextLMDataBunch.from_csv(PATH_LM, tokenizer=tokenizer, bs=16, csv_name='train_news.csv')"
   ]
  },
  {
   "cell_type": "code",
   "execution_count": 81,
   "metadata": {},
   "outputs": [],
   "source": [
    "data_lm.save('data_lm')"
   ]
  },
  {
   "cell_type": "code",
   "execution_count": 82,
   "metadata": {},
   "outputs": [],
   "source": [
    "data_lm = load_data(PATH_LM, 'data_lm', bs=64)"
   ]
  },
  {
   "cell_type": "markdown",
   "metadata": {},
   "source": [
    "## Carregar els weights del Language Model"
   ]
  },
  {
   "cell_type": "code",
   "execution_count": 88,
   "metadata": {},
   "outputs": [],
   "source": [
    "weights_pretrained='model-30k-vocab'\n",
    "itos_pretrained='itos'\n",
    "pretrained_data=(weights_pretrained, itos_pretrained)"
   ]
  },
  {
   "cell_type": "code",
   "execution_count": 89,
   "metadata": {},
   "outputs": [],
   "source": [
    "learn = language_model_learner(data_lm, AWD_LSTM, pretrained_fnames=pretrained_data, drop_mult=0)\n",
    "learn.freeze()"
   ]
  },
  {
   "cell_type": "markdown",
   "metadata": {},
   "source": [
    "## Finetuning del Language Model en la nostra data"
   ]
  },
  {
   "cell_type": "markdown",
   "metadata": {},
   "source": [
    "Primer, abans d'entrenar el classificador (només fent servir l'encoder) fem *fine-tuning* amb la nostra data. Tot i que el model ha estat entrenat amb un dataset de domini-general molt divers, probablement la nostra data té una distribució diferent."
   ]
  },
  {
   "cell_type": "code",
   "execution_count": 90,
   "metadata": {},
   "outputs": [
    {
     "data": {
      "text/html": [
       "\n",
       "    <div>\n",
       "        <style>\n",
       "            /* Turns off some styling */\n",
       "            progress {\n",
       "                /* gets rid of default border in Firefox and Opera. */\n",
       "                border: none;\n",
       "                /* Needs to be in here for Safari polyfill so background images work as expected. */\n",
       "                background-size: auto;\n",
       "            }\n",
       "            .progress-bar-interrupted, .progress-bar-interrupted::-webkit-progress-bar {\n",
       "                background: #F44336;\n",
       "            }\n",
       "        </style>\n",
       "      <progress value='16' class='' max='17' style='width:300px; height:20px; vertical-align: middle;'></progress>\n",
       "      94.12% [16/17 01:20<00:05]\n",
       "    </div>\n",
       "    \n",
       "<table border=\"1\" class=\"dataframe\">\n",
       "  <thead>\n",
       "    <tr style=\"text-align: left;\">\n",
       "      <th>epoch</th>\n",
       "      <th>train_loss</th>\n",
       "      <th>valid_loss</th>\n",
       "      <th>accuracy</th>\n",
       "      <th>time</th>\n",
       "    </tr>\n",
       "  </thead>\n",
       "  <tbody>\n",
       "    <tr>\n",
       "      <td>0</td>\n",
       "      <td>7.504633</td>\n",
       "      <td>#na#</td>\n",
       "      <td>00:05</td>\n",
       "    </tr>\n",
       "    <tr>\n",
       "      <td>1</td>\n",
       "      <td>7.506414</td>\n",
       "      <td>#na#</td>\n",
       "      <td>00:05</td>\n",
       "    </tr>\n",
       "    <tr>\n",
       "      <td>2</td>\n",
       "      <td>7.506969</td>\n",
       "      <td>#na#</td>\n",
       "      <td>00:05</td>\n",
       "    </tr>\n",
       "    <tr>\n",
       "      <td>3</td>\n",
       "      <td>7.507789</td>\n",
       "      <td>#na#</td>\n",
       "      <td>00:05</td>\n",
       "    </tr>\n",
       "    <tr>\n",
       "      <td>4</td>\n",
       "      <td>7.506356</td>\n",
       "      <td>#na#</td>\n",
       "      <td>00:05</td>\n",
       "    </tr>\n",
       "    <tr>\n",
       "      <td>5</td>\n",
       "      <td>7.505044</td>\n",
       "      <td>#na#</td>\n",
       "      <td>00:05</td>\n",
       "    </tr>\n",
       "    <tr>\n",
       "      <td>6</td>\n",
       "      <td>7.501690</td>\n",
       "      <td>#na#</td>\n",
       "      <td>00:05</td>\n",
       "    </tr>\n",
       "    <tr>\n",
       "      <td>7</td>\n",
       "      <td>7.487797</td>\n",
       "      <td>#na#</td>\n",
       "      <td>00:05</td>\n",
       "    </tr>\n",
       "    <tr>\n",
       "      <td>8</td>\n",
       "      <td>7.450367</td>\n",
       "      <td>#na#</td>\n",
       "      <td>00:05</td>\n",
       "    </tr>\n",
       "    <tr>\n",
       "      <td>9</td>\n",
       "      <td>7.354790</td>\n",
       "      <td>#na#</td>\n",
       "      <td>00:05</td>\n",
       "    </tr>\n",
       "    <tr>\n",
       "      <td>10</td>\n",
       "      <td>7.166472</td>\n",
       "      <td>#na#</td>\n",
       "      <td>00:05</td>\n",
       "    </tr>\n",
       "    <tr>\n",
       "      <td>11</td>\n",
       "      <td>6.860631</td>\n",
       "      <td>#na#</td>\n",
       "      <td>00:05</td>\n",
       "    </tr>\n",
       "    <tr>\n",
       "      <td>12</td>\n",
       "      <td>6.471553</td>\n",
       "      <td>#na#</td>\n",
       "      <td>00:05</td>\n",
       "    </tr>\n",
       "    <tr>\n",
       "      <td>13</td>\n",
       "      <td>6.068403</td>\n",
       "      <td>#na#</td>\n",
       "      <td>00:05</td>\n",
       "    </tr>\n",
       "    <tr>\n",
       "      <td>14</td>\n",
       "      <td>5.778819</td>\n",
       "      <td>#na#</td>\n",
       "      <td>00:05</td>\n",
       "    </tr>\n",
       "    <tr>\n",
       "      <td>15</td>\n",
       "      <td>6.212046</td>\n",
       "      <td>#na#</td>\n",
       "      <td>00:05</td>\n",
       "    </tr>\n",
       "  </tbody>\n",
       "</table><p>\n",
       "\n",
       "    <div>\n",
       "        <style>\n",
       "            /* Turns off some styling */\n",
       "            progress {\n",
       "                /* gets rid of default border in Firefox and Opera. */\n",
       "                border: none;\n",
       "                /* Needs to be in here for Safari polyfill so background images work as expected. */\n",
       "                background-size: auto;\n",
       "            }\n",
       "            .progress-bar-interrupted, .progress-bar-interrupted::-webkit-progress-bar {\n",
       "                background: #F44336;\n",
       "            }\n",
       "        </style>\n",
       "      <progress value='3' class='' max='6' style='width:300px; height:20px; vertical-align: middle;'></progress>\n",
       "      50.00% [3/6 00:02<00:02 7.8489]\n",
       "    </div>\n",
       "    "
      ],
      "text/plain": [
       "<IPython.core.display.HTML object>"
      ]
     },
     "metadata": {},
     "output_type": "display_data"
    },
    {
     "name": "stdout",
     "output_type": "stream",
     "text": [
      "LR Finder is complete, type {learner_name}.recorder.plot() to see the graph.\n"
     ]
    },
    {
     "data": {
      "image/png": "[encoded data removed]",
      "text/plain": [
       "<Figure size 432x288 with 1 Axes>"
      ]
     },
     "metadata": {
      "needs_background": "light"
     },
     "output_type": "display_data"
    }
   ],
   "source": [
    "learn.lr_find()\n",
    "learn.recorder.plot(skip_start=0)"
   ]
  },
  {
   "cell_type": "code",
   "execution_count": null,
   "metadata": {},
   "outputs": [],
   "source": [
    "learn.fit_one_cycle(1,1e-2)"
   ]
  },
  {
   "cell_type": "code",
   "execution_count": null,
   "metadata": {},
   "outputs": [],
   "source": [
    "learn.save('head_pretrained')"
   ]
  },
  {
   "cell_type": "code",
   "execution_count": null,
   "metadata": {},
   "outputs": [],
   "source": [
    "learn.unfreeze()\n",
    "learn.fit_one_cycle(2, 1e-3, moms=(0.8,0.7))"
   ]
  },
  {
   "cell_type": "code",
   "execution_count": null,
   "metadata": {},
   "outputs": [],
   "source": [
    "learn.save('lm_fine_tuned')\n",
    "learn.save_encoder('ft_enc')"
   ]
  },
  {
   "cell_type": "markdown",
   "metadata": {},
   "source": [
    "## Finetuning de l'encoder"
   ]
  },
  {
   "cell_type": "markdown",
   "metadata": {},
   "source": [
    "Ara toca entrenar el classificador utilitzant només l'encoder. "
   ]
  },
  {
   "cell_type": "code",
   "execution_count": null,
   "metadata": {},
   "outputs": [],
   "source": [
    "data_class = TextClassDataBunch.from_csv(PATH_CS, vocab=data_lm.train_ds.vocab, bs=16, csv_name='new_train.csv', tokenizer=tokenizer)"
   ]
  },
  {
   "cell_type": "code",
   "execution_count": null,
   "metadata": {},
   "outputs": [],
   "source": [
    "learn = text_classifier_learner(data_class, AWD_LSTM, drop_mult=0.3)\n",
    "learn.load_encoder('ft_enc')\n",
    "learn.freeze"
   ]
  },
  {
   "cell_type": "code",
   "execution_count": null,
   "metadata": {},
   "outputs": [],
   "source": [
    "learn.lr_find()\n",
    "learn.recorder.plot(skip_strat=0)"
   ]
  },
  {
   "cell_type": "code",
   "execution_count": 91,
   "metadata": {},
   "outputs": [
    {
     "data": {
      "text/plain": [
       "SequentialRNN(\n",
       "  (0): AWD_LSTM(\n",
       "    (encoder): Embedding(2152, 400, padding_idx=1)\n",
       "    (encoder_dp): EmbeddingDropout(\n",
       "      (emb): Embedding(2152, 400, padding_idx=1)\n",
       "    )\n",
       "    (rnns): ModuleList(\n",
       "      (0): WeightDropout(\n",
       "        (module): LSTM(400, 1152, batch_first=True)\n",
       "      )\n",
       "      (1): WeightDropout(\n",
       "        (module): LSTM(1152, 1152, batch_first=True)\n",
       "      )\n",
       "      (2): WeightDropout(\n",
       "        (module): LSTM(1152, 400, batch_first=True)\n",
       "      )\n",
       "    )\n",
       "    (input_dp): RNNDropout()\n",
       "    (hidden_dps): ModuleList(\n",
       "      (0): RNNDropout()\n",
       "      (1): RNNDropout()\n",
       "      (2): RNNDropout()\n",
       "    )\n",
       "  )\n",
       "  (1): LinearDecoder(\n",
       "    (decoder): Linear(in_features=400, out_features=2152, bias=True)\n",
       "    (output_dp): RNNDropout()\n",
       "  )\n",
       ")"
      ]
     },
     "execution_count": 91,
     "metadata": {},
     "output_type": "execute_result"
    }
   ],
   "source": [
    "learn.model"
   ]
  },
  {
   "cell_type": "code",
   "execution_count": null,
   "metadata": {},
   "outputs": [],
   "source": [
    "learn.fit_one_cycle(2, 1e-2, moms(0.8,0.7))"
   ]
  },
  {
   "cell_type": "code",
   "execution_count": null,
   "metadata": {},
   "outputs": [],
   "source": [
    "learn.freeze_to(-2)\n",
    "learn.fit_one_cycle(1, slice(1e-2/(2.6**4), 1e-2), moms=(0.8,0.7))"
   ]
  },
  {
   "cell_type": "code",
   "execution_count": null,
   "metadata": {},
   "outputs": [],
   "source": [
    "learn.freeze_to(-3)\n",
    "learn.fit_once_cycle(1, slice(5e-3/(2.6**4), 5e-3), momds=(0.8,0.7))"
   ]
  },
  {
   "cell_type": "code",
   "execution_count": null,
   "metadata": {},
   "outputs": [],
   "source": [
    "learn.unfreeze()\n",
    "learn.fit_once_cycle(2, slice(1e-3/(2.6**4), 1e-3), momds=(0.8,0.7))"
   ]
  }
 ],
 "metadata": {
  "kernelspec": {
   "display_name": "mykernel",
   "language": "python",
   "name": "mykernel"
  },
  "language_info": {
   "codemirror_mode": {
    "name": "ipython",
    "version": 3
   },
   "file_extension": ".py",
   "mimetype": "text/x-python",
   "name": "python",
   "nbconvert_exporter": "python",
   "pygments_lexer": "ipython3",
   "version": "3.7.4"
  }
 },
 "nbformat": 4,
 "nbformat_minor": 4
}
